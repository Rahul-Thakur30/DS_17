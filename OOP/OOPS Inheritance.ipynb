{
 "cells": [
  {
   "cell_type": "code",
   "execution_count": 1,
   "id": "0ae65bdd",
   "metadata": {},
   "outputs": [],
   "source": [
    "class Employee:\n",
    "    emp_count = 0\n",
    "    def __init__(self,emp_id,name,salary,department,designation,contact,gender):\n",
    "        self.emp_id = emp_id\n",
    "        self.name = name\n",
    "        self.salary = salary\n",
    "        self.department = department\n",
    "        self.designation =  designation\n",
    "        self.contact = contact\n",
    "        self.gender = gender\n",
    "\n",
    "\n",
    "        Employee.emp_count+=1\n",
    "    \n",
    "    def display_emp_details(self):\n",
    "        print(\"EMP_ID:{}\\nNAME:{}\\nSALARY:{}\\nDEPARTMENT:{}\\nDESIGNATION:{}\\nCONTACT:{}\\nGENDER:{}\".format(self.emp_id,self.name,self.salary,self.department,self.designation,self.contact,self.gender))\n",
    "        \n",
    "        \n",
    "        \n",
    "        "
   ]
  },
  {
   "cell_type": "code",
   "execution_count": 2,
   "id": "6bb8616f",
   "metadata": {},
   "outputs": [],
   "source": [
    "class Manager(Employee):\n",
    "    def __init__(self,emp_id,name,salary,department,contact,gender,num_of_subordinates):\n",
    "        Employee.__init__(self,emp_id,name,salary,department,\"Manager\",contact,gender)\n",
    "        self.num_of_subordinates = num_of_subordinates\n",
    "        \n",
    "    def display_emp_details(self):\n",
    "        Employee.display_emp_details(self)\n",
    "        print(\"SUBORDINATES\",self.num_of_subordinates)"
   ]
  },
  {
   "cell_type": "code",
   "execution_count": 5,
   "id": "10fbe3e0",
   "metadata": {},
   "outputs": [],
   "source": [
    "class Director(Employee):\n",
    "    def __init__(self,emp_id,name,salary,department,contact,gender,num_of_managers):\n",
    "        Employee.__init__(self,emp_id,name,salary,department,\"Director\",contact,gender)\n",
    "        self.num_of_managers = num_of_managers\n",
    "    def display_emp_details(self):\n",
    "        Employee.display_emp_details(self)\n",
    "        print(\"NUM_OF_MANAGERS\",self.num_of_managers)"
   ]
  },
  {
   "cell_type": "code",
   "execution_count": 6,
   "id": "f08c392e",
   "metadata": {},
   "outputs": [],
   "source": [
    "vinu = Director(10,\"Vinu\",\"35LPA\",\"Product\",\"W#$R$5434\",\"M\",4)"
   ]
  },
  {
   "cell_type": "code",
   "execution_count": 7,
   "id": "c6c22525",
   "metadata": {},
   "outputs": [
    {
     "name": "stdout",
     "output_type": "stream",
     "text": [
      "EMP_ID:10\n",
      "NAME:Vinu\n",
      "SALARY:35LPA\n",
      "DEPARTMENT:Product\n",
      "DESIGNATION:Director\n",
      "CONTACT:W#$R$5434\n",
      "GENDER:M\n",
      "NUM_OF_MANAGERS 4\n"
     ]
    }
   ],
   "source": [
    "vinu.display_emp_details()"
   ]
  },
  {
   "cell_type": "code",
   "execution_count": 63,
   "id": "bea7e719",
   "metadata": {},
   "outputs": [],
   "source": [
    "bharat = Manager(1,\"Bharat\",\"20LPA\",\"Product\",\"34525235\",\"M\",10)"
   ]
  },
  {
   "cell_type": "code",
   "execution_count": 64,
   "id": "27805012",
   "metadata": {},
   "outputs": [
    {
     "name": "stdout",
     "output_type": "stream",
     "text": [
      "EMP_ID:1\n",
      "NAME:Bharat\n",
      "SALARY:20LPA\n",
      "DEPARTMENT:Product\n",
      "DESIGNATION:Manager\n",
      "CONTACT:34525235\n",
      "GENDER:M\n",
      "SUBORDINATES 10\n"
     ]
    }
   ],
   "source": [
    "bharat.display_emp_details()"
   ]
  },
  {
   "cell_type": "code",
   "execution_count": null,
   "id": "4981f05d",
   "metadata": {},
   "outputs": [],
   "source": []
  },
  {
   "cell_type": "code",
   "execution_count": 20,
   "id": "a01ba094",
   "metadata": {},
   "outputs": [],
   "source": [
    "shubham = Employee(1,\"Shubham\",\"12LPA\",\"Product\",\"SDE1\",\"2348458234\",\"M\")"
   ]
  },
  {
   "cell_type": "code",
   "execution_count": 26,
   "id": "87ea9197",
   "metadata": {},
   "outputs": [
    {
     "name": "stdout",
     "output_type": "stream",
     "text": [
      "EMP_ID:1\n",
      "NAME:Shubham\n",
      "SALARY:12LPA\n",
      "DEPARTMENT:Product\n",
      "DESIGNATION:SDE1\n",
      "CONTACT:2348458234\n",
      "GENDER:M\n",
      "\n"
     ]
    }
   ],
   "source": [
    "shubham.display_emp_details()"
   ]
  },
  {
   "cell_type": "code",
   "execution_count": null,
   "id": "b8069819",
   "metadata": {},
   "outputs": [],
   "source": []
  },
  {
   "cell_type": "code",
   "execution_count": 27,
   "id": "08b9685d",
   "metadata": {},
   "outputs": [
    {
     "name": "stdout",
     "output_type": "stream",
     "text": [
      "EMP_ID:1\n",
      "NAME:Shubham\n",
      "SALARY:12LPA\n",
      "DEPARTMENT:Product\n",
      "DESIGNATION:SDE1\n",
      "CONTACT:2348458234\n",
      "GENDER:M\n",
      "\n"
     ]
    }
   ],
   "source": [
    "Employee.display_emp_details(shubham)"
   ]
  },
  {
   "cell_type": "code",
   "execution_count": null,
   "id": "7b5f25dc",
   "metadata": {},
   "outputs": [],
   "source": []
  },
  {
   "cell_type": "code",
   "execution_count": 21,
   "id": "d195489c",
   "metadata": {},
   "outputs": [
    {
     "data": {
      "text/plain": [
       "1"
      ]
     },
     "execution_count": 21,
     "metadata": {},
     "output_type": "execute_result"
    }
   ],
   "source": [
    "shubham.emp_count"
   ]
  },
  {
   "cell_type": "code",
   "execution_count": 22,
   "id": "57ffd96b",
   "metadata": {},
   "outputs": [],
   "source": [
    "namratha = Employee(2,\"Namrata\",\"12LPA\",\"Product\",\"SDE1\",\"214152535345\",\"F\")"
   ]
  },
  {
   "cell_type": "code",
   "execution_count": 23,
   "id": "66c68ced",
   "metadata": {},
   "outputs": [
    {
     "data": {
      "text/plain": [
       "2"
      ]
     },
     "execution_count": 23,
     "metadata": {},
     "output_type": "execute_result"
    }
   ],
   "source": [
    "namratha.emp_count"
   ]
  },
  {
   "cell_type": "code",
   "execution_count": 24,
   "id": "2d1287f8",
   "metadata": {},
   "outputs": [
    {
     "data": {
      "text/plain": [
       "2"
      ]
     },
     "execution_count": 24,
     "metadata": {},
     "output_type": "execute_result"
    }
   ],
   "source": [
    "shubham.emp_count"
   ]
  },
  {
   "cell_type": "code",
   "execution_count": 7,
   "id": "dbc22ff3",
   "metadata": {},
   "outputs": [
    {
     "name": "stdout",
     "output_type": "stream",
     "text": [
      "EMP_ID:1\n",
      "NAME:Shubham\n",
      "SALARY:12LPA\n",
      "DEPARTMENT:Product\n",
      "DESIGNATION:SDE1\n",
      "CONTACT:2348458234\n",
      "GENDER:M\n",
      "\n"
     ]
    }
   ],
   "source": [
    "shubham.display_emp_details()"
   ]
  },
  {
   "cell_type": "code",
   "execution_count": 8,
   "id": "80c570fd",
   "metadata": {},
   "outputs": [
    {
     "name": "stdout",
     "output_type": "stream",
     "text": [
      "EMP_ID:2\n",
      "NAME:Namrata\n",
      "SALARY:12LPA\n",
      "DEPARTMENT:Product\n",
      "DESIGNATION:SDE1\n",
      "CONTACT:214152535345\n",
      "GENDER:F\n",
      "\n"
     ]
    }
   ],
   "source": [
    "namratha.display_emp_details()"
   ]
  },
  {
   "cell_type": "markdown",
   "id": "2f8944fa",
   "metadata": {},
   "source": [
    "Create a class Student of Edyoda institute.where every object stores details of that student .\n",
    "Also have a display_student_details method to get details of student.\n",
    "Have a class variable institute_name as \"Edyoda\"\n",
    "Create student id on the basis of the number of objects/students that have been created so far\n",
    "\n",
    "shubham: student_id = 1\n",
    "rahul: student_id = 2\n",
    "namratha = student_id = 3\n"
   ]
  },
  {
   "cell_type": "code",
   "execution_count": 38,
   "id": "d9f68dfa",
   "metadata": {},
   "outputs": [],
   "source": [
    "class Student:\n",
    "    institute_name = \"Edyoda\"\n",
    "    student_count = 1\n",
    "    def __init__(self,name,age,degree):\n",
    "        self.student_id = Student.student_count\n",
    "        Student.student_count+=1\n",
    "        self.name = name\n",
    "        self.age = age\n",
    "        self.degree = degree\n",
    "        self.institute = Student.institute_name\n",
    "        \n",
    "    def display_student_details(self):\n",
    "        print(\"student_id : {}\\nname : {}\\nage : {}\\ndegree : {}\\ninstitue : {}\".format(self.student_id,self.name,self.age,self.degree,self.institute))"
   ]
  },
  {
   "cell_type": "code",
   "execution_count": 39,
   "id": "216e8321",
   "metadata": {},
   "outputs": [],
   "source": [
    "shubham = Student(\"Shubham\",22,\"BTech\")\n"
   ]
  },
  {
   "cell_type": "code",
   "execution_count": 40,
   "id": "4e6fe5fe",
   "metadata": {},
   "outputs": [
    {
     "name": "stdout",
     "output_type": "stream",
     "text": [
      "student_id : 1\n",
      "name : Shubham\n",
      "age : 22\n",
      "degree : BTech\n",
      "institue : Edyoda\n"
     ]
    }
   ],
   "source": [
    "shubham.display_student_details()"
   ]
  },
  {
   "cell_type": "code",
   "execution_count": 41,
   "id": "a99cdb6b",
   "metadata": {},
   "outputs": [],
   "source": [
    "sathwik = Student(\"Sathwik\",22,\"Bachelors\")"
   ]
  },
  {
   "cell_type": "code",
   "execution_count": 42,
   "id": "a9795c54",
   "metadata": {},
   "outputs": [
    {
     "name": "stdout",
     "output_type": "stream",
     "text": [
      "student_id : 2\n",
      "name : Sathwik\n",
      "age : 22\n",
      "degree : Bachelors\n",
      "institue : Edyoda\n"
     ]
    }
   ],
   "source": [
    "sathwik.display_student_details()"
   ]
  },
  {
   "cell_type": "code",
   "execution_count": 43,
   "id": "320012d9",
   "metadata": {},
   "outputs": [],
   "source": [
    "rahul = Student(\"Rahul\",26,\"Btech\")"
   ]
  },
  {
   "cell_type": "code",
   "execution_count": 44,
   "id": "cbf2ccb7",
   "metadata": {},
   "outputs": [
    {
     "name": "stdout",
     "output_type": "stream",
     "text": [
      "student_id : 3\n",
      "name : Rahul\n",
      "age : 26\n",
      "degree : Btech\n",
      "institue : Edyoda\n"
     ]
    }
   ],
   "source": [
    "rahul.display_student_details()"
   ]
  },
  {
   "cell_type": "markdown",
   "id": "93cb78f8",
   "metadata": {},
   "source": [
    "## Execution order in case of multiple inheritance"
   ]
  },
  {
   "cell_type": "code",
   "execution_count": 18,
   "id": "9350f953",
   "metadata": {},
   "outputs": [],
   "source": [
    "class A:\n",
    "    def m1(self):\n",
    "        print(\"A class method called\")\n",
    "class B:\n",
    "    def m1(self):\n",
    "        print(\"B class method called\")\n",
    "\n",
    "class C(A,B):\n",
    "    pass"
   ]
  },
  {
   "cell_type": "code",
   "execution_count": 19,
   "id": "4b81d8b9",
   "metadata": {},
   "outputs": [],
   "source": [
    "c = C()"
   ]
  },
  {
   "cell_type": "code",
   "execution_count": 20,
   "id": "9aa1f96d",
   "metadata": {},
   "outputs": [
    {
     "name": "stdout",
     "output_type": "stream",
     "text": [
      "A class method called\n"
     ]
    }
   ],
   "source": [
    "c.m1()"
   ]
  },
  {
   "cell_type": "code",
   "execution_count": null,
   "id": "9a6a1a43",
   "metadata": {},
   "outputs": [],
   "source": []
  },
  {
   "cell_type": "code",
   "execution_count": null,
   "id": "75406b35",
   "metadata": {},
   "outputs": [],
   "source": []
  },
  {
   "cell_type": "code",
   "execution_count": 43,
   "id": "157bb0e0",
   "metadata": {},
   "outputs": [],
   "source": [
    "class Students:\n",
    "    institute = \"Edyoda\"\n",
    "    def __init__(self,name,age):\n",
    "        self.name = name\n",
    "        self.age = age\n",
    "    \n",
    "    def display_student(self):\n",
    "        print(\"Name: \",self.name)\n",
    "        print(\"Age: \",self.age)\n",
    "        print(\"Institute: \",Students.institute)\n",
    "    \n",
    "    def update_institute(self,institute):\n",
    "        Students.institute=institute"
   ]
  },
  {
   "cell_type": "code",
   "execution_count": 44,
   "id": "bc580b8e",
   "metadata": {},
   "outputs": [],
   "source": [
    "st1 = Students(\"Jafar\",22)"
   ]
  },
  {
   "cell_type": "code",
   "execution_count": 45,
   "id": "b78564e5",
   "metadata": {},
   "outputs": [
    {
     "name": "stdout",
     "output_type": "stream",
     "text": [
      "Name:  Jafar\n",
      "Age:  22\n",
      "Institute:  Edyoda\n"
     ]
    }
   ],
   "source": [
    "st1.display_student()"
   ]
  },
  {
   "cell_type": "code",
   "execution_count": 46,
   "id": "1612110f",
   "metadata": {},
   "outputs": [],
   "source": [
    "st1.update_institute(\"XYZ\")"
   ]
  },
  {
   "cell_type": "code",
   "execution_count": 47,
   "id": "c77fb7ef",
   "metadata": {},
   "outputs": [
    {
     "name": "stdout",
     "output_type": "stream",
     "text": [
      "Name:  Jafar\n",
      "Age:  22\n",
      "Institute:  XYZ\n"
     ]
    }
   ],
   "source": [
    "st1.display_student()"
   ]
  },
  {
   "cell_type": "code",
   "execution_count": 40,
   "id": "04dfd61e",
   "metadata": {},
   "outputs": [
    {
     "data": {
      "text/plain": [
       "'XYZ'"
      ]
     },
     "execution_count": 40,
     "metadata": {},
     "output_type": "execute_result"
    }
   ],
   "source": [
    "st1.institute"
   ]
  },
  {
   "cell_type": "code",
   "execution_count": 41,
   "id": "454df1c4",
   "metadata": {},
   "outputs": [
    {
     "data": {
      "text/plain": [
       "'Edyoda'"
      ]
     },
     "execution_count": 41,
     "metadata": {},
     "output_type": "execute_result"
    }
   ],
   "source": [
    "Students.institute"
   ]
  },
  {
   "cell_type": "code",
   "execution_count": 42,
   "id": "af9d835b",
   "metadata": {},
   "outputs": [
    {
     "ename": "AttributeError",
     "evalue": "type object 'Students' has no attribute 'age'",
     "output_type": "error",
     "traceback": [
      "\u001b[1;31m---------------------------------------------------------------------------\u001b[0m",
      "\u001b[1;31mAttributeError\u001b[0m                            Traceback (most recent call last)",
      "Input \u001b[1;32mIn [42]\u001b[0m, in \u001b[0;36m<cell line: 1>\u001b[1;34m()\u001b[0m\n\u001b[1;32m----> 1\u001b[0m \u001b[43mStudents\u001b[49m\u001b[38;5;241;43m.\u001b[39;49m\u001b[43mage\u001b[49m\n",
      "\u001b[1;31mAttributeError\u001b[0m: type object 'Students' has no attribute 'age'"
     ]
    }
   ],
   "source": [
    "Students.age"
   ]
  },
  {
   "cell_type": "code",
   "execution_count": 110,
   "id": "e4d53ded",
   "metadata": {},
   "outputs": [],
   "source": [
    "class Lion:\n",
    "    habitat = \"savannah\"\n",
    "    def __init__(self):\n",
    "        self.habitat = \"savannah\"\n",
    "        self.weight = \"150kg\"\n",
    "        \n",
    "    def print_details(self):\n",
    "        print(\"Lion Weight = \",self.weight)\n",
    "class Tiger:\n",
    "    def __init__(self):\n",
    "        self.habitat = \"sundarban\"\n",
    "        self.weight = \"120kg\"\n",
    "    \n",
    "    def print_details(self):\n",
    "        print(\"Tiger Weight = \",self.weight)\n",
    "        \n",
    "class Liger_Super(Lion,Tiger):\n",
    "    def __init__(self):\n",
    "        Lion.__init__(self)\n",
    "        Tiger.__init__(self)\n",
    "        self.weight = \"240kg\"\n",
    "        \n",
    "    def print_details(self):\n",
    "        print(\"Liger weight: \",self.weight)\n",
    "        print(\"Liger Habitat: \",self.habitat)\n",
    "        \n",
    "class Liger_Medium(Liger_Super):\n",
    "    def __init__(self):\n",
    "        self.weight = \"135kg\"\n",
    "        \n",
    "class Liger_Small_Cat(Liger_Medium):\n",
    "    def __init__(self):\n",
    "        self.weight = \"50kg\""
   ]
  },
  {
   "cell_type": "code",
   "execution_count": 111,
   "id": "158f9445",
   "metadata": {},
   "outputs": [],
   "source": [
    "liger_super = Liger_Super()"
   ]
  },
  {
   "cell_type": "code",
   "execution_count": 112,
   "id": "7cd127f5",
   "metadata": {},
   "outputs": [
    {
     "name": "stdout",
     "output_type": "stream",
     "text": [
      "Liger weight:  240kg\n",
      "Liger Habitat:  sundarban\n"
     ]
    }
   ],
   "source": [
    "liger_super.print_details()"
   ]
  },
  {
   "cell_type": "code",
   "execution_count": null,
   "id": "4351b30e",
   "metadata": {},
   "outputs": [],
   "source": []
  },
  {
   "cell_type": "code",
   "execution_count": 57,
   "id": "ef7aa390",
   "metadata": {},
   "outputs": [],
   "source": [
    "liger_small_cat = Liger_Small_Cat()"
   ]
  },
  {
   "cell_type": "code",
   "execution_count": 58,
   "id": "298e6fad",
   "metadata": {},
   "outputs": [
    {
     "name": "stdout",
     "output_type": "stream",
     "text": [
      "Liger weight:  50kg\n"
     ]
    },
    {
     "ename": "AttributeError",
     "evalue": "'super' object has no attribute 'habitat'",
     "output_type": "error",
     "traceback": [
      "\u001b[1;31m---------------------------------------------------------------------------\u001b[0m",
      "\u001b[1;31mAttributeError\u001b[0m                            Traceback (most recent call last)",
      "Input \u001b[1;32mIn [58]\u001b[0m, in \u001b[0;36m<cell line: 1>\u001b[1;34m()\u001b[0m\n\u001b[1;32m----> 1\u001b[0m \u001b[43mliger_small_cat\u001b[49m\u001b[38;5;241;43m.\u001b[39;49m\u001b[43mprint_details\u001b[49m\u001b[43m(\u001b[49m\u001b[43m)\u001b[49m\n",
      "Input \u001b[1;32mIn [56]\u001b[0m, in \u001b[0;36mLiger_Super.print_details\u001b[1;34m(self)\u001b[0m\n\u001b[0;32m     19\u001b[0m \u001b[38;5;28;01mdef\u001b[39;00m \u001b[38;5;21mprint_details\u001b[39m(\u001b[38;5;28mself\u001b[39m):\n\u001b[0;32m     20\u001b[0m     \u001b[38;5;28mprint\u001b[39m(\u001b[38;5;124m\"\u001b[39m\u001b[38;5;124mLiger weight: \u001b[39m\u001b[38;5;124m\"\u001b[39m,\u001b[38;5;28mself\u001b[39m\u001b[38;5;241m.\u001b[39mweight)\n\u001b[1;32m---> 21\u001b[0m     \u001b[38;5;28mprint\u001b[39m(\u001b[38;5;124m\"\u001b[39m\u001b[38;5;124mLiger Habitat: \u001b[39m\u001b[38;5;124m\"\u001b[39m,\u001b[38;5;28;43msuper\u001b[39;49m\u001b[43m(\u001b[49m\u001b[43m)\u001b[49m\u001b[38;5;241;43m.\u001b[39;49m\u001b[43mhabitat\u001b[49m)\n",
      "\u001b[1;31mAttributeError\u001b[0m: 'super' object has no attribute 'habitat'"
     ]
    }
   ],
   "source": [
    "liger_small_cat.print_details()"
   ]
  },
  {
   "cell_type": "code",
   "execution_count": null,
   "id": "cab59dc7",
   "metadata": {},
   "outputs": [],
   "source": [
    "dir()"
   ]
  },
  {
   "cell_type": "code",
   "execution_count": 96,
   "id": "a8f33934",
   "metadata": {},
   "outputs": [],
   "source": [
    "class Lion:\n",
    "    def __init__(self):\n",
    "        self.habitat = \"savannah\"\n",
    "        self.weight = \"150kg\"\n",
    "        \n",
    "    def print_details(self):\n",
    "        print(\"Lion Weight = \",self.weight)"
   ]
  },
  {
   "cell_type": "code",
   "execution_count": 98,
   "id": "b8ba0845",
   "metadata": {},
   "outputs": [],
   "source": [
    "        \n",
    "class Liger_Super(Lion):\n",
    "    def __init__(self):\n",
    "        self.weight = \"240kg\"\n",
    "        super().__init__()\n",
    "        \n",
    "    def print_details(self):\n",
    "        print(\"Liger weight: \",self.weight)\n",
    "        print(\"Liger Habitat: \",self.habitat)"
   ]
  },
  {
   "cell_type": "code",
   "execution_count": 99,
   "id": "c953ce5f",
   "metadata": {},
   "outputs": [],
   "source": [
    "liger_super = Liger_Super()"
   ]
  },
  {
   "cell_type": "code",
   "execution_count": 100,
   "id": "f59fc540",
   "metadata": {},
   "outputs": [
    {
     "name": "stdout",
     "output_type": "stream",
     "text": [
      "Liger weight:  150kg\n",
      "Liger Habitat:  savannah\n"
     ]
    }
   ],
   "source": [
    "liger_super.print_details()"
   ]
  },
  {
   "cell_type": "code",
   "execution_count": 90,
   "id": "9affefe3",
   "metadata": {},
   "outputs": [
    {
     "name": "stdout",
     "output_type": "stream",
     "text": [
      "Help on class super in module builtins:\n",
      "\n",
      "class super(object)\n",
      " |  super() -> same as super(__class__, <first argument>)\n",
      " |  super(type) -> unbound super object\n",
      " |  super(type, obj) -> bound super object; requires isinstance(obj, type)\n",
      " |  super(type, type2) -> bound super object; requires issubclass(type2, type)\n",
      " |  Typical use to call a cooperative superclass method:\n",
      " |  class C(B):\n",
      " |      def meth(self, arg):\n",
      " |          super().meth(arg)\n",
      " |  This works for class methods too:\n",
      " |  class C(B):\n",
      " |      @classmethod\n",
      " |      def cmeth(cls, arg):\n",
      " |          super().cmeth(arg)\n",
      " |  \n",
      " |  Methods defined here:\n",
      " |  \n",
      " |  __get__(self, instance, owner=None, /)\n",
      " |      Return an attribute of instance, which is of type owner.\n",
      " |  \n",
      " |  __getattribute__(self, name, /)\n",
      " |      Return getattr(self, name).\n",
      " |  \n",
      " |  __init__(self, /, *args, **kwargs)\n",
      " |      Initialize self.  See help(type(self)) for accurate signature.\n",
      " |  \n",
      " |  __repr__(self, /)\n",
      " |      Return repr(self).\n",
      " |  \n",
      " |  ----------------------------------------------------------------------\n",
      " |  Static methods defined here:\n",
      " |  \n",
      " |  __new__(*args, **kwargs) from builtins.type\n",
      " |      Create and return a new object.  See help(type) for accurate signature.\n",
      " |  \n",
      " |  ----------------------------------------------------------------------\n",
      " |  Data descriptors defined here:\n",
      " |  \n",
      " |  __self__\n",
      " |      the instance invoking super(); may be None\n",
      " |  \n",
      " |  __self_class__\n",
      " |      the type of the instance invoking super(); may be None\n",
      " |  \n",
      " |  __thisclass__\n",
      " |      the class invoking super()\n",
      "\n"
     ]
    }
   ],
   "source": [
    "help(super)"
   ]
  },
  {
   "cell_type": "code",
   "execution_count": null,
   "id": "dd36bc0d",
   "metadata": {},
   "outputs": [],
   "source": []
  }
 ],
 "metadata": {
  "kernelspec": {
   "display_name": "Python 3 (ipykernel)",
   "language": "python",
   "name": "python3"
  },
  "language_info": {
   "codemirror_mode": {
    "name": "ipython",
    "version": 3
   },
   "file_extension": ".py",
   "mimetype": "text/x-python",
   "name": "python",
   "nbconvert_exporter": "python",
   "pygments_lexer": "ipython3",
   "version": "3.10.7"
  }
 },
 "nbformat": 4,
 "nbformat_minor": 5
}
