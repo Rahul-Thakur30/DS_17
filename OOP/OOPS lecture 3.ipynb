{
 "cells": [
  {
   "cell_type": "code",
   "execution_count": 3,
   "id": "1c59bdc5",
   "metadata": {},
   "outputs": [],
   "source": [
    "class A:\n",
    "    def __init__(self,A):\n",
    "        self.A = A\n",
    "    def Dp(self):\n",
    "        print(\"i am \",self.A)\n",
    "\n",
    "class B:\n",
    "    def __init__(self,B):\n",
    "        self.B=B\n",
    "    def Dp(self):\n",
    "        print(\"i am \",self.B)   \n",
    "\n",
    "class C:\n",
    "    def __init__(self,C):\n",
    "        self.C=C\n",
    "    def Dp(self):\n",
    "        print(\"i am \",self.C)  \n",
    "\n",
    "class D(A,B,C):\n",
    "    def __init__(self,CBA):\n",
    "        self.CBA=CBA\n",
    "    def Dp(self):\n",
    "        print(\"i am \",self.CBA)"
   ]
  },
  {
   "cell_type": "code",
   "execution_count": 4,
   "id": "4e98abab",
   "metadata": {},
   "outputs": [],
   "source": [
    "d_object = D(\"gaurav\")"
   ]
  },
  {
   "cell_type": "code",
   "execution_count": 5,
   "id": "4642d4d6",
   "metadata": {},
   "outputs": [
    {
     "name": "stdout",
     "output_type": "stream",
     "text": [
      "i am  gaurav\n"
     ]
    }
   ],
   "source": [
    "d_object.Dp()"
   ]
  },
  {
   "cell_type": "code",
   "execution_count": 15,
   "id": "ae8ada5e",
   "metadata": {},
   "outputs": [],
   "source": [
    "class student:\n",
    "    stu_count=0\n",
    "    def __init__(self,name,age,insitute_name=\"edyoda\"):\n",
    "        self.stu_id=student.stu_count\n",
    "        student.stu_count+=1\n",
    "        self.name =name\n",
    "        self.age=age\n",
    "        self.insitute_name=insitute_name\n",
    "    \n",
    "    def display(self):\n",
    "        print(\"NAME:{}\\nSTU_ID:{}\\nAGE:{}\\nINSITUTE_NAME:{}\\n\".format(self.name,self.stu_id,self.age, self.insitute_name))\n",
    "        \n",
    "royal=student(\"royal\",\"23\")        "
   ]
  },
  {
   "cell_type": "code",
   "execution_count": null,
   "id": "987fe5c6",
   "metadata": {},
   "outputs": [],
   "source": []
  },
  {
   "cell_type": "code",
   "execution_count": 45,
   "id": "59a1677a",
   "metadata": {},
   "outputs": [],
   "source": [
    "class Employee:\n",
    "    emp_count = 0\n",
    "    def __init__(self,emp_id,name,salary,department,designation,contact,gender):\n",
    "        self.emp_id = emp_id\n",
    "        self.name = name\n",
    "        self.salary = salary\n",
    "        self.department = department\n",
    "        self.designation =  designation\n",
    "        self.contact = contact\n",
    "        self.gender = gender\n",
    "\n",
    "\n",
    "        Employee.emp_count+=1\n",
    "    \n",
    "    def __repr__(self):\n",
    "        return \"EMP_ID:{}\\nNAME:{}\\nSALARY:{}\\nDEPARTMENT:{}\\nDESIGNATION:{}\\nCONTACT:{}\\nGENDER:{}\".format(self.emp_id,self.name,self.salary,self.department,self.designation,self.contact,self.gender) \n",
    "    \n",
    "    def __eq__(self,other_object):\n",
    "        print(\"__eq__ dunder method is called\")\n",
    "        if self.emp_id == other_object.emp_id:\n",
    "            return True\n",
    "        else: \n",
    "            return False\n",
    "    \n",
    "    def __add__(self,other):\n",
    "        return Employee(self.emp_id+other.emp_id,self.name,self.salary+other.salary,self.department,self.designation,self.contact,self.gender)"
   ]
  },
  {
   "cell_type": "code",
   "execution_count": 46,
   "id": "d310f3dd",
   "metadata": {},
   "outputs": [],
   "source": [
    "shubham = Employee(1,\"Shubham\",\"12LPA\",\"Product\",\"SDE1\",\"2348458234\",\"M\")"
   ]
  },
  {
   "cell_type": "code",
   "execution_count": 47,
   "id": "7f4a6218",
   "metadata": {},
   "outputs": [],
   "source": [
    "royal = Employee(2,\"Royal\",\"12LPA\",\"Product\",\"SDE1\",\"2348458234\",\"M\")"
   ]
  },
  {
   "cell_type": "code",
   "execution_count": 48,
   "id": "f50c92fb",
   "metadata": {},
   "outputs": [
    {
     "data": {
      "text/plain": [
       "EMP_ID:3\n",
       "NAME:Royal\n",
       "SALARY:12LPA12LPA\n",
       "DEPARTMENT:Product\n",
       "DESIGNATION:SDE1\n",
       "CONTACT:2348458234\n",
       "GENDER:M"
      ]
     },
     "execution_count": 48,
     "metadata": {},
     "output_type": "execute_result"
    }
   ],
   "source": [
    "royal+shubham"
   ]
  },
  {
   "cell_type": "code",
   "execution_count": null,
   "id": "f6a60459",
   "metadata": {},
   "outputs": [],
   "source": []
  },
  {
   "cell_type": "code",
   "execution_count": 21,
   "id": "be79e355",
   "metadata": {},
   "outputs": [
    {
     "name": "stdout",
     "output_type": "stream",
     "text": [
      "Shubham\n"
     ]
    }
   ],
   "source": [
    "print(shubham_str)"
   ]
  },
  {
   "cell_type": "code",
   "execution_count": 59,
   "id": "18093918",
   "metadata": {},
   "outputs": [],
   "source": [
    "class Point:\n",
    "    \n",
    "    def __init__(self,x,y):\n",
    "        self.x = x\n",
    "        self.y = y\n",
    "    \n",
    "    def __repr__(self):\n",
    "        return \"({},{})\".format(self.x,self.y)\n",
    "    \n",
    "    def __mul__(self,other):\n",
    "        return self.x*other.x +self.y*other.y\n",
    "        "
   ]
  },
  {
   "cell_type": "code",
   "execution_count": 60,
   "id": "30f50271",
   "metadata": {},
   "outputs": [],
   "source": [
    "point_1 = Point(1,2)\n",
    "point_2 = Point(2,3)"
   ]
  },
  {
   "cell_type": "code",
   "execution_count": 61,
   "id": "c759b5ee",
   "metadata": {},
   "outputs": [
    {
     "name": "stdout",
     "output_type": "stream",
     "text": [
      "(1,2)\n"
     ]
    }
   ],
   "source": [
    "print(point_1)"
   ]
  },
  {
   "cell_type": "code",
   "execution_count": 62,
   "id": "8ddc536c",
   "metadata": {},
   "outputs": [
    {
     "name": "stdout",
     "output_type": "stream",
     "text": [
      "(2,3)\n"
     ]
    }
   ],
   "source": [
    "print(point_2)"
   ]
  },
  {
   "cell_type": "code",
   "execution_count": 63,
   "id": "081f2ee4",
   "metadata": {},
   "outputs": [
    {
     "data": {
      "text/plain": [
       "8"
      ]
     },
     "execution_count": 63,
     "metadata": {},
     "output_type": "execute_result"
    }
   ],
   "source": [
    "point_1*point_2"
   ]
  },
  {
   "cell_type": "code",
   "execution_count": 58,
   "id": "41cc82d2",
   "metadata": {},
   "outputs": [
    {
     "name": "stdout",
     "output_type": "stream",
     "text": [
      "Help on class int in module builtins:\n",
      "\n",
      "class int(object)\n",
      " |  int([x]) -> integer\n",
      " |  int(x, base=10) -> integer\n",
      " |  \n",
      " |  Convert a number or string to an integer, or return 0 if no arguments\n",
      " |  are given.  If x is a number, return x.__int__().  For floating point\n",
      " |  numbers, this truncates towards zero.\n",
      " |  \n",
      " |  If x is not a number or if base is given, then x must be a string,\n",
      " |  bytes, or bytearray instance representing an integer literal in the\n",
      " |  given base.  The literal can be preceded by '+' or '-' and be surrounded\n",
      " |  by whitespace.  The base defaults to 10.  Valid bases are 0 and 2-36.\n",
      " |  Base 0 means to interpret the base from the string as an integer literal.\n",
      " |  >>> int('0b100', base=0)\n",
      " |  4\n",
      " |  \n",
      " |  Built-in subclasses:\n",
      " |      bool\n",
      " |  \n",
      " |  Methods defined here:\n",
      " |  \n",
      " |  __abs__(self, /)\n",
      " |      abs(self)\n",
      " |  \n",
      " |  __add__(self, value, /)\n",
      " |      Return self+value.\n",
      " |  \n",
      " |  __and__(self, value, /)\n",
      " |      Return self&value.\n",
      " |  \n",
      " |  __bool__(self, /)\n",
      " |      True if self else False\n",
      " |  \n",
      " |  __ceil__(...)\n",
      " |      Ceiling of an Integral returns itself.\n",
      " |  \n",
      " |  __divmod__(self, value, /)\n",
      " |      Return divmod(self, value).\n",
      " |  \n",
      " |  __eq__(self, value, /)\n",
      " |      Return self==value.\n",
      " |  \n",
      " |  __float__(self, /)\n",
      " |      float(self)\n",
      " |  \n",
      " |  __floor__(...)\n",
      " |      Flooring an Integral returns itself.\n",
      " |  \n",
      " |  __floordiv__(self, value, /)\n",
      " |      Return self//value.\n",
      " |  \n",
      " |  __format__(self, format_spec, /)\n",
      " |      Default object formatter.\n",
      " |  \n",
      " |  __ge__(self, value, /)\n",
      " |      Return self>=value.\n",
      " |  \n",
      " |  __getattribute__(self, name, /)\n",
      " |      Return getattr(self, name).\n",
      " |  \n",
      " |  __getnewargs__(self, /)\n",
      " |  \n",
      " |  __gt__(self, value, /)\n",
      " |      Return self>value.\n",
      " |  \n",
      " |  __hash__(self, /)\n",
      " |      Return hash(self).\n",
      " |  \n",
      " |  __index__(self, /)\n",
      " |      Return self converted to an integer, if self is suitable for use as an index into a list.\n",
      " |  \n",
      " |  __int__(self, /)\n",
      " |      int(self)\n",
      " |  \n",
      " |  __invert__(self, /)\n",
      " |      ~self\n",
      " |  \n",
      " |  __le__(self, value, /)\n",
      " |      Return self<=value.\n",
      " |  \n",
      " |  __lshift__(self, value, /)\n",
      " |      Return self<<value.\n",
      " |  \n",
      " |  __lt__(self, value, /)\n",
      " |      Return self<value.\n",
      " |  \n",
      " |  __mod__(self, value, /)\n",
      " |      Return self%value.\n",
      " |  \n",
      " |  __mul__(self, value, /)\n",
      " |      Return self*value.\n",
      " |  \n",
      " |  __ne__(self, value, /)\n",
      " |      Return self!=value.\n",
      " |  \n",
      " |  __neg__(self, /)\n",
      " |      -self\n",
      " |  \n",
      " |  __or__(self, value, /)\n",
      " |      Return self|value.\n",
      " |  \n",
      " |  __pos__(self, /)\n",
      " |      +self\n",
      " |  \n",
      " |  __pow__(self, value, mod=None, /)\n",
      " |      Return pow(self, value, mod).\n",
      " |  \n",
      " |  __radd__(self, value, /)\n",
      " |      Return value+self.\n",
      " |  \n",
      " |  __rand__(self, value, /)\n",
      " |      Return value&self.\n",
      " |  \n",
      " |  __rdivmod__(self, value, /)\n",
      " |      Return divmod(value, self).\n",
      " |  \n",
      " |  __repr__(self, /)\n",
      " |      Return repr(self).\n",
      " |  \n",
      " |  __rfloordiv__(self, value, /)\n",
      " |      Return value//self.\n",
      " |  \n",
      " |  __rlshift__(self, value, /)\n",
      " |      Return value<<self.\n",
      " |  \n",
      " |  __rmod__(self, value, /)\n",
      " |      Return value%self.\n",
      " |  \n",
      " |  __rmul__(self, value, /)\n",
      " |      Return value*self.\n",
      " |  \n",
      " |  __ror__(self, value, /)\n",
      " |      Return value|self.\n",
      " |  \n",
      " |  __round__(...)\n",
      " |      Rounding an Integral returns itself.\n",
      " |      \n",
      " |      Rounding with an ndigits argument also returns an integer.\n",
      " |  \n",
      " |  __rpow__(self, value, mod=None, /)\n",
      " |      Return pow(value, self, mod).\n",
      " |  \n",
      " |  __rrshift__(self, value, /)\n",
      " |      Return value>>self.\n",
      " |  \n",
      " |  __rshift__(self, value, /)\n",
      " |      Return self>>value.\n",
      " |  \n",
      " |  __rsub__(self, value, /)\n",
      " |      Return value-self.\n",
      " |  \n",
      " |  __rtruediv__(self, value, /)\n",
      " |      Return value/self.\n",
      " |  \n",
      " |  __rxor__(self, value, /)\n",
      " |      Return value^self.\n",
      " |  \n",
      " |  __sizeof__(self, /)\n",
      " |      Returns size in memory, in bytes.\n",
      " |  \n",
      " |  __sub__(self, value, /)\n",
      " |      Return self-value.\n",
      " |  \n",
      " |  __truediv__(self, value, /)\n",
      " |      Return self/value.\n",
      " |  \n",
      " |  __trunc__(...)\n",
      " |      Truncating an Integral returns itself.\n",
      " |  \n",
      " |  __xor__(self, value, /)\n",
      " |      Return self^value.\n",
      " |  \n",
      " |  as_integer_ratio(self, /)\n",
      " |      Return integer ratio.\n",
      " |      \n",
      " |      Return a pair of integers, whose ratio is exactly equal to the original int\n",
      " |      and with a positive denominator.\n",
      " |      \n",
      " |      >>> (10).as_integer_ratio()\n",
      " |      (10, 1)\n",
      " |      >>> (-10).as_integer_ratio()\n",
      " |      (-10, 1)\n",
      " |      >>> (0).as_integer_ratio()\n",
      " |      (0, 1)\n",
      " |  \n",
      " |  bit_count(self, /)\n",
      " |      Number of ones in the binary representation of the absolute value of self.\n",
      " |      \n",
      " |      Also known as the population count.\n",
      " |      \n",
      " |      >>> bin(13)\n",
      " |      '0b1101'\n",
      " |      >>> (13).bit_count()\n",
      " |      3\n",
      " |  \n",
      " |  bit_length(self, /)\n",
      " |      Number of bits necessary to represent self in binary.\n",
      " |      \n",
      " |      >>> bin(37)\n",
      " |      '0b100101'\n",
      " |      >>> (37).bit_length()\n",
      " |      6\n",
      " |  \n",
      " |  conjugate(...)\n",
      " |      Returns self, the complex conjugate of any int.\n",
      " |  \n",
      " |  to_bytes(self, /, length, byteorder, *, signed=False)\n",
      " |      Return an array of bytes representing an integer.\n",
      " |      \n",
      " |      length\n",
      " |        Length of bytes object to use.  An OverflowError is raised if the\n",
      " |        integer is not representable with the given number of bytes.\n",
      " |      byteorder\n",
      " |        The byte order used to represent the integer.  If byteorder is 'big',\n",
      " |        the most significant byte is at the beginning of the byte array.  If\n",
      " |        byteorder is 'little', the most significant byte is at the end of the\n",
      " |        byte array.  To request the native byte order of the host system, use\n",
      " |        `sys.byteorder' as the byte order value.\n",
      " |      signed\n",
      " |        Determines whether two's complement is used to represent the integer.\n",
      " |        If signed is False and a negative integer is given, an OverflowError\n",
      " |        is raised.\n",
      " |  \n",
      " |  ----------------------------------------------------------------------\n",
      " |  Class methods defined here:\n",
      " |  \n",
      " |  from_bytes(bytes, byteorder, *, signed=False) from builtins.type\n",
      " |      Return the integer represented by the given array of bytes.\n",
      " |      \n",
      " |      bytes\n",
      " |        Holds the array of bytes to convert.  The argument must either\n",
      " |        support the buffer protocol or be an iterable object producing bytes.\n",
      " |        Bytes and bytearray are examples of built-in objects that support the\n",
      " |        buffer protocol.\n",
      " |      byteorder\n",
      " |        The byte order used to represent the integer.  If byteorder is 'big',\n",
      " |        the most significant byte is at the beginning of the byte array.  If\n",
      " |        byteorder is 'little', the most significant byte is at the end of the\n",
      " |        byte array.  To request the native byte order of the host system, use\n",
      " |        `sys.byteorder' as the byte order value.\n",
      " |      signed\n",
      " |        Indicates whether two's complement is used to represent the integer.\n",
      " |  \n",
      " |  ----------------------------------------------------------------------\n",
      " |  Static methods defined here:\n",
      " |  \n",
      " |  __new__(*args, **kwargs) from builtins.type\n",
      " |      Create and return a new object.  See help(type) for accurate signature.\n",
      " |  \n",
      " |  ----------------------------------------------------------------------\n",
      " |  Data descriptors defined here:\n",
      " |  \n",
      " |  denominator\n",
      " |      the denominator of a rational number in lowest terms\n",
      " |  \n",
      " |  imag\n",
      " |      the imaginary part of a complex number\n",
      " |  \n",
      " |  numerator\n",
      " |      the numerator of a rational number in lowest terms\n",
      " |  \n",
      " |  real\n",
      " |      the real part of a complex number\n",
      "\n"
     ]
    }
   ],
   "source": [
    "help(int)"
   ]
  },
  {
   "cell_type": "code",
   "execution_count": null,
   "id": "2ce8e5e6",
   "metadata": {},
   "outputs": [],
   "source": []
  }
 ],
 "metadata": {
  "kernelspec": {
   "display_name": "Python 3 (ipykernel)",
   "language": "python",
   "name": "python3"
  },
  "language_info": {
   "codemirror_mode": {
    "name": "ipython",
    "version": 3
   },
   "file_extension": ".py",
   "mimetype": "text/x-python",
   "name": "python",
   "nbconvert_exporter": "python",
   "pygments_lexer": "ipython3",
   "version": "3.10.7"
  }
 },
 "nbformat": 4,
 "nbformat_minor": 5
}
