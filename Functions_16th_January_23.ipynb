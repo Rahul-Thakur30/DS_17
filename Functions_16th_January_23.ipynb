{
 "cells": [
  {
   "cell_type": "markdown",
   "id": "4b01ee82",
   "metadata": {},
   "source": [
    "def function_name(parameters):\n",
    "    statement1\n",
    "    statement2\n",
    "    statement3\n",
    "    \n",
    "    return value\n",
    "    "
   ]
  },
  {
   "cell_type": "code",
   "execution_count": 2,
   "id": "151b9c23",
   "metadata": {},
   "outputs": [],
   "source": [
    "def square(num):\n",
    "    squared_num = num*num\n",
    "    return squared_num"
   ]
  },
  {
   "cell_type": "code",
   "execution_count": 3,
   "id": "fbd92a95",
   "metadata": {},
   "outputs": [],
   "source": [
    "var = square(5)"
   ]
  },
  {
   "cell_type": "code",
   "execution_count": 4,
   "id": "eb682c96",
   "metadata": {},
   "outputs": [
    {
     "data": {
      "text/plain": [
       "25"
      ]
     },
     "execution_count": 4,
     "metadata": {},
     "output_type": "execute_result"
    }
   ],
   "source": [
    "var"
   ]
  },
  {
   "cell_type": "code",
   "execution_count": 6,
   "id": "f5dbd97d",
   "metadata": {},
   "outputs": [],
   "source": [
    "## Function which has parameters but no return statement\n",
    "def printing_my_name(name):\n",
    "    print(\"Hi my name is {}\".format(name))"
   ]
  },
  {
   "cell_type": "code",
   "execution_count": 8,
   "id": "17ed8bd7",
   "metadata": {},
   "outputs": [
    {
     "name": "stdout",
     "output_type": "stream",
     "text": [
      "Hi my name is Prithvi\n"
     ]
    }
   ],
   "source": [
    "var = printing_my_name(\"Prithvi\")"
   ]
  },
  {
   "cell_type": "code",
   "execution_count": 10,
   "id": "23d2a266",
   "metadata": {},
   "outputs": [],
   "source": [
    "import time"
   ]
  },
  {
   "cell_type": "code",
   "execution_count": 11,
   "id": "1574caed",
   "metadata": {},
   "outputs": [
    {
     "data": {
      "text/plain": [
       "1673878603.427851"
      ]
     },
     "execution_count": 11,
     "metadata": {},
     "output_type": "execute_result"
    }
   ],
   "source": [
    "time.time()"
   ]
  },
  {
   "cell_type": "code",
   "execution_count": 12,
   "id": "5df6c465",
   "metadata": {},
   "outputs": [],
   "source": [
    "## Function which does not have parameters but have return statement\n",
    "def give_current_timestamp():\n",
    "    current_time = time.time()\n",
    "    return current_time"
   ]
  },
  {
   "cell_type": "code",
   "execution_count": 15,
   "id": "62276fea",
   "metadata": {},
   "outputs": [],
   "source": [
    "var = give_current_timestamp()"
   ]
  },
  {
   "cell_type": "code",
   "execution_count": 16,
   "id": "6facdbac",
   "metadata": {},
   "outputs": [
    {
     "data": {
      "text/plain": [
       "1673878700.0246553"
      ]
     },
     "execution_count": 16,
     "metadata": {},
     "output_type": "execute_result"
    }
   ],
   "source": [
    "var"
   ]
  },
  {
   "cell_type": "code",
   "execution_count": 19,
   "id": "c990abeb",
   "metadata": {},
   "outputs": [
    {
     "ename": "ValueError",
     "evalue": "too many values to unpack (expected 2)",
     "output_type": "error",
     "traceback": [
      "\u001b[1;31m---------------------------------------------------------------------------\u001b[0m",
      "\u001b[1;31mValueError\u001b[0m                                Traceback (most recent call last)",
      "Input \u001b[1;32mIn [19]\u001b[0m, in \u001b[0;36m<cell line: 1>\u001b[1;34m()\u001b[0m\n\u001b[1;32m----> 1\u001b[0m name,institute \u001b[38;5;241m=\u001b[39m \u001b[38;5;124m\"\u001b[39m\u001b[38;5;124mEdyoda\u001b[39m\u001b[38;5;124m\"\u001b[39m\n",
      "\u001b[1;31mValueError\u001b[0m: too many values to unpack (expected 2)"
     ]
    }
   ],
   "source": [
    "name,institute = \"Edyoda\""
   ]
  },
  {
   "cell_type": "code",
   "execution_count": 44,
   "id": "eac01eaf",
   "metadata": {},
   "outputs": [],
   "source": [
    "def printing_my_name(greeting,institute=\"Edyoda\",fname=\"Raj\",lname=\"Raman\"):\n",
    "    print(\"{} my name is {} {} and I study at {}\".format(greeting,fname,lname,institute))"
   ]
  },
  {
   "cell_type": "code",
   "execution_count": 47,
   "id": "ee3c5d31",
   "metadata": {},
   "outputs": [
    {
     "name": "stdout",
     "output_type": "stream",
     "text": [
      "Hey my name is Raj Raman and I study at Byjus\n"
     ]
    }
   ],
   "source": [
    "printing_my_name(\"Hey\",\"Byjus\")"
   ]
  },
  {
   "cell_type": "code",
   "execution_count": null,
   "id": "39a88b07",
   "metadata": {},
   "outputs": [],
   "source": []
  },
  {
   "cell_type": "code",
   "execution_count": 25,
   "id": "250fea8c",
   "metadata": {},
   "outputs": [],
   "source": [
    "def printing_my_name(name,institute=\"Edyoda\"):\n",
    "    print(\"Hi my name is {}.I study at {}\".format(name,institute))"
   ]
  },
  {
   "cell_type": "code",
   "execution_count": 31,
   "id": "0c18aa0b",
   "metadata": {},
   "outputs": [],
   "source": [
    "def printing_my_name(institute,name=\"Prithvi\"):\n",
    "    print(\"Hi my name is {}.I study at {}\".format(name,institute))"
   ]
  },
  {
   "cell_type": "code",
   "execution_count": 29,
   "id": "59ef653c",
   "metadata": {},
   "outputs": [
    {
     "name": "stdout",
     "output_type": "stream",
     "text": [
      "Hi my name is Prithvi.I study at Edyoda\n"
     ]
    }
   ],
   "source": [
    "printing_my_name(\"Edyoda\")"
   ]
  },
  {
   "cell_type": "code",
   "execution_count": 26,
   "id": "e33183c8",
   "metadata": {},
   "outputs": [
    {
     "name": "stdout",
     "output_type": "stream",
     "text": [
      "Hi my name is Prithvi.I study at Edyoda\n"
     ]
    }
   ],
   "source": [
    "printing_my_name(\"Prithvi\")"
   ]
  },
  {
   "cell_type": "code",
   "execution_count": 18,
   "id": "ce7f2cde",
   "metadata": {},
   "outputs": [
    {
     "name": "stdout",
     "output_type": "stream",
     "text": [
      "Hi my name is Prithvi.I study at Edyoda\n"
     ]
    }
   ],
   "source": [
    "printing_my_name(\"Prithvi\")"
   ]
  },
  {
   "cell_type": "code",
   "execution_count": 20,
   "id": "b620e8a7",
   "metadata": {},
   "outputs": [
    {
     "name": "stdout",
     "output_type": "stream",
     "text": [
      "Hi my name is Prithvi.I study at Upgrad\n"
     ]
    }
   ],
   "source": [
    "printing_my_name(\"Prithvi\",\"Upgrad\")"
   ]
  },
  {
   "cell_type": "code",
   "execution_count": null,
   "id": "ea747f6a",
   "metadata": {},
   "outputs": [],
   "source": []
  },
  {
   "cell_type": "code",
   "execution_count": 50,
   "id": "66f4d752",
   "metadata": {},
   "outputs": [],
   "source": [
    "def length_of_list(lst):\n",
    "    count = 0\n",
    "    for elem in lst:\n",
    "        count+=1\n",
    "    \n",
    "    return count"
   ]
  },
  {
   "cell_type": "code",
   "execution_count": 51,
   "id": "9f0317b1",
   "metadata": {},
   "outputs": [
    {
     "data": {
      "text/plain": [
       "5"
      ]
     },
     "execution_count": 51,
     "metadata": {},
     "output_type": "execute_result"
    }
   ],
   "source": [
    "length_of_list([1,2,4,6,3])"
   ]
  },
  {
   "cell_type": "code",
   "execution_count": 52,
   "id": "9bad7127",
   "metadata": {},
   "outputs": [
    {
     "data": {
      "text/plain": [
       "8"
      ]
     },
     "execution_count": 52,
     "metadata": {},
     "output_type": "execute_result"
    }
   ],
   "source": [
    "length_of_list([90,64,12,75,23,76,23,75])"
   ]
  },
  {
   "cell_type": "code",
   "execution_count": 53,
   "id": "6c5eb3e5",
   "metadata": {},
   "outputs": [],
   "source": [
    "sample_lst = [1,2,4,6,3]"
   ]
  },
  {
   "cell_type": "code",
   "execution_count": 54,
   "id": "02f9ef53",
   "metadata": {},
   "outputs": [
    {
     "data": {
      "text/plain": [
       "3"
      ]
     },
     "execution_count": 54,
     "metadata": {},
     "output_type": "execute_result"
    }
   ],
   "source": [
    "sample_lst.pop()"
   ]
  },
  {
   "cell_type": "code",
   "execution_count": 61,
   "id": "687d18cf",
   "metadata": {},
   "outputs": [],
   "source": [
    "def avgmarks(d1):\n",
    "    for key,val in d1.items():\n",
    "        print(key,\"=\",sum(val)/len(val))\n"
   ]
  },
  {
   "cell_type": "code",
   "execution_count": 56,
   "id": "eff2c7e2",
   "metadata": {},
   "outputs": [],
   "source": [
    "sample_dict = {\"Prithvi\":[89,98,67,98,23],\"Darshan\":[44,65,67,87,98]}\n"
   ]
  },
  {
   "cell_type": "code",
   "execution_count": 62,
   "id": "2ac2fa6b",
   "metadata": {},
   "outputs": [
    {
     "name": "stdout",
     "output_type": "stream",
     "text": [
      "Prithvi = 75.0\n",
      "Darshan = 72.2\n"
     ]
    }
   ],
   "source": [
    "avgmarks(sample_dict)"
   ]
  },
  {
   "cell_type": "code",
   "execution_count": 59,
   "id": "13b68f97",
   "metadata": {},
   "outputs": [],
   "source": [
    "store"
   ]
  },
  {
   "cell_type": "code",
   "execution_count": 69,
   "id": "7b483243",
   "metadata": {},
   "outputs": [],
   "source": [
    "def prntavg(sample_dict):\n",
    "    for key,value in sample_dict.items():\n",
    "        valavg=(sum(value))/len(value)\n",
    "        print(key,\" = \",valavg)"
   ]
  },
  {
   "cell_type": "code",
   "execution_count": 70,
   "id": "442847f5",
   "metadata": {},
   "outputs": [
    {
     "name": "stdout",
     "output_type": "stream",
     "text": [
      "Prithvi  =  75.0\n",
      "Darshan  =  72.2\n"
     ]
    }
   ],
   "source": [
    "prntavg(sample_dict)"
   ]
  },
  {
   "cell_type": "code",
   "execution_count": 71,
   "id": "c2a046d2",
   "metadata": {},
   "outputs": [],
   "source": [
    "def print_average(sample_dict):\n",
    "    for key,values in sample_dict.items():\n",
    "        avg_score=sum(values)/len(values)\n",
    "        print(key,\"=\",avg_score)"
   ]
  },
  {
   "cell_type": "code",
   "execution_count": 72,
   "id": "c9cd6fe3",
   "metadata": {},
   "outputs": [
    {
     "name": "stdout",
     "output_type": "stream",
     "text": [
      "Prithvi = 75.0\n",
      "Darshan = 72.2\n"
     ]
    }
   ],
   "source": [
    "print_average(sample_dict)"
   ]
  },
  {
   "cell_type": "code",
   "execution_count": 76,
   "id": "ccaae29b",
   "metadata": {},
   "outputs": [],
   "source": [
    "def print_average(sample_dict):\n",
    "    for key,value in sample_dict.items():\n",
    "        avg_score = sum(value)/len(value)\n",
    "        print(key,\"=\",avg_score)"
   ]
  },
  {
   "cell_type": "code",
   "execution_count": 77,
   "id": "75e89e11",
   "metadata": {},
   "outputs": [
    {
     "name": "stdout",
     "output_type": "stream",
     "text": [
      "Prithvi = 75.0\n",
      "Darshan = 72.2\n"
     ]
    }
   ],
   "source": [
    "print_average(sample_dict)"
   ]
  },
  {
   "cell_type": "code",
   "execution_count": 84,
   "id": "da878e37",
   "metadata": {},
   "outputs": [],
   "source": [
    "num3 = 10"
   ]
  },
  {
   "cell_type": "code",
   "execution_count": 91,
   "id": "95751355",
   "metadata": {},
   "outputs": [],
   "source": [
    "def summation():\n",
    "    num1 = 5\n",
    "    num2 = 10\n",
    "    num3 = 20\n",
    "    print(\"address of num3 variable locally\",id(num3))\n",
    "    print(num3)"
   ]
  },
  {
   "cell_type": "code",
   "execution_count": 92,
   "id": "cf57a087",
   "metadata": {},
   "outputs": [
    {
     "name": "stdout",
     "output_type": "stream",
     "text": [
      "address of num3 variable locally 2036329284112\n",
      "10\n"
     ]
    }
   ],
   "source": [
    "summation()"
   ]
  },
  {
   "cell_type": "code",
   "execution_count": 93,
   "id": "4b6322cb",
   "metadata": {},
   "outputs": [
    {
     "data": {
      "text/plain": [
       "2036329284112"
      ]
     },
     "execution_count": 93,
     "metadata": {},
     "output_type": "execute_result"
    }
   ],
   "source": [
    "id(num3)"
   ]
  },
  {
   "cell_type": "code",
   "execution_count": null,
   "id": "880d5e4f",
   "metadata": {},
   "outputs": [],
   "source": []
  }
 ],
 "metadata": {
  "kernelspec": {
   "display_name": "Python 3 (ipykernel)",
   "language": "python",
   "name": "python3"
  },
  "language_info": {
   "codemirror_mode": {
    "name": "ipython",
    "version": 3
   },
   "file_extension": ".py",
   "mimetype": "text/x-python",
   "name": "python",
   "nbconvert_exporter": "python",
   "pygments_lexer": "ipython3",
   "version": "3.10.7"
  }
 },
 "nbformat": 4,
 "nbformat_minor": 5
}
