{
 "cells": [
  {
   "cell_type": "code",
   "execution_count": 1,
   "id": "db6243ff",
   "metadata": {},
   "outputs": [
    {
     "data": {
      "text/plain": [
       "5"
      ]
     },
     "execution_count": 1,
     "metadata": {},
     "output_type": "execute_result"
    }
   ],
   "source": [
    "2+3"
   ]
  },
  {
   "cell_type": "code",
   "execution_count": 2,
   "id": "93b85d36",
   "metadata": {},
   "outputs": [
    {
     "data": {
      "text/plain": [
       "1"
      ]
     },
     "execution_count": 2,
     "metadata": {},
     "output_type": "execute_result"
    }
   ],
   "source": [
    "3-2"
   ]
  },
  {
   "cell_type": "code",
   "execution_count": 4,
   "id": "9e212c05",
   "metadata": {},
   "outputs": [
    {
     "name": "stdout",
     "output_type": "stream",
     "text": [
      "Addition of a and b = 11\n",
      "Subtraction of a and b = -1\n",
      "Multiplication of a and b = 30\n",
      "Division of a and b = 0.8333333333333334\n",
      "Floor Division of a and b = 0\n"
     ]
    }
   ],
   "source": [
    "a=5\n",
    "b=6\n",
    "print(\"Addition of a and b = {0}\".format(a+b))\n",
    "print(\"Subtraction of a and b = {0}\".format(a-b))\n",
    "print(\"Multiplication of a and b = {0}\".format(a*b))\n",
    "print(\"Division of a and b = {0}\".format(a/b))\n",
    "print(\"Floor Division of a and b = {0}\".format(a//b))"
   ]
  },
  {
   "cell_type": "code",
   "execution_count": 5,
   "id": "a03f1198",
   "metadata": {},
   "outputs": [],
   "source": [
    "## If and Else\n",
    "\n",
    "a=5"
   ]
  },
  {
   "cell_type": "code",
   "execution_count": 6,
   "id": "ebb58b1a",
   "metadata": {},
   "outputs": [
    {
     "name": "stdout",
     "output_type": "stream",
     "text": [
      "5\n"
     ]
    }
   ],
   "source": [
    "print(a)"
   ]
  },
  {
   "cell_type": "code",
   "execution_count": 7,
   "id": "967d70b2",
   "metadata": {},
   "outputs": [
    {
     "data": {
      "text/plain": [
       "False"
      ]
     },
     "execution_count": 7,
     "metadata": {},
     "output_type": "execute_result"
    }
   ],
   "source": [
    "a==6"
   ]
  },
  {
   "cell_type": "code",
   "execution_count": 8,
   "id": "9e55ffb0",
   "metadata": {},
   "outputs": [
    {
     "data": {
      "text/plain": [
       "True"
      ]
     },
     "execution_count": 8,
     "metadata": {},
     "output_type": "execute_result"
    }
   ],
   "source": [
    "a==5"
   ]
  },
  {
   "cell_type": "code",
   "execution_count": 9,
   "id": "cb6f5a3f",
   "metadata": {},
   "outputs": [
    {
     "data": {
      "text/plain": [
       "1"
      ]
     },
     "execution_count": 9,
     "metadata": {},
     "output_type": "execute_result"
    }
   ],
   "source": [
    "5%2"
   ]
  },
  {
   "cell_type": "code",
   "execution_count": 16,
   "id": "d9ad7898",
   "metadata": {},
   "outputs": [
    {
     "data": {
      "text/plain": [
       "False"
      ]
     },
     "execution_count": 16,
     "metadata": {},
     "output_type": "execute_result"
    }
   ],
   "source": [
    "5!=5"
   ]
  },
  {
   "cell_type": "code",
   "execution_count": null,
   "id": "0486e6d5",
   "metadata": {},
   "outputs": [],
   "source": []
  },
  {
   "cell_type": "code",
   "execution_count": null,
   "id": "5669da80",
   "metadata": {},
   "outputs": [],
   "source": [
    "LHS==RHS"
   ]
  },
  {
   "cell_type": "code",
   "execution_count": null,
   "id": "a598e478",
   "metadata": {},
   "outputs": [],
   "source": [
    "LHS not equal to RHS\n",
    "LHS!=RHS"
   ]
  },
  {
   "cell_type": "code",
   "execution_count": 14,
   "id": "64905b1d",
   "metadata": {},
   "outputs": [
    {
     "name": "stdout",
     "output_type": "stream",
     "text": [
      "6 is an even number\n"
     ]
    }
   ],
   "source": [
    "if a%2==0:\n",
    "    print(\"{0} is an even number\".format(a))\n",
    "else:\n",
    "    print(\"{0} is an odd number\".format(a))"
   ]
  },
  {
   "cell_type": "code",
   "execution_count": 17,
   "id": "daa52a3e",
   "metadata": {},
   "outputs": [
    {
     "data": {
      "text/plain": [
       "True"
      ]
     },
     "execution_count": 17,
     "metadata": {},
     "output_type": "execute_result"
    }
   ],
   "source": [
    "5==5"
   ]
  },
  {
   "cell_type": "code",
   "execution_count": 18,
   "id": "3bcd2ef3",
   "metadata": {},
   "outputs": [
    {
     "data": {
      "text/plain": [
       "False"
      ]
     },
     "execution_count": 18,
     "metadata": {},
     "output_type": "execute_result"
    }
   ],
   "source": [
    "5==6"
   ]
  },
  {
   "cell_type": "code",
   "execution_count": 19,
   "id": "3265ecf4",
   "metadata": {},
   "outputs": [
    {
     "data": {
      "text/plain": [
       "True"
      ]
     },
     "execution_count": 19,
     "metadata": {},
     "output_type": "execute_result"
    }
   ],
   "source": [
    "6 != 5"
   ]
  },
  {
   "cell_type": "code",
   "execution_count": 20,
   "id": "d10aac99",
   "metadata": {},
   "outputs": [
    {
     "data": {
      "text/plain": [
       "True"
      ]
     },
     "execution_count": 20,
     "metadata": {},
     "output_type": "execute_result"
    }
   ],
   "source": [
    "5%2 != 0\n"
   ]
  },
  {
   "cell_type": "code",
   "execution_count": 21,
   "id": "c42fe8b4",
   "metadata": {},
   "outputs": [],
   "source": [
    "## Get sum of all the odd numbers from 1 to 100\n",
    "summation = 0\n",
    "for num in range(1,101):\n",
    "    if num%2!=0:\n",
    "        summation = summation+num\n"
   ]
  },
  {
   "cell_type": "code",
   "execution_count": 22,
   "id": "74838c85",
   "metadata": {},
   "outputs": [
    {
     "data": {
      "text/plain": [
       "2500"
      ]
     },
     "execution_count": 22,
     "metadata": {},
     "output_type": "execute_result"
    }
   ],
   "source": [
    "summation"
   ]
  },
  {
   "cell_type": "code",
   "execution_count": 24,
   "id": "db694694",
   "metadata": {},
   "outputs": [],
   "source": [
    "summation = 0 \n",
    "for num in [1,2,3,4,5]:\n",
    "    summation = summation+num"
   ]
  },
  {
   "cell_type": "code",
   "execution_count": 25,
   "id": "f9925f03",
   "metadata": {},
   "outputs": [
    {
     "data": {
      "text/plain": [
       "15"
      ]
     },
     "execution_count": 25,
     "metadata": {},
     "output_type": "execute_result"
    }
   ],
   "source": [
    "summation"
   ]
  },
  {
   "cell_type": "code",
   "execution_count": 26,
   "id": "a62aa227",
   "metadata": {},
   "outputs": [
    {
     "data": {
      "text/plain": [
       "15"
      ]
     },
     "execution_count": 26,
     "metadata": {},
     "output_type": "execute_result"
    }
   ],
   "source": [
    "list_1 = [1,2,3,4,5]\n",
    "sum(list_1)"
   ]
  },
  {
   "cell_type": "code",
   "execution_count": 28,
   "id": "3c646631",
   "metadata": {},
   "outputs": [],
   "source": [
    "new_product=1\n",
    "for i in range(5):\n",
    "    new_product = new_product+i"
   ]
  },
  {
   "cell_type": "code",
   "execution_count": 29,
   "id": "e47901fe",
   "metadata": {},
   "outputs": [
    {
     "data": {
      "text/plain": [
       "True"
      ]
     },
     "execution_count": 29,
     "metadata": {},
     "output_type": "execute_result"
    }
   ],
   "source": [
    "0%3==0"
   ]
  },
  {
   "cell_type": "code",
   "execution_count": 31,
   "id": "61547a68",
   "metadata": {
    "scrolled": true
   },
   "outputs": [],
   "source": [
    "a=3"
   ]
  },
  {
   "cell_type": "code",
   "execution_count": 32,
   "id": "e1045b76",
   "metadata": {},
   "outputs": [
    {
     "data": {
      "text/plain": [
       "True"
      ]
     },
     "execution_count": 32,
     "metadata": {},
     "output_type": "execute_result"
    }
   ],
   "source": [
    "a==3 or a==5"
   ]
  },
  {
   "cell_type": "code",
   "execution_count": 35,
   "id": "2db59ea7",
   "metadata": {},
   "outputs": [
    {
     "name": "stdout",
     "output_type": "stream",
     "text": [
      "3\n",
      "5\n",
      "6\n",
      "9\n",
      "10\n",
      "12\n",
      "18\n",
      "20\n",
      "21\n",
      "24\n",
      "25\n",
      "27\n",
      "33\n",
      "35\n",
      "36\n",
      "39\n",
      "40\n",
      "42\n",
      "48\n",
      "50\n",
      "51\n",
      "54\n",
      "55\n",
      "57\n",
      "63\n",
      "65\n",
      "66\n",
      "69\n",
      "70\n",
      "72\n",
      "78\n",
      "80\n",
      "81\n",
      "84\n",
      "85\n",
      "87\n",
      "93\n",
      "95\n",
      "96\n",
      "99\n",
      "100\n"
     ]
    }
   ],
   "source": [
    "for num in range(1,101):\n",
    "    if (num%15!=0) and (num%3==0 or num%5==0):\n",
    "        print(num)\n",
    "        \n",
    "    \n",
    "    \n",
    "        "
   ]
  },
  {
   "cell_type": "code",
   "execution_count": 1,
   "id": "5680fcba",
   "metadata": {},
   "outputs": [
    {
     "data": {
      "text/plain": [
       "False"
      ]
     },
     "execution_count": 1,
     "metadata": {},
     "output_type": "execute_result"
    }
   ],
   "source": [
    "5>6"
   ]
  },
  {
   "cell_type": "code",
   "execution_count": 2,
   "id": "8e4f3aad",
   "metadata": {},
   "outputs": [
    {
     "data": {
      "text/plain": [
       "True"
      ]
     },
     "execution_count": 2,
     "metadata": {},
     "output_type": "execute_result"
    }
   ],
   "source": [
    "5<6"
   ]
  },
  {
   "cell_type": "code",
   "execution_count": 3,
   "id": "4cb7dd0c",
   "metadata": {},
   "outputs": [
    {
     "data": {
      "text/plain": [
       "False"
      ]
     },
     "execution_count": 3,
     "metadata": {},
     "output_type": "execute_result"
    }
   ],
   "source": [
    "6<6"
   ]
  },
  {
   "cell_type": "code",
   "execution_count": 4,
   "id": "22a6d2f8",
   "metadata": {},
   "outputs": [
    {
     "data": {
      "text/plain": [
       "True"
      ]
     },
     "execution_count": 4,
     "metadata": {},
     "output_type": "execute_result"
    }
   ],
   "source": [
    "6<=6"
   ]
  },
  {
   "cell_type": "code",
   "execution_count": 5,
   "id": "2adb46dd",
   "metadata": {},
   "outputs": [],
   "source": [
    "list_1 = [5,6,1,7,8,9,23,54,32]"
   ]
  },
  {
   "cell_type": "code",
   "execution_count": 12,
   "id": "f99d532b",
   "metadata": {},
   "outputs": [
    {
     "name": "stdout",
     "output_type": "stream",
     "text": [
      "5 is less than 23\n",
      "6 is less than 23\n",
      "1 is less than 23\n",
      "7 is less than 23\n",
      "8 is less than 23\n",
      "9 is less than 23\n",
      "23\n",
      "54\n",
      "32\n"
     ]
    }
   ],
   "source": [
    "for num in list_1:\n",
    "    if num>=23:\n",
    "        print(num)\n",
    "    else:\n",
    "        print(\"{0} is less than 23\".format(num))"
   ]
  },
  {
   "cell_type": "code",
   "execution_count": 13,
   "id": "02475c65",
   "metadata": {},
   "outputs": [
    {
     "data": {
      "text/plain": [
       "False"
      ]
     },
     "execution_count": 13,
     "metadata": {},
     "output_type": "execute_result"
    }
   ],
   "source": [
    "not True"
   ]
  },
  {
   "cell_type": "code",
   "execution_count": 14,
   "id": "d0e1a10d",
   "metadata": {},
   "outputs": [
    {
     "data": {
      "text/plain": [
       "True"
      ]
     },
     "execution_count": 14,
     "metadata": {},
     "output_type": "execute_result"
    }
   ],
   "source": [
    "not False"
   ]
  },
  {
   "cell_type": "code",
   "execution_count": 15,
   "id": "24b8daf0",
   "metadata": {},
   "outputs": [
    {
     "data": {
      "text/plain": [
       "True"
      ]
     },
     "execution_count": 15,
     "metadata": {},
     "output_type": "execute_result"
    }
   ],
   "source": [
    "5<6"
   ]
  },
  {
   "cell_type": "code",
   "execution_count": 16,
   "id": "4f997815",
   "metadata": {},
   "outputs": [
    {
     "data": {
      "text/plain": [
       "False"
      ]
     },
     "execution_count": 16,
     "metadata": {},
     "output_type": "execute_result"
    }
   ],
   "source": [
    "not 5<6"
   ]
  },
  {
   "cell_type": "code",
   "execution_count": 17,
   "id": "c6352fc3",
   "metadata": {},
   "outputs": [],
   "source": [
    "list_a = [1,2,3,4,50,55,56,57,78,65,66,100]\n",
    "lower_limit = 50\n",
    "upper_limit = 60"
   ]
  },
  {
   "cell_type": "code",
   "execution_count": 18,
   "id": "9465857b",
   "metadata": {},
   "outputs": [],
   "source": [
    "summation=0\n",
    "for num in list_a:\n",
    "    if num>=lower_limit and num<=upper_limit:\n",
    "        summation=summation+num\n",
    "        "
   ]
  },
  {
   "cell_type": "code",
   "execution_count": 19,
   "id": "42c02394",
   "metadata": {},
   "outputs": [
    {
     "data": {
      "text/plain": [
       "218"
      ]
     },
     "execution_count": 19,
     "metadata": {},
     "output_type": "execute_result"
    }
   ],
   "source": [
    "summation"
   ]
  },
  {
   "cell_type": "code",
   "execution_count": 20,
   "id": "a59572e0",
   "metadata": {},
   "outputs": [
    {
     "data": {
      "text/plain": [
       "218"
      ]
     },
     "execution_count": 20,
     "metadata": {},
     "output_type": "execute_result"
    }
   ],
   "source": [
    "temp_list = [50,55,56,57]\n",
    "sum(temp_list)"
   ]
  },
  {
   "cell_type": "code",
   "execution_count": 29,
   "id": "c6c631d2",
   "metadata": {},
   "outputs": [],
   "source": [
    "a=5\n"
   ]
  },
  {
   "cell_type": "code",
   "execution_count": 30,
   "id": "ca478897",
   "metadata": {},
   "outputs": [],
   "source": [
    "b=5"
   ]
  },
  {
   "cell_type": "code",
   "execution_count": 22,
   "id": "f97d2ac6",
   "metadata": {},
   "outputs": [
    {
     "data": {
      "text/plain": [
       "True"
      ]
     },
     "execution_count": 22,
     "metadata": {},
     "output_type": "execute_result"
    }
   ],
   "source": [
    "a==b"
   ]
  },
  {
   "cell_type": "code",
   "execution_count": 31,
   "id": "5aface73",
   "metadata": {},
   "outputs": [
    {
     "data": {
      "text/plain": [
       "True"
      ]
     },
     "execution_count": 31,
     "metadata": {},
     "output_type": "execute_result"
    }
   ],
   "source": [
    "a is b"
   ]
  },
  {
   "cell_type": "code",
   "execution_count": 24,
   "id": "0065aaa1",
   "metadata": {},
   "outputs": [
    {
     "data": {
      "text/plain": [
       "1530118865264"
      ]
     },
     "execution_count": 24,
     "metadata": {},
     "output_type": "execute_result"
    }
   ],
   "source": [
    "id(a)"
   ]
  },
  {
   "cell_type": "code",
   "execution_count": 25,
   "id": "140d7bb3",
   "metadata": {},
   "outputs": [
    {
     "data": {
      "text/plain": [
       "1530118865264"
      ]
     },
     "execution_count": 25,
     "metadata": {},
     "output_type": "execute_result"
    }
   ],
   "source": [
    "id(b)"
   ]
  },
  {
   "cell_type": "code",
   "execution_count": 33,
   "id": "9772b4b2",
   "metadata": {},
   "outputs": [],
   "source": [
    "a = [1,2,3,4,5]\n"
   ]
  },
  {
   "cell_type": "code",
   "execution_count": 34,
   "id": "31e11264",
   "metadata": {},
   "outputs": [],
   "source": [
    "b = [1,2,3,4,5]"
   ]
  },
  {
   "cell_type": "code",
   "execution_count": 28,
   "id": "e978b67f",
   "metadata": {},
   "outputs": [
    {
     "data": {
      "text/plain": [
       "(1530198823552, 1530203047744)"
      ]
     },
     "execution_count": 28,
     "metadata": {},
     "output_type": "execute_result"
    }
   ],
   "source": [
    "id(a),id(b)"
   ]
  },
  {
   "cell_type": "code",
   "execution_count": 37,
   "id": "45007b8b",
   "metadata": {},
   "outputs": [
    {
     "data": {
      "text/plain": [
       "False"
      ]
     },
     "execution_count": 37,
     "metadata": {},
     "output_type": "execute_result"
    }
   ],
   "source": [
    "a is b"
   ]
  },
  {
   "cell_type": "code",
   "execution_count": 36,
   "id": "d114629d",
   "metadata": {},
   "outputs": [
    {
     "data": {
      "text/plain": [
       "True"
      ]
     },
     "execution_count": 36,
     "metadata": {},
     "output_type": "execute_result"
    }
   ],
   "source": [
    "a==b"
   ]
  },
  {
   "cell_type": "code",
   "execution_count": 38,
   "id": "5e39881b",
   "metadata": {},
   "outputs": [
    {
     "data": {
      "text/plain": [
       "True"
      ]
     },
     "execution_count": 38,
     "metadata": {},
     "output_type": "execute_result"
    }
   ],
   "source": [
    "a is not b"
   ]
  },
  {
   "cell_type": "code",
   "execution_count": 41,
   "id": "4eb85a62",
   "metadata": {},
   "outputs": [],
   "source": [
    "student_names = [\"Priyanka\",\"Bharat\",\"Jafar\"]"
   ]
  },
  {
   "cell_type": "code",
   "execution_count": 44,
   "id": "21d6c1bb",
   "metadata": {},
   "outputs": [
    {
     "data": {
      "text/plain": [
       "True"
      ]
     },
     "execution_count": 44,
     "metadata": {},
     "output_type": "execute_result"
    }
   ],
   "source": [
    "\"Rahul\" not in student_names"
   ]
  },
  {
   "cell_type": "code",
   "execution_count": 47,
   "id": "fbd400ef",
   "metadata": {},
   "outputs": [
    {
     "name": "stdout",
     "output_type": "stream",
     "text": [
      "250 is not a leap year\n",
      "251 is not a leap year\n",
      "252 is a leap year\n",
      "253 is not a leap year\n",
      "254 is not a leap year\n",
      "255 is not a leap year\n",
      "256 is a leap year\n",
      "257 is not a leap year\n",
      "258 is not a leap year\n",
      "259 is not a leap year\n",
      "260 is a leap year\n",
      "261 is not a leap year\n",
      "262 is not a leap year\n",
      "263 is not a leap year\n",
      "264 is a leap year\n",
      "265 is not a leap year\n",
      "266 is not a leap year\n",
      "267 is not a leap year\n",
      "268 is a leap year\n",
      "269 is not a leap year\n",
      "270 is not a leap year\n",
      "271 is not a leap year\n",
      "272 is a leap year\n",
      "273 is not a leap year\n",
      "274 is not a leap year\n",
      "275 is not a leap year\n",
      "276 is a leap year\n",
      "277 is not a leap year\n",
      "278 is not a leap year\n",
      "279 is not a leap year\n",
      "280 is a leap year\n",
      "281 is not a leap year\n",
      "282 is not a leap year\n",
      "283 is not a leap year\n",
      "284 is a leap year\n",
      "285 is not a leap year\n",
      "286 is not a leap year\n",
      "287 is not a leap year\n",
      "288 is a leap year\n",
      "289 is not a leap year\n",
      "290 is not a leap year\n",
      "291 is not a leap year\n",
      "292 is a leap year\n",
      "293 is not a leap year\n",
      "294 is not a leap year\n",
      "295 is not a leap year\n",
      "296 is a leap year\n",
      "297 is not a leap year\n",
      "298 is not a leap year\n",
      "299 is not a leap year\n",
      "300 is not a leap year\n",
      "301 is not a leap year\n",
      "302 is not a leap year\n",
      "303 is not a leap year\n",
      "304 is a leap year\n",
      "305 is not a leap year\n",
      "306 is not a leap year\n",
      "307 is not a leap year\n",
      "308 is a leap year\n",
      "309 is not a leap year\n",
      "310 is not a leap year\n",
      "311 is not a leap year\n",
      "312 is a leap year\n",
      "313 is not a leap year\n",
      "314 is not a leap year\n",
      "315 is not a leap year\n",
      "316 is a leap year\n",
      "317 is not a leap year\n",
      "318 is not a leap year\n",
      "319 is not a leap year\n",
      "320 is a leap year\n",
      "321 is not a leap year\n",
      "322 is not a leap year\n",
      "323 is not a leap year\n",
      "324 is a leap year\n",
      "325 is not a leap year\n",
      "326 is not a leap year\n",
      "327 is not a leap year\n",
      "328 is a leap year\n",
      "329 is not a leap year\n",
      "330 is not a leap year\n",
      "331 is not a leap year\n",
      "332 is a leap year\n",
      "333 is not a leap year\n",
      "334 is not a leap year\n",
      "335 is not a leap year\n",
      "336 is a leap year\n",
      "337 is not a leap year\n",
      "338 is not a leap year\n",
      "339 is not a leap year\n",
      "340 is a leap year\n",
      "341 is not a leap year\n",
      "342 is not a leap year\n",
      "343 is not a leap year\n",
      "344 is a leap year\n",
      "345 is not a leap year\n",
      "346 is not a leap year\n",
      "347 is not a leap year\n",
      "348 is a leap year\n",
      "349 is not a leap year\n",
      "350 is not a leap year\n",
      "351 is not a leap year\n",
      "352 is a leap year\n",
      "353 is not a leap year\n",
      "354 is not a leap year\n",
      "355 is not a leap year\n",
      "356 is a leap year\n",
      "357 is not a leap year\n",
      "358 is not a leap year\n",
      "359 is not a leap year\n",
      "360 is a leap year\n",
      "361 is not a leap year\n",
      "362 is not a leap year\n",
      "363 is not a leap year\n",
      "364 is a leap year\n",
      "365 is not a leap year\n",
      "366 is not a leap year\n",
      "367 is not a leap year\n",
      "368 is a leap year\n",
      "369 is not a leap year\n",
      "370 is not a leap year\n",
      "371 is not a leap year\n",
      "372 is a leap year\n",
      "373 is not a leap year\n",
      "374 is not a leap year\n",
      "375 is not a leap year\n",
      "376 is a leap year\n",
      "377 is not a leap year\n",
      "378 is not a leap year\n",
      "379 is not a leap year\n",
      "380 is a leap year\n",
      "381 is not a leap year\n",
      "382 is not a leap year\n",
      "383 is not a leap year\n",
      "384 is a leap year\n",
      "385 is not a leap year\n",
      "386 is not a leap year\n",
      "387 is not a leap year\n",
      "388 is a leap year\n",
      "389 is not a leap year\n",
      "390 is not a leap year\n",
      "391 is not a leap year\n",
      "392 is a leap year\n",
      "393 is not a leap year\n",
      "394 is not a leap year\n",
      "395 is not a leap year\n",
      "396 is a leap year\n",
      "397 is not a leap year\n",
      "398 is not a leap year\n",
      "399 is not a leap year\n",
      "400 is a leap year\n",
      "401 is not a leap year\n",
      "402 is not a leap year\n",
      "403 is not a leap year\n",
      "404 is a leap year\n",
      "405 is not a leap year\n",
      "406 is not a leap year\n",
      "407 is not a leap year\n",
      "408 is a leap year\n",
      "409 is not a leap year\n",
      "410 is not a leap year\n",
      "411 is not a leap year\n",
      "412 is a leap year\n",
      "413 is not a leap year\n",
      "414 is not a leap year\n",
      "415 is not a leap year\n",
      "416 is a leap year\n",
      "417 is not a leap year\n",
      "418 is not a leap year\n",
      "419 is not a leap year\n",
      "420 is a leap year\n",
      "421 is not a leap year\n",
      "422 is not a leap year\n",
      "423 is not a leap year\n",
      "424 is a leap year\n",
      "425 is not a leap year\n",
      "426 is not a leap year\n",
      "427 is not a leap year\n",
      "428 is a leap year\n",
      "429 is not a leap year\n",
      "430 is not a leap year\n",
      "431 is not a leap year\n",
      "432 is a leap year\n",
      "433 is not a leap year\n",
      "434 is not a leap year\n",
      "435 is not a leap year\n",
      "436 is a leap year\n",
      "437 is not a leap year\n",
      "438 is not a leap year\n",
      "439 is not a leap year\n",
      "440 is a leap year\n",
      "441 is not a leap year\n",
      "442 is not a leap year\n",
      "443 is not a leap year\n",
      "444 is a leap year\n",
      "445 is not a leap year\n",
      "446 is not a leap year\n",
      "447 is not a leap year\n",
      "448 is a leap year\n",
      "449 is not a leap year\n",
      "450 is not a leap year\n",
      "451 is not a leap year\n",
      "452 is a leap year\n",
      "453 is not a leap year\n",
      "454 is not a leap year\n",
      "455 is not a leap year\n",
      "456 is a leap year\n",
      "457 is not a leap year\n",
      "458 is not a leap year\n",
      "459 is not a leap year\n",
      "460 is a leap year\n",
      "461 is not a leap year\n",
      "462 is not a leap year\n",
      "463 is not a leap year\n",
      "464 is a leap year\n",
      "465 is not a leap year\n",
      "466 is not a leap year\n",
      "467 is not a leap year\n",
      "468 is a leap year\n",
      "469 is not a leap year\n",
      "470 is not a leap year\n",
      "471 is not a leap year\n",
      "472 is a leap year\n",
      "473 is not a leap year\n",
      "474 is not a leap year\n",
      "475 is not a leap year\n",
      "476 is a leap year\n",
      "477 is not a leap year\n",
      "478 is not a leap year\n",
      "479 is not a leap year\n",
      "480 is a leap year\n",
      "481 is not a leap year\n",
      "482 is not a leap year\n",
      "483 is not a leap year\n",
      "484 is a leap year\n",
      "485 is not a leap year\n",
      "486 is not a leap year\n",
      "487 is not a leap year\n",
      "488 is a leap year\n",
      "489 is not a leap year\n",
      "490 is not a leap year\n",
      "491 is not a leap year\n",
      "492 is a leap year\n",
      "493 is not a leap year\n",
      "494 is not a leap year\n",
      "495 is not a leap year\n",
      "496 is a leap year\n",
      "497 is not a leap year\n",
      "498 is not a leap year\n",
      "499 is not a leap year\n",
      "500 is not a leap year\n",
      "501 is not a leap year\n",
      "502 is not a leap year\n",
      "503 is not a leap year\n",
      "504 is a leap year\n",
      "505 is not a leap year\n",
      "506 is not a leap year\n",
      "507 is not a leap year\n",
      "508 is a leap year\n",
      "509 is not a leap year\n",
      "510 is not a leap year\n",
      "511 is not a leap year\n",
      "512 is a leap year\n",
      "513 is not a leap year\n",
      "514 is not a leap year\n",
      "515 is not a leap year\n",
      "516 is a leap year\n",
      "517 is not a leap year\n",
      "518 is not a leap year\n",
      "519 is not a leap year\n",
      "520 is a leap year\n",
      "521 is not a leap year\n",
      "522 is not a leap year\n",
      "523 is not a leap year\n",
      "524 is a leap year\n",
      "525 is not a leap year\n",
      "526 is not a leap year\n",
      "527 is not a leap year\n",
      "528 is a leap year\n",
      "529 is not a leap year\n",
      "530 is not a leap year\n",
      "531 is not a leap year\n",
      "532 is a leap year\n",
      "533 is not a leap year\n",
      "534 is not a leap year\n",
      "535 is not a leap year\n",
      "536 is a leap year\n",
      "537 is not a leap year\n",
      "538 is not a leap year\n",
      "539 is not a leap year\n",
      "540 is a leap year\n",
      "541 is not a leap year\n",
      "542 is not a leap year\n",
      "543 is not a leap year\n",
      "544 is a leap year\n",
      "545 is not a leap year\n",
      "546 is not a leap year\n",
      "547 is not a leap year\n",
      "548 is a leap year\n",
      "549 is not a leap year\n",
      "550 is not a leap year\n",
      "551 is not a leap year\n",
      "552 is a leap year\n",
      "553 is not a leap year\n",
      "554 is not a leap year\n",
      "555 is not a leap year\n",
      "556 is a leap year\n",
      "557 is not a leap year\n",
      "558 is not a leap year\n",
      "559 is not a leap year\n",
      "560 is a leap year\n",
      "561 is not a leap year\n",
      "562 is not a leap year\n",
      "563 is not a leap year\n",
      "564 is a leap year\n",
      "565 is not a leap year\n",
      "566 is not a leap year\n",
      "567 is not a leap year\n",
      "568 is a leap year\n",
      "569 is not a leap year\n",
      "570 is not a leap year\n",
      "571 is not a leap year\n",
      "572 is a leap year\n",
      "573 is not a leap year\n",
      "574 is not a leap year\n",
      "575 is not a leap year\n",
      "576 is a leap year\n",
      "577 is not a leap year\n",
      "578 is not a leap year\n",
      "579 is not a leap year\n",
      "580 is a leap year\n",
      "581 is not a leap year\n",
      "582 is not a leap year\n",
      "583 is not a leap year\n",
      "584 is a leap year\n",
      "585 is not a leap year\n",
      "586 is not a leap year\n",
      "587 is not a leap year\n",
      "588 is a leap year\n",
      "589 is not a leap year\n",
      "590 is not a leap year\n",
      "591 is not a leap year\n",
      "592 is a leap year\n",
      "593 is not a leap year\n",
      "594 is not a leap year\n",
      "595 is not a leap year\n",
      "596 is a leap year\n",
      "597 is not a leap year\n",
      "598 is not a leap year\n",
      "599 is not a leap year\n",
      "600 is not a leap year\n",
      "601 is not a leap year\n",
      "602 is not a leap year\n",
      "603 is not a leap year\n",
      "604 is a leap year\n",
      "605 is not a leap year\n",
      "606 is not a leap year\n",
      "607 is not a leap year\n",
      "608 is a leap year\n",
      "609 is not a leap year\n",
      "610 is not a leap year\n",
      "611 is not a leap year\n",
      "612 is a leap year\n",
      "613 is not a leap year\n",
      "614 is not a leap year\n",
      "615 is not a leap year\n",
      "616 is a leap year\n",
      "617 is not a leap year\n",
      "618 is not a leap year\n",
      "619 is not a leap year\n",
      "620 is a leap year\n",
      "621 is not a leap year\n",
      "622 is not a leap year\n",
      "623 is not a leap year\n",
      "624 is a leap year\n",
      "625 is not a leap year\n",
      "626 is not a leap year\n",
      "627 is not a leap year\n",
      "628 is a leap year\n",
      "629 is not a leap year\n",
      "630 is not a leap year\n",
      "631 is not a leap year\n",
      "632 is a leap year\n",
      "633 is not a leap year\n",
      "634 is not a leap year\n",
      "635 is not a leap year\n",
      "636 is a leap year\n",
      "637 is not a leap year\n",
      "638 is not a leap year\n",
      "639 is not a leap year\n",
      "640 is a leap year\n",
      "641 is not a leap year\n",
      "642 is not a leap year\n",
      "643 is not a leap year\n",
      "644 is a leap year\n",
      "645 is not a leap year\n",
      "646 is not a leap year\n",
      "647 is not a leap year\n",
      "648 is a leap year\n",
      "649 is not a leap year\n",
      "650 is not a leap year\n",
      "651 is not a leap year\n",
      "652 is a leap year\n",
      "653 is not a leap year\n",
      "654 is not a leap year\n",
      "655 is not a leap year\n",
      "656 is a leap year\n",
      "657 is not a leap year\n",
      "658 is not a leap year\n",
      "659 is not a leap year\n",
      "660 is a leap year\n",
      "661 is not a leap year\n",
      "662 is not a leap year\n",
      "663 is not a leap year\n",
      "664 is a leap year\n",
      "665 is not a leap year\n",
      "666 is not a leap year\n",
      "667 is not a leap year\n",
      "668 is a leap year\n",
      "669 is not a leap year\n",
      "670 is not a leap year\n",
      "671 is not a leap year\n",
      "672 is a leap year\n",
      "673 is not a leap year\n",
      "674 is not a leap year\n",
      "675 is not a leap year\n",
      "676 is a leap year\n",
      "677 is not a leap year\n",
      "678 is not a leap year\n",
      "679 is not a leap year\n",
      "680 is a leap year\n",
      "681 is not a leap year\n",
      "682 is not a leap year\n",
      "683 is not a leap year\n",
      "684 is a leap year\n",
      "685 is not a leap year\n",
      "686 is not a leap year\n",
      "687 is not a leap year\n",
      "688 is a leap year\n",
      "689 is not a leap year\n",
      "690 is not a leap year\n",
      "691 is not a leap year\n",
      "692 is a leap year\n",
      "693 is not a leap year\n",
      "694 is not a leap year\n",
      "695 is not a leap year\n",
      "696 is a leap year\n",
      "697 is not a leap year\n",
      "698 is not a leap year\n",
      "699 is not a leap year\n",
      "700 is not a leap year\n",
      "701 is not a leap year\n",
      "702 is not a leap year\n",
      "703 is not a leap year\n",
      "704 is a leap year\n",
      "705 is not a leap year\n",
      "706 is not a leap year\n",
      "707 is not a leap year\n",
      "708 is a leap year\n",
      "709 is not a leap year\n",
      "710 is not a leap year\n",
      "711 is not a leap year\n",
      "712 is a leap year\n",
      "713 is not a leap year\n",
      "714 is not a leap year\n",
      "715 is not a leap year\n",
      "716 is a leap year\n",
      "717 is not a leap year\n",
      "718 is not a leap year\n",
      "719 is not a leap year\n",
      "720 is a leap year\n",
      "721 is not a leap year\n",
      "722 is not a leap year\n",
      "723 is not a leap year\n",
      "724 is a leap year\n",
      "725 is not a leap year\n",
      "726 is not a leap year\n",
      "727 is not a leap year\n",
      "728 is a leap year\n",
      "729 is not a leap year\n",
      "730 is not a leap year\n",
      "731 is not a leap year\n",
      "732 is a leap year\n",
      "733 is not a leap year\n",
      "734 is not a leap year\n",
      "735 is not a leap year\n",
      "736 is a leap year\n",
      "737 is not a leap year\n",
      "738 is not a leap year\n",
      "739 is not a leap year\n",
      "740 is a leap year\n",
      "741 is not a leap year\n",
      "742 is not a leap year\n",
      "743 is not a leap year\n",
      "744 is a leap year\n",
      "745 is not a leap year\n",
      "746 is not a leap year\n",
      "747 is not a leap year\n",
      "748 is a leap year\n",
      "749 is not a leap year\n",
      "750 is not a leap year\n",
      "751 is not a leap year\n",
      "752 is a leap year\n",
      "753 is not a leap year\n",
      "754 is not a leap year\n",
      "755 is not a leap year\n",
      "756 is a leap year\n",
      "757 is not a leap year\n",
      "758 is not a leap year\n",
      "759 is not a leap year\n",
      "760 is a leap year\n",
      "761 is not a leap year\n",
      "762 is not a leap year\n",
      "763 is not a leap year\n",
      "764 is a leap year\n",
      "765 is not a leap year\n",
      "766 is not a leap year\n",
      "767 is not a leap year\n",
      "768 is a leap year\n",
      "769 is not a leap year\n",
      "770 is not a leap year\n",
      "771 is not a leap year\n",
      "772 is a leap year\n",
      "773 is not a leap year\n",
      "774 is not a leap year\n",
      "775 is not a leap year\n",
      "776 is a leap year\n",
      "777 is not a leap year\n",
      "778 is not a leap year\n",
      "779 is not a leap year\n",
      "780 is a leap year\n",
      "781 is not a leap year\n",
      "782 is not a leap year\n",
      "783 is not a leap year\n",
      "784 is a leap year\n",
      "785 is not a leap year\n",
      "786 is not a leap year\n",
      "787 is not a leap year\n",
      "788 is a leap year\n",
      "789 is not a leap year\n",
      "790 is not a leap year\n",
      "791 is not a leap year\n",
      "792 is a leap year\n",
      "793 is not a leap year\n",
      "794 is not a leap year\n",
      "795 is not a leap year\n",
      "796 is a leap year\n",
      "797 is not a leap year\n",
      "798 is not a leap year\n",
      "799 is not a leap year\n",
      "800 is a leap year\n",
      "801 is not a leap year\n",
      "802 is not a leap year\n",
      "803 is not a leap year\n",
      "804 is a leap year\n",
      "805 is not a leap year\n",
      "806 is not a leap year\n",
      "807 is not a leap year\n",
      "808 is a leap year\n",
      "809 is not a leap year\n",
      "810 is not a leap year\n",
      "811 is not a leap year\n",
      "812 is a leap year\n",
      "813 is not a leap year\n",
      "814 is not a leap year\n",
      "815 is not a leap year\n",
      "816 is a leap year\n",
      "817 is not a leap year\n",
      "818 is not a leap year\n",
      "819 is not a leap year\n",
      "820 is a leap year\n",
      "821 is not a leap year\n",
      "822 is not a leap year\n",
      "823 is not a leap year\n",
      "824 is a leap year\n",
      "825 is not a leap year\n",
      "826 is not a leap year\n",
      "827 is not a leap year\n",
      "828 is a leap year\n",
      "829 is not a leap year\n",
      "830 is not a leap year\n",
      "831 is not a leap year\n",
      "832 is a leap year\n",
      "833 is not a leap year\n",
      "834 is not a leap year\n",
      "835 is not a leap year\n",
      "836 is a leap year\n",
      "837 is not a leap year\n",
      "838 is not a leap year\n",
      "839 is not a leap year\n",
      "840 is a leap year\n",
      "841 is not a leap year\n",
      "842 is not a leap year\n",
      "843 is not a leap year\n",
      "844 is a leap year\n",
      "845 is not a leap year\n",
      "846 is not a leap year\n",
      "847 is not a leap year\n",
      "848 is a leap year\n",
      "849 is not a leap year\n",
      "850 is not a leap year\n",
      "851 is not a leap year\n",
      "852 is a leap year\n",
      "853 is not a leap year\n",
      "854 is not a leap year\n",
      "855 is not a leap year\n",
      "856 is a leap year\n",
      "857 is not a leap year\n",
      "858 is not a leap year\n",
      "859 is not a leap year\n",
      "860 is a leap year\n",
      "861 is not a leap year\n",
      "862 is not a leap year\n",
      "863 is not a leap year\n",
      "864 is a leap year\n",
      "865 is not a leap year\n",
      "866 is not a leap year\n",
      "867 is not a leap year\n",
      "868 is a leap year\n",
      "869 is not a leap year\n",
      "870 is not a leap year\n",
      "871 is not a leap year\n",
      "872 is a leap year\n",
      "873 is not a leap year\n",
      "874 is not a leap year\n",
      "875 is not a leap year\n",
      "876 is a leap year\n",
      "877 is not a leap year\n",
      "878 is not a leap year\n",
      "879 is not a leap year\n",
      "880 is a leap year\n",
      "881 is not a leap year\n",
      "882 is not a leap year\n",
      "883 is not a leap year\n",
      "884 is a leap year\n",
      "885 is not a leap year\n",
      "886 is not a leap year\n",
      "887 is not a leap year\n",
      "888 is a leap year\n",
      "889 is not a leap year\n",
      "890 is not a leap year\n",
      "891 is not a leap year\n",
      "892 is a leap year\n",
      "893 is not a leap year\n",
      "894 is not a leap year\n",
      "895 is not a leap year\n",
      "896 is a leap year\n",
      "897 is not a leap year\n",
      "898 is not a leap year\n",
      "899 is not a leap year\n",
      "900 is not a leap year\n",
      "901 is not a leap year\n",
      "902 is not a leap year\n",
      "903 is not a leap year\n",
      "904 is a leap year\n",
      "905 is not a leap year\n",
      "906 is not a leap year\n",
      "907 is not a leap year\n",
      "908 is a leap year\n",
      "909 is not a leap year\n",
      "910 is not a leap year\n",
      "911 is not a leap year\n",
      "912 is a leap year\n",
      "913 is not a leap year\n",
      "914 is not a leap year\n",
      "915 is not a leap year\n",
      "916 is a leap year\n",
      "917 is not a leap year\n",
      "918 is not a leap year\n",
      "919 is not a leap year\n",
      "920 is a leap year\n",
      "921 is not a leap year\n",
      "922 is not a leap year\n",
      "923 is not a leap year\n",
      "924 is a leap year\n",
      "925 is not a leap year\n",
      "926 is not a leap year\n",
      "927 is not a leap year\n",
      "928 is a leap year\n",
      "929 is not a leap year\n",
      "930 is not a leap year\n",
      "931 is not a leap year\n",
      "932 is a leap year\n",
      "933 is not a leap year\n",
      "934 is not a leap year\n",
      "935 is not a leap year\n",
      "936 is a leap year\n",
      "937 is not a leap year\n",
      "938 is not a leap year\n",
      "939 is not a leap year\n",
      "940 is a leap year\n",
      "941 is not a leap year\n",
      "942 is not a leap year\n",
      "943 is not a leap year\n",
      "944 is a leap year\n",
      "945 is not a leap year\n",
      "946 is not a leap year\n",
      "947 is not a leap year\n",
      "948 is a leap year\n",
      "949 is not a leap year\n",
      "950 is not a leap year\n",
      "951 is not a leap year\n",
      "952 is a leap year\n",
      "953 is not a leap year\n",
      "954 is not a leap year\n",
      "955 is not a leap year\n",
      "956 is a leap year\n",
      "957 is not a leap year\n",
      "958 is not a leap year\n",
      "959 is not a leap year\n",
      "960 is a leap year\n",
      "961 is not a leap year\n",
      "962 is not a leap year\n",
      "963 is not a leap year\n",
      "964 is a leap year\n",
      "965 is not a leap year\n",
      "966 is not a leap year\n",
      "967 is not a leap year\n",
      "968 is a leap year\n",
      "969 is not a leap year\n",
      "970 is not a leap year\n",
      "971 is not a leap year\n",
      "972 is a leap year\n",
      "973 is not a leap year\n",
      "974 is not a leap year\n",
      "975 is not a leap year\n",
      "976 is a leap year\n",
      "977 is not a leap year\n",
      "978 is not a leap year\n",
      "979 is not a leap year\n",
      "980 is a leap year\n",
      "981 is not a leap year\n",
      "982 is not a leap year\n",
      "983 is not a leap year\n",
      "984 is a leap year\n",
      "985 is not a leap year\n",
      "986 is not a leap year\n",
      "987 is not a leap year\n",
      "988 is a leap year\n",
      "989 is not a leap year\n",
      "990 is not a leap year\n",
      "991 is not a leap year\n",
      "992 is a leap year\n",
      "993 is not a leap year\n",
      "994 is not a leap year\n",
      "995 is not a leap year\n",
      "996 is a leap year\n",
      "997 is not a leap year\n",
      "998 is not a leap year\n",
      "999 is not a leap year\n",
      "1000 is not a leap year\n",
      "1001 is not a leap year\n",
      "1002 is not a leap year\n",
      "1003 is not a leap year\n",
      "1004 is a leap year\n",
      "1005 is not a leap year\n",
      "1006 is not a leap year\n",
      "1007 is not a leap year\n",
      "1008 is a leap year\n",
      "1009 is not a leap year\n",
      "1010 is not a leap year\n",
      "1011 is not a leap year\n",
      "1012 is a leap year\n",
      "1013 is not a leap year\n",
      "1014 is not a leap year\n",
      "1015 is not a leap year\n",
      "1016 is a leap year\n",
      "1017 is not a leap year\n",
      "1018 is not a leap year\n",
      "1019 is not a leap year\n",
      "1020 is a leap year\n",
      "1021 is not a leap year\n",
      "1022 is not a leap year\n",
      "1023 is not a leap year\n",
      "1024 is a leap year\n",
      "1025 is not a leap year\n",
      "1026 is not a leap year\n",
      "1027 is not a leap year\n",
      "1028 is a leap year\n",
      "1029 is not a leap year\n",
      "1030 is not a leap year\n",
      "1031 is not a leap year\n",
      "1032 is a leap year\n",
      "1033 is not a leap year\n",
      "1034 is not a leap year\n",
      "1035 is not a leap year\n",
      "1036 is a leap year\n",
      "1037 is not a leap year\n",
      "1038 is not a leap year\n",
      "1039 is not a leap year\n",
      "1040 is a leap year\n",
      "1041 is not a leap year\n",
      "1042 is not a leap year\n",
      "1043 is not a leap year\n",
      "1044 is a leap year\n",
      "1045 is not a leap year\n",
      "1046 is not a leap year\n",
      "1047 is not a leap year\n",
      "1048 is a leap year\n",
      "1049 is not a leap year\n",
      "1050 is not a leap year\n",
      "1051 is not a leap year\n",
      "1052 is a leap year\n",
      "1053 is not a leap year\n",
      "1054 is not a leap year\n",
      "1055 is not a leap year\n",
      "1056 is a leap year\n",
      "1057 is not a leap year\n",
      "1058 is not a leap year\n",
      "1059 is not a leap year\n",
      "1060 is a leap year\n",
      "1061 is not a leap year\n",
      "1062 is not a leap year\n",
      "1063 is not a leap year\n",
      "1064 is a leap year\n",
      "1065 is not a leap year\n",
      "1066 is not a leap year\n",
      "1067 is not a leap year\n",
      "1068 is a leap year\n",
      "1069 is not a leap year\n",
      "1070 is not a leap year\n",
      "1071 is not a leap year\n",
      "1072 is a leap year\n",
      "1073 is not a leap year\n",
      "1074 is not a leap year\n",
      "1075 is not a leap year\n",
      "1076 is a leap year\n",
      "1077 is not a leap year\n",
      "1078 is not a leap year\n",
      "1079 is not a leap year\n",
      "1080 is a leap year\n",
      "1081 is not a leap year\n",
      "1082 is not a leap year\n",
      "1083 is not a leap year\n",
      "1084 is a leap year\n",
      "1085 is not a leap year\n",
      "1086 is not a leap year\n",
      "1087 is not a leap year\n",
      "1088 is a leap year\n",
      "1089 is not a leap year\n",
      "1090 is not a leap year\n",
      "1091 is not a leap year\n",
      "1092 is a leap year\n",
      "1093 is not a leap year\n",
      "1094 is not a leap year\n",
      "1095 is not a leap year\n",
      "1096 is a leap year\n",
      "1097 is not a leap year\n",
      "1098 is not a leap year\n",
      "1099 is not a leap year\n",
      "1100 is not a leap year\n",
      "1101 is not a leap year\n",
      "1102 is not a leap year\n",
      "1103 is not a leap year\n",
      "1104 is a leap year\n",
      "1105 is not a leap year\n",
      "1106 is not a leap year\n",
      "1107 is not a leap year\n",
      "1108 is a leap year\n",
      "1109 is not a leap year\n",
      "1110 is not a leap year\n",
      "1111 is not a leap year\n",
      "1112 is a leap year\n",
      "1113 is not a leap year\n",
      "1114 is not a leap year\n",
      "1115 is not a leap year\n",
      "1116 is a leap year\n",
      "1117 is not a leap year\n",
      "1118 is not a leap year\n",
      "1119 is not a leap year\n",
      "1120 is a leap year\n",
      "1121 is not a leap year\n",
      "1122 is not a leap year\n",
      "1123 is not a leap year\n",
      "1124 is a leap year\n",
      "1125 is not a leap year\n",
      "1126 is not a leap year\n",
      "1127 is not a leap year\n",
      "1128 is a leap year\n",
      "1129 is not a leap year\n",
      "1130 is not a leap year\n",
      "1131 is not a leap year\n",
      "1132 is a leap year\n",
      "1133 is not a leap year\n",
      "1134 is not a leap year\n",
      "1135 is not a leap year\n",
      "1136 is a leap year\n",
      "1137 is not a leap year\n",
      "1138 is not a leap year\n",
      "1139 is not a leap year\n",
      "1140 is a leap year\n",
      "1141 is not a leap year\n",
      "1142 is not a leap year\n",
      "1143 is not a leap year\n",
      "1144 is a leap year\n",
      "1145 is not a leap year\n",
      "1146 is not a leap year\n",
      "1147 is not a leap year\n",
      "1148 is a leap year\n",
      "1149 is not a leap year\n",
      "1150 is not a leap year\n",
      "1151 is not a leap year\n",
      "1152 is a leap year\n",
      "1153 is not a leap year\n",
      "1154 is not a leap year\n",
      "1155 is not a leap year\n",
      "1156 is a leap year\n",
      "1157 is not a leap year\n",
      "1158 is not a leap year\n",
      "1159 is not a leap year\n",
      "1160 is a leap year\n",
      "1161 is not a leap year\n",
      "1162 is not a leap year\n",
      "1163 is not a leap year\n",
      "1164 is a leap year\n",
      "1165 is not a leap year\n",
      "1166 is not a leap year\n",
      "1167 is not a leap year\n",
      "1168 is a leap year\n",
      "1169 is not a leap year\n",
      "1170 is not a leap year\n",
      "1171 is not a leap year\n",
      "1172 is a leap year\n",
      "1173 is not a leap year\n",
      "1174 is not a leap year\n",
      "1175 is not a leap year\n",
      "1176 is a leap year\n",
      "1177 is not a leap year\n",
      "1178 is not a leap year\n",
      "1179 is not a leap year\n",
      "1180 is a leap year\n",
      "1181 is not a leap year\n",
      "1182 is not a leap year\n",
      "1183 is not a leap year\n",
      "1184 is a leap year\n",
      "1185 is not a leap year\n",
      "1186 is not a leap year\n",
      "1187 is not a leap year\n",
      "1188 is a leap year\n",
      "1189 is not a leap year\n",
      "1190 is not a leap year\n",
      "1191 is not a leap year\n",
      "1192 is a leap year\n",
      "1193 is not a leap year\n",
      "1194 is not a leap year\n",
      "1195 is not a leap year\n",
      "1196 is a leap year\n",
      "1197 is not a leap year\n",
      "1198 is not a leap year\n",
      "1199 is not a leap year\n",
      "1200 is a leap year\n",
      "1201 is not a leap year\n",
      "1202 is not a leap year\n",
      "1203 is not a leap year\n",
      "1204 is a leap year\n",
      "1205 is not a leap year\n",
      "1206 is not a leap year\n",
      "1207 is not a leap year\n",
      "1208 is a leap year\n",
      "1209 is not a leap year\n",
      "1210 is not a leap year\n",
      "1211 is not a leap year\n",
      "1212 is a leap year\n",
      "1213 is not a leap year\n",
      "1214 is not a leap year\n",
      "1215 is not a leap year\n",
      "1216 is a leap year\n",
      "1217 is not a leap year\n",
      "1218 is not a leap year\n",
      "1219 is not a leap year\n",
      "1220 is a leap year\n",
      "1221 is not a leap year\n",
      "1222 is not a leap year\n",
      "1223 is not a leap year\n",
      "1224 is a leap year\n",
      "1225 is not a leap year\n",
      "1226 is not a leap year\n",
      "1227 is not a leap year\n",
      "1228 is a leap year\n",
      "1229 is not a leap year\n",
      "1230 is not a leap year\n",
      "1231 is not a leap year\n",
      "1232 is a leap year\n",
      "1233 is not a leap year\n",
      "1234 is not a leap year\n",
      "1235 is not a leap year\n",
      "1236 is a leap year\n",
      "1237 is not a leap year\n",
      "1238 is not a leap year\n",
      "1239 is not a leap year\n",
      "1240 is a leap year\n",
      "1241 is not a leap year\n",
      "1242 is not a leap year\n",
      "1243 is not a leap year\n",
      "1244 is a leap year\n",
      "1245 is not a leap year\n",
      "1246 is not a leap year\n",
      "1247 is not a leap year\n",
      "1248 is a leap year\n",
      "1249 is not a leap year\n",
      "1250 is not a leap year\n",
      "1251 is not a leap year\n",
      "1252 is a leap year\n",
      "1253 is not a leap year\n",
      "1254 is not a leap year\n",
      "1255 is not a leap year\n",
      "1256 is a leap year\n",
      "1257 is not a leap year\n",
      "1258 is not a leap year\n",
      "1259 is not a leap year\n",
      "1260 is a leap year\n",
      "1261 is not a leap year\n",
      "1262 is not a leap year\n",
      "1263 is not a leap year\n",
      "1264 is a leap year\n",
      "1265 is not a leap year\n",
      "1266 is not a leap year\n",
      "1267 is not a leap year\n",
      "1268 is a leap year\n",
      "1269 is not a leap year\n",
      "1270 is not a leap year\n",
      "1271 is not a leap year\n",
      "1272 is a leap year\n",
      "1273 is not a leap year\n",
      "1274 is not a leap year\n",
      "1275 is not a leap year\n",
      "1276 is a leap year\n",
      "1277 is not a leap year\n",
      "1278 is not a leap year\n",
      "1279 is not a leap year\n",
      "1280 is a leap year\n",
      "1281 is not a leap year\n",
      "1282 is not a leap year\n",
      "1283 is not a leap year\n",
      "1284 is a leap year\n",
      "1285 is not a leap year\n",
      "1286 is not a leap year\n",
      "1287 is not a leap year\n",
      "1288 is a leap year\n",
      "1289 is not a leap year\n",
      "1290 is not a leap year\n",
      "1291 is not a leap year\n",
      "1292 is a leap year\n",
      "1293 is not a leap year\n",
      "1294 is not a leap year\n",
      "1295 is not a leap year\n",
      "1296 is a leap year\n",
      "1297 is not a leap year\n",
      "1298 is not a leap year\n",
      "1299 is not a leap year\n",
      "1300 is not a leap year\n",
      "1301 is not a leap year\n",
      "1302 is not a leap year\n",
      "1303 is not a leap year\n",
      "1304 is a leap year\n",
      "1305 is not a leap year\n",
      "1306 is not a leap year\n",
      "1307 is not a leap year\n",
      "1308 is a leap year\n",
      "1309 is not a leap year\n",
      "1310 is not a leap year\n",
      "1311 is not a leap year\n",
      "1312 is a leap year\n",
      "1313 is not a leap year\n",
      "1314 is not a leap year\n",
      "1315 is not a leap year\n",
      "1316 is a leap year\n",
      "1317 is not a leap year\n",
      "1318 is not a leap year\n",
      "1319 is not a leap year\n",
      "1320 is a leap year\n",
      "1321 is not a leap year\n",
      "1322 is not a leap year\n",
      "1323 is not a leap year\n",
      "1324 is a leap year\n",
      "1325 is not a leap year\n",
      "1326 is not a leap year\n",
      "1327 is not a leap year\n",
      "1328 is a leap year\n",
      "1329 is not a leap year\n",
      "1330 is not a leap year\n",
      "1331 is not a leap year\n",
      "1332 is a leap year\n",
      "1333 is not a leap year\n",
      "1334 is not a leap year\n",
      "1335 is not a leap year\n",
      "1336 is a leap year\n",
      "1337 is not a leap year\n",
      "1338 is not a leap year\n",
      "1339 is not a leap year\n",
      "1340 is a leap year\n",
      "1341 is not a leap year\n",
      "1342 is not a leap year\n",
      "1343 is not a leap year\n",
      "1344 is a leap year\n",
      "1345 is not a leap year\n",
      "1346 is not a leap year\n",
      "1347 is not a leap year\n",
      "1348 is a leap year\n",
      "1349 is not a leap year\n",
      "1350 is not a leap year\n",
      "1351 is not a leap year\n",
      "1352 is a leap year\n",
      "1353 is not a leap year\n",
      "1354 is not a leap year\n",
      "1355 is not a leap year\n",
      "1356 is a leap year\n",
      "1357 is not a leap year\n",
      "1358 is not a leap year\n",
      "1359 is not a leap year\n",
      "1360 is a leap year\n",
      "1361 is not a leap year\n",
      "1362 is not a leap year\n",
      "1363 is not a leap year\n",
      "1364 is a leap year\n",
      "1365 is not a leap year\n",
      "1366 is not a leap year\n",
      "1367 is not a leap year\n",
      "1368 is a leap year\n",
      "1369 is not a leap year\n",
      "1370 is not a leap year\n",
      "1371 is not a leap year\n",
      "1372 is a leap year\n",
      "1373 is not a leap year\n",
      "1374 is not a leap year\n",
      "1375 is not a leap year\n",
      "1376 is a leap year\n",
      "1377 is not a leap year\n",
      "1378 is not a leap year\n",
      "1379 is not a leap year\n",
      "1380 is a leap year\n",
      "1381 is not a leap year\n",
      "1382 is not a leap year\n",
      "1383 is not a leap year\n",
      "1384 is a leap year\n",
      "1385 is not a leap year\n",
      "1386 is not a leap year\n",
      "1387 is not a leap year\n",
      "1388 is a leap year\n",
      "1389 is not a leap year\n",
      "1390 is not a leap year\n",
      "1391 is not a leap year\n",
      "1392 is a leap year\n",
      "1393 is not a leap year\n",
      "1394 is not a leap year\n",
      "1395 is not a leap year\n",
      "1396 is a leap year\n",
      "1397 is not a leap year\n",
      "1398 is not a leap year\n",
      "1399 is not a leap year\n",
      "1400 is not a leap year\n",
      "1401 is not a leap year\n",
      "1402 is not a leap year\n",
      "1403 is not a leap year\n",
      "1404 is a leap year\n",
      "1405 is not a leap year\n",
      "1406 is not a leap year\n",
      "1407 is not a leap year\n",
      "1408 is a leap year\n",
      "1409 is not a leap year\n",
      "1410 is not a leap year\n",
      "1411 is not a leap year\n",
      "1412 is a leap year\n",
      "1413 is not a leap year\n",
      "1414 is not a leap year\n",
      "1415 is not a leap year\n",
      "1416 is a leap year\n",
      "1417 is not a leap year\n",
      "1418 is not a leap year\n",
      "1419 is not a leap year\n",
      "1420 is a leap year\n",
      "1421 is not a leap year\n",
      "1422 is not a leap year\n",
      "1423 is not a leap year\n",
      "1424 is a leap year\n",
      "1425 is not a leap year\n",
      "1426 is not a leap year\n",
      "1427 is not a leap year\n",
      "1428 is a leap year\n",
      "1429 is not a leap year\n",
      "1430 is not a leap year\n",
      "1431 is not a leap year\n",
      "1432 is a leap year\n",
      "1433 is not a leap year\n",
      "1434 is not a leap year\n",
      "1435 is not a leap year\n",
      "1436 is a leap year\n",
      "1437 is not a leap year\n",
      "1438 is not a leap year\n",
      "1439 is not a leap year\n",
      "1440 is a leap year\n",
      "1441 is not a leap year\n",
      "1442 is not a leap year\n",
      "1443 is not a leap year\n",
      "1444 is a leap year\n",
      "1445 is not a leap year\n",
      "1446 is not a leap year\n",
      "1447 is not a leap year\n",
      "1448 is a leap year\n",
      "1449 is not a leap year\n",
      "1450 is not a leap year\n",
      "1451 is not a leap year\n",
      "1452 is a leap year\n",
      "1453 is not a leap year\n",
      "1454 is not a leap year\n",
      "1455 is not a leap year\n",
      "1456 is a leap year\n",
      "1457 is not a leap year\n",
      "1458 is not a leap year\n",
      "1459 is not a leap year\n",
      "1460 is a leap year\n",
      "1461 is not a leap year\n",
      "1462 is not a leap year\n",
      "1463 is not a leap year\n",
      "1464 is a leap year\n",
      "1465 is not a leap year\n",
      "1466 is not a leap year\n",
      "1467 is not a leap year\n",
      "1468 is a leap year\n",
      "1469 is not a leap year\n",
      "1470 is not a leap year\n",
      "1471 is not a leap year\n",
      "1472 is a leap year\n",
      "1473 is not a leap year\n",
      "1474 is not a leap year\n",
      "1475 is not a leap year\n",
      "1476 is a leap year\n",
      "1477 is not a leap year\n",
      "1478 is not a leap year\n",
      "1479 is not a leap year\n",
      "1480 is a leap year\n",
      "1481 is not a leap year\n",
      "1482 is not a leap year\n",
      "1483 is not a leap year\n",
      "1484 is a leap year\n",
      "1485 is not a leap year\n",
      "1486 is not a leap year\n",
      "1487 is not a leap year\n",
      "1488 is a leap year\n",
      "1489 is not a leap year\n",
      "1490 is not a leap year\n",
      "1491 is not a leap year\n",
      "1492 is a leap year\n",
      "1493 is not a leap year\n",
      "1494 is not a leap year\n",
      "1495 is not a leap year\n",
      "1496 is a leap year\n",
      "1497 is not a leap year\n",
      "1498 is not a leap year\n",
      "1499 is not a leap year\n",
      "1500 is not a leap year\n",
      "1501 is not a leap year\n",
      "1502 is not a leap year\n",
      "1503 is not a leap year\n",
      "1504 is a leap year\n",
      "1505 is not a leap year\n",
      "1506 is not a leap year\n",
      "1507 is not a leap year\n",
      "1508 is a leap year\n",
      "1509 is not a leap year\n",
      "1510 is not a leap year\n",
      "1511 is not a leap year\n",
      "1512 is a leap year\n",
      "1513 is not a leap year\n",
      "1514 is not a leap year\n",
      "1515 is not a leap year\n",
      "1516 is a leap year\n",
      "1517 is not a leap year\n",
      "1518 is not a leap year\n",
      "1519 is not a leap year\n",
      "1520 is a leap year\n",
      "1521 is not a leap year\n",
      "1522 is not a leap year\n",
      "1523 is not a leap year\n",
      "1524 is a leap year\n",
      "1525 is not a leap year\n",
      "1526 is not a leap year\n",
      "1527 is not a leap year\n",
      "1528 is a leap year\n",
      "1529 is not a leap year\n",
      "1530 is not a leap year\n",
      "1531 is not a leap year\n",
      "1532 is a leap year\n",
      "1533 is not a leap year\n",
      "1534 is not a leap year\n",
      "1535 is not a leap year\n",
      "1536 is a leap year\n",
      "1537 is not a leap year\n",
      "1538 is not a leap year\n",
      "1539 is not a leap year\n",
      "1540 is a leap year\n",
      "1541 is not a leap year\n",
      "1542 is not a leap year\n",
      "1543 is not a leap year\n",
      "1544 is a leap year\n",
      "1545 is not a leap year\n",
      "1546 is not a leap year\n",
      "1547 is not a leap year\n",
      "1548 is a leap year\n",
      "1549 is not a leap year\n",
      "1550 is not a leap year\n",
      "1551 is not a leap year\n",
      "1552 is a leap year\n",
      "1553 is not a leap year\n",
      "1554 is not a leap year\n",
      "1555 is not a leap year\n",
      "1556 is a leap year\n",
      "1557 is not a leap year\n",
      "1558 is not a leap year\n",
      "1559 is not a leap year\n",
      "1560 is a leap year\n",
      "1561 is not a leap year\n",
      "1562 is not a leap year\n",
      "1563 is not a leap year\n",
      "1564 is a leap year\n",
      "1565 is not a leap year\n",
      "1566 is not a leap year\n",
      "1567 is not a leap year\n",
      "1568 is a leap year\n",
      "1569 is not a leap year\n",
      "1570 is not a leap year\n",
      "1571 is not a leap year\n",
      "1572 is a leap year\n",
      "1573 is not a leap year\n",
      "1574 is not a leap year\n",
      "1575 is not a leap year\n",
      "1576 is a leap year\n",
      "1577 is not a leap year\n",
      "1578 is not a leap year\n",
      "1579 is not a leap year\n",
      "1580 is a leap year\n",
      "1581 is not a leap year\n",
      "1582 is not a leap year\n",
      "1583 is not a leap year\n",
      "1584 is a leap year\n",
      "1585 is not a leap year\n",
      "1586 is not a leap year\n",
      "1587 is not a leap year\n",
      "1588 is a leap year\n",
      "1589 is not a leap year\n",
      "1590 is not a leap year\n",
      "1591 is not a leap year\n",
      "1592 is a leap year\n",
      "1593 is not a leap year\n",
      "1594 is not a leap year\n",
      "1595 is not a leap year\n",
      "1596 is a leap year\n",
      "1597 is not a leap year\n",
      "1598 is not a leap year\n",
      "1599 is not a leap year\n",
      "1600 is a leap year\n",
      "1601 is not a leap year\n",
      "1602 is not a leap year\n",
      "1603 is not a leap year\n",
      "1604 is a leap year\n",
      "1605 is not a leap year\n",
      "1606 is not a leap year\n",
      "1607 is not a leap year\n",
      "1608 is a leap year\n",
      "1609 is not a leap year\n",
      "1610 is not a leap year\n",
      "1611 is not a leap year\n",
      "1612 is a leap year\n",
      "1613 is not a leap year\n",
      "1614 is not a leap year\n",
      "1615 is not a leap year\n",
      "1616 is a leap year\n",
      "1617 is not a leap year\n",
      "1618 is not a leap year\n",
      "1619 is not a leap year\n",
      "1620 is a leap year\n",
      "1621 is not a leap year\n",
      "1622 is not a leap year\n",
      "1623 is not a leap year\n",
      "1624 is a leap year\n",
      "1625 is not a leap year\n",
      "1626 is not a leap year\n",
      "1627 is not a leap year\n",
      "1628 is a leap year\n",
      "1629 is not a leap year\n",
      "1630 is not a leap year\n",
      "1631 is not a leap year\n",
      "1632 is a leap year\n",
      "1633 is not a leap year\n",
      "1634 is not a leap year\n",
      "1635 is not a leap year\n",
      "1636 is a leap year\n",
      "1637 is not a leap year\n",
      "1638 is not a leap year\n",
      "1639 is not a leap year\n",
      "1640 is a leap year\n",
      "1641 is not a leap year\n",
      "1642 is not a leap year\n",
      "1643 is not a leap year\n",
      "1644 is a leap year\n",
      "1645 is not a leap year\n",
      "1646 is not a leap year\n",
      "1647 is not a leap year\n",
      "1648 is a leap year\n",
      "1649 is not a leap year\n",
      "1650 is not a leap year\n",
      "1651 is not a leap year\n",
      "1652 is a leap year\n",
      "1653 is not a leap year\n",
      "1654 is not a leap year\n",
      "1655 is not a leap year\n",
      "1656 is a leap year\n",
      "1657 is not a leap year\n",
      "1658 is not a leap year\n",
      "1659 is not a leap year\n",
      "1660 is a leap year\n",
      "1661 is not a leap year\n",
      "1662 is not a leap year\n",
      "1663 is not a leap year\n",
      "1664 is a leap year\n",
      "1665 is not a leap year\n",
      "1666 is not a leap year\n",
      "1667 is not a leap year\n",
      "1668 is a leap year\n",
      "1669 is not a leap year\n",
      "1670 is not a leap year\n",
      "1671 is not a leap year\n",
      "1672 is a leap year\n",
      "1673 is not a leap year\n",
      "1674 is not a leap year\n",
      "1675 is not a leap year\n",
      "1676 is a leap year\n",
      "1677 is not a leap year\n",
      "1678 is not a leap year\n",
      "1679 is not a leap year\n",
      "1680 is a leap year\n",
      "1681 is not a leap year\n",
      "1682 is not a leap year\n",
      "1683 is not a leap year\n",
      "1684 is a leap year\n",
      "1685 is not a leap year\n",
      "1686 is not a leap year\n",
      "1687 is not a leap year\n",
      "1688 is a leap year\n",
      "1689 is not a leap year\n",
      "1690 is not a leap year\n",
      "1691 is not a leap year\n",
      "1692 is a leap year\n",
      "1693 is not a leap year\n",
      "1694 is not a leap year\n",
      "1695 is not a leap year\n",
      "1696 is a leap year\n",
      "1697 is not a leap year\n",
      "1698 is not a leap year\n",
      "1699 is not a leap year\n",
      "1700 is not a leap year\n",
      "1701 is not a leap year\n",
      "1702 is not a leap year\n",
      "1703 is not a leap year\n",
      "1704 is a leap year\n",
      "1705 is not a leap year\n",
      "1706 is not a leap year\n",
      "1707 is not a leap year\n",
      "1708 is a leap year\n",
      "1709 is not a leap year\n",
      "1710 is not a leap year\n",
      "1711 is not a leap year\n",
      "1712 is a leap year\n",
      "1713 is not a leap year\n",
      "1714 is not a leap year\n",
      "1715 is not a leap year\n",
      "1716 is a leap year\n",
      "1717 is not a leap year\n",
      "1718 is not a leap year\n",
      "1719 is not a leap year\n",
      "1720 is a leap year\n",
      "1721 is not a leap year\n",
      "1722 is not a leap year\n",
      "1723 is not a leap year\n",
      "1724 is a leap year\n",
      "1725 is not a leap year\n",
      "1726 is not a leap year\n",
      "1727 is not a leap year\n",
      "1728 is a leap year\n",
      "1729 is not a leap year\n",
      "1730 is not a leap year\n",
      "1731 is not a leap year\n",
      "1732 is a leap year\n",
      "1733 is not a leap year\n",
      "1734 is not a leap year\n",
      "1735 is not a leap year\n",
      "1736 is a leap year\n",
      "1737 is not a leap year\n",
      "1738 is not a leap year\n",
      "1739 is not a leap year\n",
      "1740 is a leap year\n",
      "1741 is not a leap year\n",
      "1742 is not a leap year\n",
      "1743 is not a leap year\n",
      "1744 is a leap year\n",
      "1745 is not a leap year\n",
      "1746 is not a leap year\n",
      "1747 is not a leap year\n",
      "1748 is a leap year\n",
      "1749 is not a leap year\n",
      "1750 is not a leap year\n",
      "1751 is not a leap year\n",
      "1752 is a leap year\n",
      "1753 is not a leap year\n",
      "1754 is not a leap year\n",
      "1755 is not a leap year\n",
      "1756 is a leap year\n",
      "1757 is not a leap year\n",
      "1758 is not a leap year\n",
      "1759 is not a leap year\n",
      "1760 is a leap year\n",
      "1761 is not a leap year\n",
      "1762 is not a leap year\n",
      "1763 is not a leap year\n",
      "1764 is a leap year\n",
      "1765 is not a leap year\n",
      "1766 is not a leap year\n",
      "1767 is not a leap year\n",
      "1768 is a leap year\n",
      "1769 is not a leap year\n",
      "1770 is not a leap year\n",
      "1771 is not a leap year\n",
      "1772 is a leap year\n",
      "1773 is not a leap year\n",
      "1774 is not a leap year\n",
      "1775 is not a leap year\n",
      "1776 is a leap year\n",
      "1777 is not a leap year\n",
      "1778 is not a leap year\n",
      "1779 is not a leap year\n",
      "1780 is a leap year\n",
      "1781 is not a leap year\n",
      "1782 is not a leap year\n",
      "1783 is not a leap year\n",
      "1784 is a leap year\n",
      "1785 is not a leap year\n",
      "1786 is not a leap year\n",
      "1787 is not a leap year\n",
      "1788 is a leap year\n",
      "1789 is not a leap year\n",
      "1790 is not a leap year\n",
      "1791 is not a leap year\n",
      "1792 is a leap year\n",
      "1793 is not a leap year\n",
      "1794 is not a leap year\n",
      "1795 is not a leap year\n",
      "1796 is a leap year\n",
      "1797 is not a leap year\n",
      "1798 is not a leap year\n",
      "1799 is not a leap year\n",
      "1800 is not a leap year\n",
      "1801 is not a leap year\n",
      "1802 is not a leap year\n",
      "1803 is not a leap year\n",
      "1804 is a leap year\n",
      "1805 is not a leap year\n",
      "1806 is not a leap year\n",
      "1807 is not a leap year\n",
      "1808 is a leap year\n",
      "1809 is not a leap year\n",
      "1810 is not a leap year\n",
      "1811 is not a leap year\n",
      "1812 is a leap year\n",
      "1813 is not a leap year\n",
      "1814 is not a leap year\n",
      "1815 is not a leap year\n",
      "1816 is a leap year\n",
      "1817 is not a leap year\n",
      "1818 is not a leap year\n",
      "1819 is not a leap year\n",
      "1820 is a leap year\n",
      "1821 is not a leap year\n",
      "1822 is not a leap year\n",
      "1823 is not a leap year\n",
      "1824 is a leap year\n",
      "1825 is not a leap year\n",
      "1826 is not a leap year\n",
      "1827 is not a leap year\n",
      "1828 is a leap year\n",
      "1829 is not a leap year\n",
      "1830 is not a leap year\n",
      "1831 is not a leap year\n",
      "1832 is a leap year\n",
      "1833 is not a leap year\n",
      "1834 is not a leap year\n",
      "1835 is not a leap year\n",
      "1836 is a leap year\n",
      "1837 is not a leap year\n",
      "1838 is not a leap year\n",
      "1839 is not a leap year\n",
      "1840 is a leap year\n",
      "1841 is not a leap year\n",
      "1842 is not a leap year\n",
      "1843 is not a leap year\n",
      "1844 is a leap year\n",
      "1845 is not a leap year\n",
      "1846 is not a leap year\n",
      "1847 is not a leap year\n",
      "1848 is a leap year\n",
      "1849 is not a leap year\n",
      "1850 is not a leap year\n",
      "1851 is not a leap year\n",
      "1852 is a leap year\n",
      "1853 is not a leap year\n",
      "1854 is not a leap year\n",
      "1855 is not a leap year\n",
      "1856 is a leap year\n",
      "1857 is not a leap year\n",
      "1858 is not a leap year\n",
      "1859 is not a leap year\n",
      "1860 is a leap year\n",
      "1861 is not a leap year\n",
      "1862 is not a leap year\n",
      "1863 is not a leap year\n",
      "1864 is a leap year\n",
      "1865 is not a leap year\n",
      "1866 is not a leap year\n",
      "1867 is not a leap year\n",
      "1868 is a leap year\n",
      "1869 is not a leap year\n",
      "1870 is not a leap year\n",
      "1871 is not a leap year\n",
      "1872 is a leap year\n",
      "1873 is not a leap year\n",
      "1874 is not a leap year\n",
      "1875 is not a leap year\n",
      "1876 is a leap year\n",
      "1877 is not a leap year\n",
      "1878 is not a leap year\n",
      "1879 is not a leap year\n",
      "1880 is a leap year\n",
      "1881 is not a leap year\n",
      "1882 is not a leap year\n",
      "1883 is not a leap year\n",
      "1884 is a leap year\n",
      "1885 is not a leap year\n",
      "1886 is not a leap year\n",
      "1887 is not a leap year\n",
      "1888 is a leap year\n",
      "1889 is not a leap year\n",
      "1890 is not a leap year\n",
      "1891 is not a leap year\n",
      "1892 is a leap year\n",
      "1893 is not a leap year\n",
      "1894 is not a leap year\n",
      "1895 is not a leap year\n",
      "1896 is a leap year\n",
      "1897 is not a leap year\n",
      "1898 is not a leap year\n",
      "1899 is not a leap year\n",
      "1900 is not a leap year\n",
      "1901 is not a leap year\n",
      "1902 is not a leap year\n",
      "1903 is not a leap year\n",
      "1904 is a leap year\n",
      "1905 is not a leap year\n",
      "1906 is not a leap year\n",
      "1907 is not a leap year\n",
      "1908 is a leap year\n",
      "1909 is not a leap year\n",
      "1910 is not a leap year\n",
      "1911 is not a leap year\n",
      "1912 is a leap year\n",
      "1913 is not a leap year\n",
      "1914 is not a leap year\n",
      "1915 is not a leap year\n",
      "1916 is a leap year\n",
      "1917 is not a leap year\n",
      "1918 is not a leap year\n",
      "1919 is not a leap year\n",
      "1920 is a leap year\n",
      "1921 is not a leap year\n",
      "1922 is not a leap year\n",
      "1923 is not a leap year\n",
      "1924 is a leap year\n",
      "1925 is not a leap year\n",
      "1926 is not a leap year\n",
      "1927 is not a leap year\n",
      "1928 is a leap year\n",
      "1929 is not a leap year\n",
      "1930 is not a leap year\n",
      "1931 is not a leap year\n",
      "1932 is a leap year\n",
      "1933 is not a leap year\n",
      "1934 is not a leap year\n",
      "1935 is not a leap year\n",
      "1936 is a leap year\n",
      "1937 is not a leap year\n",
      "1938 is not a leap year\n",
      "1939 is not a leap year\n",
      "1940 is a leap year\n",
      "1941 is not a leap year\n",
      "1942 is not a leap year\n",
      "1943 is not a leap year\n",
      "1944 is a leap year\n",
      "1945 is not a leap year\n",
      "1946 is not a leap year\n",
      "1947 is not a leap year\n",
      "1948 is a leap year\n",
      "1949 is not a leap year\n",
      "1950 is not a leap year\n",
      "1951 is not a leap year\n",
      "1952 is a leap year\n",
      "1953 is not a leap year\n",
      "1954 is not a leap year\n",
      "1955 is not a leap year\n",
      "1956 is a leap year\n",
      "1957 is not a leap year\n",
      "1958 is not a leap year\n",
      "1959 is not a leap year\n",
      "1960 is a leap year\n",
      "1961 is not a leap year\n",
      "1962 is not a leap year\n",
      "1963 is not a leap year\n",
      "1964 is a leap year\n",
      "1965 is not a leap year\n",
      "1966 is not a leap year\n",
      "1967 is not a leap year\n",
      "1968 is a leap year\n",
      "1969 is not a leap year\n",
      "1970 is not a leap year\n",
      "1971 is not a leap year\n",
      "1972 is a leap year\n",
      "1973 is not a leap year\n",
      "1974 is not a leap year\n",
      "1975 is not a leap year\n",
      "1976 is a leap year\n",
      "1977 is not a leap year\n",
      "1978 is not a leap year\n",
      "1979 is not a leap year\n",
      "1980 is a leap year\n",
      "1981 is not a leap year\n",
      "1982 is not a leap year\n",
      "1983 is not a leap year\n",
      "1984 is a leap year\n",
      "1985 is not a leap year\n",
      "1986 is not a leap year\n",
      "1987 is not a leap year\n",
      "1988 is a leap year\n",
      "1989 is not a leap year\n",
      "1990 is not a leap year\n",
      "1991 is not a leap year\n",
      "1992 is a leap year\n",
      "1993 is not a leap year\n",
      "1994 is not a leap year\n",
      "1995 is not a leap year\n",
      "1996 is a leap year\n",
      "1997 is not a leap year\n",
      "1998 is not a leap year\n",
      "1999 is not a leap year\n",
      "2000 is a leap year\n",
      "2001 is not a leap year\n",
      "2002 is not a leap year\n",
      "2003 is not a leap year\n",
      "2004 is a leap year\n",
      "2005 is not a leap year\n",
      "2006 is not a leap year\n",
      "2007 is not a leap year\n",
      "2008 is a leap year\n",
      "2009 is not a leap year\n",
      "2010 is not a leap year\n",
      "2011 is not a leap year\n",
      "2012 is a leap year\n",
      "2013 is not a leap year\n",
      "2014 is not a leap year\n",
      "2015 is not a leap year\n",
      "2016 is a leap year\n",
      "2017 is not a leap year\n",
      "2018 is not a leap year\n",
      "2019 is not a leap year\n",
      "2020 is a leap year\n",
      "2021 is not a leap year\n",
      "2022 is not a leap year\n",
      "2023 is not a leap year\n",
      "2024 is a leap year\n",
      "2025 is not a leap year\n"
     ]
    }
   ],
   "source": [
    "##Leap year\n",
    "for year in range (250,2026):\n",
    "    if (year % 400 ==0) or ((year % 4 ==0 ) and (year % 100 !=0)):\n",
    "        print(\"{0} is a leap year\".format (year))\n",
    "    else:\n",
    "        print(\"{0} is not a leap year\". format(year))\n"
   ]
  },
  {
   "cell_type": "code",
   "execution_count": 55,
   "id": "53bf8c4a",
   "metadata": {},
   "outputs": [],
   "source": [
    "a=110\n"
   ]
  },
  {
   "cell_type": "code",
   "execution_count": 69,
   "id": "ecf1eb7c",
   "metadata": {},
   "outputs": [
    {
     "name": "stdout",
     "output_type": "stream",
     "text": [
      "252 is leap year\n",
      "256 is leap year\n",
      "260 is leap year\n",
      "264 is leap year\n",
      "268 is leap year\n",
      "272 is leap year\n",
      "276 is leap year\n",
      "280 is leap year\n",
      "284 is leap year\n",
      "288 is leap year\n",
      "292 is leap year\n",
      "296 is leap year\n",
      "304 is leap year\n",
      "308 is leap year\n",
      "312 is leap year\n",
      "316 is leap year\n",
      "320 is leap year\n",
      "324 is leap year\n",
      "328 is leap year\n",
      "332 is leap year\n",
      "336 is leap year\n",
      "340 is leap year\n",
      "344 is leap year\n",
      "348 is leap year\n",
      "352 is leap year\n",
      "356 is leap year\n",
      "360 is leap year\n",
      "364 is leap year\n",
      "368 is leap year\n",
      "372 is leap year\n",
      "376 is leap year\n",
      "380 is leap year\n",
      "384 is leap year\n",
      "388 is leap year\n",
      "392 is leap year\n",
      "396 is leap year\n",
      "400 is leap year\n",
      "404 is leap year\n",
      "408 is leap year\n",
      "412 is leap year\n",
      "416 is leap year\n",
      "420 is leap year\n",
      "424 is leap year\n",
      "428 is leap year\n",
      "432 is leap year\n",
      "436 is leap year\n",
      "440 is leap year\n",
      "444 is leap year\n",
      "448 is leap year\n",
      "452 is leap year\n",
      "456 is leap year\n",
      "460 is leap year\n",
      "464 is leap year\n",
      "468 is leap year\n",
      "472 is leap year\n",
      "476 is leap year\n",
      "480 is leap year\n",
      "484 is leap year\n",
      "488 is leap year\n",
      "492 is leap year\n",
      "496 is leap year\n",
      "504 is leap year\n",
      "508 is leap year\n",
      "512 is leap year\n",
      "516 is leap year\n",
      "520 is leap year\n",
      "524 is leap year\n",
      "528 is leap year\n",
      "532 is leap year\n",
      "536 is leap year\n",
      "540 is leap year\n",
      "544 is leap year\n",
      "548 is leap year\n",
      "552 is leap year\n",
      "556 is leap year\n",
      "560 is leap year\n",
      "564 is leap year\n",
      "568 is leap year\n",
      "572 is leap year\n",
      "576 is leap year\n",
      "580 is leap year\n",
      "584 is leap year\n",
      "588 is leap year\n",
      "592 is leap year\n",
      "596 is leap year\n",
      "604 is leap year\n",
      "608 is leap year\n",
      "612 is leap year\n",
      "616 is leap year\n",
      "620 is leap year\n",
      "624 is leap year\n",
      "628 is leap year\n",
      "632 is leap year\n",
      "636 is leap year\n",
      "640 is leap year\n",
      "644 is leap year\n",
      "648 is leap year\n",
      "652 is leap year\n",
      "656 is leap year\n",
      "660 is leap year\n",
      "664 is leap year\n",
      "668 is leap year\n",
      "672 is leap year\n",
      "676 is leap year\n",
      "680 is leap year\n",
      "684 is leap year\n",
      "688 is leap year\n",
      "692 is leap year\n",
      "696 is leap year\n",
      "704 is leap year\n",
      "708 is leap year\n",
      "712 is leap year\n",
      "716 is leap year\n",
      "720 is leap year\n",
      "724 is leap year\n",
      "728 is leap year\n",
      "732 is leap year\n",
      "736 is leap year\n",
      "740 is leap year\n",
      "744 is leap year\n",
      "748 is leap year\n",
      "752 is leap year\n",
      "756 is leap year\n",
      "760 is leap year\n",
      "764 is leap year\n",
      "768 is leap year\n",
      "772 is leap year\n",
      "776 is leap year\n",
      "780 is leap year\n",
      "784 is leap year\n",
      "788 is leap year\n",
      "792 is leap year\n",
      "796 is leap year\n",
      "800 is leap year\n",
      "804 is leap year\n",
      "808 is leap year\n",
      "812 is leap year\n",
      "816 is leap year\n",
      "820 is leap year\n",
      "824 is leap year\n",
      "828 is leap year\n",
      "832 is leap year\n",
      "836 is leap year\n",
      "840 is leap year\n",
      "844 is leap year\n",
      "848 is leap year\n",
      "852 is leap year\n",
      "856 is leap year\n",
      "860 is leap year\n",
      "864 is leap year\n",
      "868 is leap year\n",
      "872 is leap year\n",
      "876 is leap year\n",
      "880 is leap year\n",
      "884 is leap year\n",
      "888 is leap year\n",
      "892 is leap year\n",
      "896 is leap year\n",
      "904 is leap year\n",
      "908 is leap year\n",
      "912 is leap year\n",
      "916 is leap year\n",
      "920 is leap year\n",
      "924 is leap year\n",
      "928 is leap year\n",
      "932 is leap year\n",
      "936 is leap year\n",
      "940 is leap year\n",
      "944 is leap year\n",
      "948 is leap year\n",
      "952 is leap year\n",
      "956 is leap year\n",
      "960 is leap year\n",
      "964 is leap year\n",
      "968 is leap year\n",
      "972 is leap year\n",
      "976 is leap year\n",
      "980 is leap year\n",
      "984 is leap year\n",
      "988 is leap year\n",
      "992 is leap year\n",
      "996 is leap year\n",
      "1004 is leap year\n",
      "1008 is leap year\n",
      "1012 is leap year\n",
      "1016 is leap year\n",
      "1020 is leap year\n",
      "1024 is leap year\n",
      "1028 is leap year\n",
      "1032 is leap year\n",
      "1036 is leap year\n",
      "1040 is leap year\n",
      "1044 is leap year\n",
      "1048 is leap year\n",
      "1052 is leap year\n",
      "1056 is leap year\n",
      "1060 is leap year\n",
      "1064 is leap year\n",
      "1068 is leap year\n",
      "1072 is leap year\n",
      "1076 is leap year\n",
      "1080 is leap year\n",
      "1084 is leap year\n",
      "1088 is leap year\n",
      "1092 is leap year\n",
      "1096 is leap year\n",
      "1104 is leap year\n",
      "1108 is leap year\n",
      "1112 is leap year\n",
      "1116 is leap year\n",
      "1120 is leap year\n",
      "1124 is leap year\n",
      "1128 is leap year\n",
      "1132 is leap year\n",
      "1136 is leap year\n",
      "1140 is leap year\n",
      "1144 is leap year\n",
      "1148 is leap year\n",
      "1152 is leap year\n",
      "1156 is leap year\n",
      "1160 is leap year\n",
      "1164 is leap year\n",
      "1168 is leap year\n",
      "1172 is leap year\n",
      "1176 is leap year\n",
      "1180 is leap year\n",
      "1184 is leap year\n",
      "1188 is leap year\n",
      "1192 is leap year\n",
      "1196 is leap year\n",
      "1200 is leap year\n",
      "1204 is leap year\n",
      "1208 is leap year\n",
      "1212 is leap year\n",
      "1216 is leap year\n",
      "1220 is leap year\n",
      "1224 is leap year\n",
      "1228 is leap year\n",
      "1232 is leap year\n",
      "1236 is leap year\n",
      "1240 is leap year\n",
      "1244 is leap year\n",
      "1248 is leap year\n",
      "1252 is leap year\n",
      "1256 is leap year\n",
      "1260 is leap year\n",
      "1264 is leap year\n",
      "1268 is leap year\n",
      "1272 is leap year\n",
      "1276 is leap year\n",
      "1280 is leap year\n",
      "1284 is leap year\n",
      "1288 is leap year\n",
      "1292 is leap year\n",
      "1296 is leap year\n",
      "1304 is leap year\n",
      "1308 is leap year\n",
      "1312 is leap year\n",
      "1316 is leap year\n",
      "1320 is leap year\n",
      "1324 is leap year\n",
      "1328 is leap year\n",
      "1332 is leap year\n",
      "1336 is leap year\n",
      "1340 is leap year\n",
      "1344 is leap year\n",
      "1348 is leap year\n",
      "1352 is leap year\n",
      "1356 is leap year\n",
      "1360 is leap year\n",
      "1364 is leap year\n",
      "1368 is leap year\n",
      "1372 is leap year\n",
      "1376 is leap year\n",
      "1380 is leap year\n",
      "1384 is leap year\n",
      "1388 is leap year\n",
      "1392 is leap year\n",
      "1396 is leap year\n",
      "1404 is leap year\n",
      "1408 is leap year\n",
      "1412 is leap year\n",
      "1416 is leap year\n",
      "1420 is leap year\n",
      "1424 is leap year\n",
      "1428 is leap year\n",
      "1432 is leap year\n",
      "1436 is leap year\n",
      "1440 is leap year\n",
      "1444 is leap year\n",
      "1448 is leap year\n",
      "1452 is leap year\n",
      "1456 is leap year\n",
      "1460 is leap year\n",
      "1464 is leap year\n",
      "1468 is leap year\n",
      "1472 is leap year\n",
      "1476 is leap year\n",
      "1480 is leap year\n",
      "1484 is leap year\n",
      "1488 is leap year\n",
      "1492 is leap year\n",
      "1496 is leap year\n",
      "1504 is leap year\n",
      "1508 is leap year\n",
      "1512 is leap year\n",
      "1516 is leap year\n",
      "1520 is leap year\n",
      "1524 is leap year\n",
      "1528 is leap year\n",
      "1532 is leap year\n",
      "1536 is leap year\n",
      "1540 is leap year\n",
      "1544 is leap year\n",
      "1548 is leap year\n",
      "1552 is leap year\n",
      "1556 is leap year\n",
      "1560 is leap year\n",
      "1564 is leap year\n",
      "1568 is leap year\n",
      "1572 is leap year\n",
      "1576 is leap year\n",
      "1580 is leap year\n",
      "1584 is leap year\n",
      "1588 is leap year\n",
      "1592 is leap year\n",
      "1596 is leap year\n",
      "1600 is leap year\n",
      "1604 is leap year\n",
      "1608 is leap year\n",
      "1612 is leap year\n",
      "1616 is leap year\n",
      "1620 is leap year\n",
      "1624 is leap year\n",
      "1628 is leap year\n",
      "1632 is leap year\n",
      "1636 is leap year\n",
      "1640 is leap year\n",
      "1644 is leap year\n",
      "1648 is leap year\n",
      "1652 is leap year\n",
      "1656 is leap year\n",
      "1660 is leap year\n",
      "1664 is leap year\n",
      "1668 is leap year\n",
      "1672 is leap year\n",
      "1676 is leap year\n",
      "1680 is leap year\n",
      "1684 is leap year\n",
      "1688 is leap year\n",
      "1692 is leap year\n",
      "1696 is leap year\n",
      "1704 is leap year\n",
      "1708 is leap year\n",
      "1712 is leap year\n",
      "1716 is leap year\n",
      "1720 is leap year\n",
      "1724 is leap year\n",
      "1728 is leap year\n",
      "1732 is leap year\n",
      "1736 is leap year\n",
      "1740 is leap year\n",
      "1744 is leap year\n",
      "1748 is leap year\n",
      "1752 is leap year\n",
      "1756 is leap year\n",
      "1760 is leap year\n",
      "1764 is leap year\n",
      "1768 is leap year\n",
      "1772 is leap year\n",
      "1776 is leap year\n",
      "1780 is leap year\n",
      "1784 is leap year\n",
      "1788 is leap year\n",
      "1792 is leap year\n",
      "1796 is leap year\n",
      "1804 is leap year\n",
      "1808 is leap year\n",
      "1812 is leap year\n",
      "1816 is leap year\n",
      "1820 is leap year\n",
      "1824 is leap year\n",
      "1828 is leap year\n",
      "1832 is leap year\n",
      "1836 is leap year\n",
      "1840 is leap year\n",
      "1844 is leap year\n",
      "1848 is leap year\n",
      "1852 is leap year\n",
      "1856 is leap year\n",
      "1860 is leap year\n",
      "1864 is leap year\n",
      "1868 is leap year\n",
      "1872 is leap year\n",
      "1876 is leap year\n",
      "1880 is leap year\n",
      "1884 is leap year\n",
      "1888 is leap year\n",
      "1892 is leap year\n",
      "1896 is leap year\n",
      "1904 is leap year\n",
      "1908 is leap year\n",
      "1912 is leap year\n",
      "1916 is leap year\n",
      "1920 is leap year\n",
      "1924 is leap year\n",
      "1928 is leap year\n",
      "1932 is leap year\n",
      "1936 is leap year\n",
      "1940 is leap year\n",
      "1944 is leap year\n",
      "1948 is leap year\n",
      "1952 is leap year\n",
      "1956 is leap year\n",
      "1960 is leap year\n",
      "1964 is leap year\n",
      "1968 is leap year\n",
      "1972 is leap year\n",
      "1976 is leap year\n",
      "1980 is leap year\n",
      "1984 is leap year\n",
      "1988 is leap year\n",
      "1992 is leap year\n",
      "1996 is leap year\n",
      "2000 is leap year\n",
      "2004 is leap year\n",
      "2008 is leap year\n",
      "2012 is leap year\n",
      "2016 is leap year\n",
      "2020 is leap year\n",
      "2024 is leap year\n"
     ]
    }
   ],
   "source": [
    "for a in range(250,2025):\n",
    "    if (a%400==0) or (a%100!=0 and a%4==0):\n",
    "        print(\"{} is leap year\".format(a))"
   ]
  },
  {
   "cell_type": "code",
   "execution_count": 59,
   "id": "45bdec3d",
   "metadata": {},
   "outputs": [
    {
     "data": {
      "text/plain": [
       "tuple"
      ]
     },
     "execution_count": 59,
     "metadata": {},
     "output_type": "execute_result"
    }
   ],
   "source": [
    "type((a%400==0) or (a%100==0, not a%400!=0) or (a%4==0, not a%100!=0))"
   ]
  },
  {
   "cell_type": "code",
   "execution_count": 60,
   "id": "d827db4b",
   "metadata": {},
   "outputs": [],
   "source": [
    "None"
   ]
  },
  {
   "cell_type": "code",
   "execution_count": 62,
   "id": "17edd749",
   "metadata": {},
   "outputs": [
    {
     "name": "stdout",
     "output_type": "stream",
     "text": [
      "False\n"
     ]
    }
   ],
   "source": [
    "if None:\n",
    "    print(\"True\")\n",
    "else:\n",
    "    print(\"False\")"
   ]
  },
  {
   "cell_type": "code",
   "execution_count": 71,
   "id": "0c53e091",
   "metadata": {},
   "outputs": [
    {
     "name": "stdout",
     "output_type": "stream",
     "text": [
      "False\n"
     ]
    }
   ],
   "source": [
    "if False:\n",
    "    print(\"True\")\n",
    "else:\n",
    "    print(\"False\")"
   ]
  },
  {
   "cell_type": "code",
   "execution_count": 72,
   "id": "2f4638fe",
   "metadata": {},
   "outputs": [
    {
     "name": "stdout",
     "output_type": "stream",
     "text": [
      "Please Enter your nameAfreen\n"
     ]
    }
   ],
   "source": [
    "name = input(\"Please Enter your name\")"
   ]
  },
  {
   "cell_type": "code",
   "execution_count": 73,
   "id": "c3b8e1e6",
   "metadata": {},
   "outputs": [
    {
     "data": {
      "text/plain": [
       "'Afreen'"
      ]
     },
     "execution_count": 73,
     "metadata": {},
     "output_type": "execute_result"
    }
   ],
   "source": [
    "name"
   ]
  },
  {
   "cell_type": "code",
   "execution_count": 78,
   "id": "e7203854",
   "metadata": {},
   "outputs": [
    {
     "name": "stdout",
     "output_type": "stream",
     "text": [
      "Please enter your age25\n"
     ]
    }
   ],
   "source": [
    "age = int(input(\"Please enter your age\"))"
   ]
  },
  {
   "cell_type": "code",
   "execution_count": 79,
   "id": "6b3af498",
   "metadata": {},
   "outputs": [
    {
     "name": "stdout",
     "output_type": "stream",
     "text": [
      "25\n"
     ]
    }
   ],
   "source": [
    "print(age)"
   ]
  },
  {
   "cell_type": "code",
   "execution_count": 80,
   "id": "d9351d2c",
   "metadata": {},
   "outputs": [
    {
     "name": "stdout",
     "output_type": "stream",
     "text": [
      "<class 'int'>\n"
     ]
    }
   ],
   "source": [
    "print(type(age))"
   ]
  },
  {
   "cell_type": "code",
   "execution_count": 77,
   "id": "c15d49e5",
   "metadata": {},
   "outputs": [],
   "source": [
    "age = int(age)"
   ]
  },
  {
   "cell_type": "code",
   "execution_count": 81,
   "id": "bdcd2ac2",
   "metadata": {},
   "outputs": [
    {
     "name": "stdout",
     "output_type": "stream",
     "text": [
      "10\n"
     ]
    }
   ],
   "source": [
    "lower_age =int(input())\n"
   ]
  },
  {
   "cell_type": "code",
   "execution_count": 82,
   "id": "f1cf9a88",
   "metadata": {},
   "outputs": [
    {
     "name": "stdout",
     "output_type": "stream",
     "text": [
      "50\n"
     ]
    }
   ],
   "source": [
    "upper_age = int(input())"
   ]
  },
  {
   "cell_type": "code",
   "execution_count": 1,
   "id": "b93bbca5",
   "metadata": {},
   "outputs": [
    {
     "data": {
      "text/plain": [
       "14"
      ]
     },
     "execution_count": 1,
     "metadata": {},
     "output_type": "execute_result"
    }
   ],
   "source": [
    "10|12"
   ]
  },
  {
   "cell_type": "code",
   "execution_count": 3,
   "id": "bee19b68",
   "metadata": {},
   "outputs": [
    {
     "data": {
      "text/plain": [
       "True"
      ]
     },
     "execution_count": 3,
     "metadata": {},
     "output_type": "execute_result"
    }
   ],
   "source": [
    "bool(10 or 12)"
   ]
  },
  {
   "cell_type": "code",
   "execution_count": 4,
   "id": "50bbe4e2",
   "metadata": {},
   "outputs": [
    {
     "data": {
      "text/plain": [
       "8"
      ]
     },
     "execution_count": 4,
     "metadata": {},
     "output_type": "execute_result"
    }
   ],
   "source": [
    "10&12"
   ]
  },
  {
   "cell_type": "code",
   "execution_count": 8,
   "id": "2e02ac71",
   "metadata": {},
   "outputs": [
    {
     "data": {
      "text/plain": [
       "False"
      ]
     },
     "execution_count": 8,
     "metadata": {},
     "output_type": "execute_result"
    }
   ],
   "source": [
    "bool(None)"
   ]
  },
  {
   "cell_type": "code",
   "execution_count": 11,
   "id": "3b65bb6b",
   "metadata": {},
   "outputs": [
    {
     "data": {
      "text/plain": [
       "0"
      ]
     },
     "execution_count": 11,
     "metadata": {},
     "output_type": "execute_result"
    }
   ],
   "source": [
    "False*2"
   ]
  },
  {
   "cell_type": "code",
   "execution_count": 10,
   "id": "c8036dd5",
   "metadata": {},
   "outputs": [
    {
     "data": {
      "text/plain": [
       "1"
      ]
     },
     "execution_count": 10,
     "metadata": {},
     "output_type": "execute_result"
    }
   ],
   "source": [
    "int(True)"
   ]
  },
  {
   "cell_type": "code",
   "execution_count": 12,
   "id": "58f8c7d4",
   "metadata": {},
   "outputs": [
    {
     "data": {
      "text/plain": [
       "6"
      ]
     },
     "execution_count": 12,
     "metadata": {},
     "output_type": "execute_result"
    }
   ],
   "source": [
    "10^12"
   ]
  },
  {
   "cell_type": "code",
   "execution_count": 13,
   "id": "e36fdfc3",
   "metadata": {},
   "outputs": [
    {
     "data": {
      "text/plain": [
       "-13"
      ]
     },
     "execution_count": 13,
     "metadata": {},
     "output_type": "execute_result"
    }
   ],
   "source": [
    "~12"
   ]
  },
  {
   "cell_type": "code",
   "execution_count": 14,
   "id": "f236f759",
   "metadata": {},
   "outputs": [
    {
     "name": "stdout",
     "output_type": "stream",
     "text": [
      "Help on built-in function bin in module builtins:\n",
      "\n",
      "bin(number, /)\n",
      "    Return the binary representation of an integer.\n",
      "    \n",
      "    >>> bin(2796202)\n",
      "    '0b1010101010101010101010'\n",
      "\n"
     ]
    }
   ],
   "source": [
    "help(bin)"
   ]
  },
  {
   "cell_type": "code",
   "execution_count": 15,
   "id": "ab6dce86",
   "metadata": {},
   "outputs": [
    {
     "data": {
      "text/plain": [
       "'0b1100'"
      ]
     },
     "execution_count": 15,
     "metadata": {},
     "output_type": "execute_result"
    }
   ],
   "source": [
    "bin(12)"
   ]
  },
  {
   "cell_type": "code",
   "execution_count": 16,
   "id": "7db59aca",
   "metadata": {
    "scrolled": true
   },
   "outputs": [
    {
     "data": {
      "text/plain": [
       "'-0b1101'"
      ]
     },
     "execution_count": 16,
     "metadata": {},
     "output_type": "execute_result"
    }
   ],
   "source": [
    "bin(-13)"
   ]
  },
  {
   "cell_type": "code",
   "execution_count": 18,
   "id": "93bdb55c",
   "metadata": {},
   "outputs": [
    {
     "data": {
      "text/plain": [
       "6"
      ]
     },
     "execution_count": 18,
     "metadata": {},
     "output_type": "execute_result"
    }
   ],
   "source": [
    "12>>1"
   ]
  },
  {
   "cell_type": "code",
   "execution_count": 19,
   "id": "784df430",
   "metadata": {},
   "outputs": [
    {
     "data": {
      "text/plain": [
       "5"
      ]
     },
     "execution_count": 19,
     "metadata": {},
     "output_type": "execute_result"
    }
   ],
   "source": [
    "10>>1"
   ]
  },
  {
   "cell_type": "code",
   "execution_count": 20,
   "id": "5bf573d7",
   "metadata": {},
   "outputs": [
    {
     "data": {
      "text/plain": [
       "20"
      ]
     },
     "execution_count": 20,
     "metadata": {},
     "output_type": "execute_result"
    }
   ],
   "source": [
    "10<<1"
   ]
  },
  {
   "cell_type": "code",
   "execution_count": 21,
   "id": "c2ba1703",
   "metadata": {},
   "outputs": [
    {
     "data": {
      "text/plain": [
       "2"
      ]
     },
     "execution_count": 21,
     "metadata": {},
     "output_type": "execute_result"
    }
   ],
   "source": [
    "10>>2"
   ]
  },
  {
   "cell_type": "code",
   "execution_count": 24,
   "id": "257c7f93",
   "metadata": {},
   "outputs": [
    {
     "data": {
      "text/plain": [
       "{1, 2, 3}"
      ]
     },
     "execution_count": 24,
     "metadata": {},
     "output_type": "execute_result"
    }
   ],
   "source": [
    "set([1,2,1,2,3])"
   ]
  },
  {
   "cell_type": "code",
   "execution_count": 22,
   "id": "c6689f02",
   "metadata": {},
   "outputs": [],
   "source": [
    "xor_result = 0\n",
    "for num in [1,2,1,2,3]:\n",
    "    xor_result=xor_result^num"
   ]
  },
  {
   "cell_type": "code",
   "execution_count": 23,
   "id": "1f14528d",
   "metadata": {},
   "outputs": [
    {
     "data": {
      "text/plain": [
       "3"
      ]
     },
     "execution_count": 23,
     "metadata": {},
     "output_type": "execute_result"
    }
   ],
   "source": [
    "xor_result"
   ]
  },
  {
   "cell_type": "code",
   "execution_count": 25,
   "id": "a66b5802",
   "metadata": {},
   "outputs": [],
   "source": [
    "count_dict = {}\n",
    "for num in [1,2,1,2,3,2]:\n",
    "    if num in count_dict.keys():\n",
    "        count_dict[num] = count_dict[num]+1\n",
    "    else:\n",
    "        count_dict[num]=1"
   ]
  },
  {
   "cell_type": "code",
   "execution_count": 26,
   "id": "843fc718",
   "metadata": {},
   "outputs": [
    {
     "data": {
      "text/plain": [
       "{1: 2, 2: 3, 3: 1}"
      ]
     },
     "execution_count": 26,
     "metadata": {},
     "output_type": "execute_result"
    }
   ],
   "source": [
    "count_dict"
   ]
  },
  {
   "cell_type": "code",
   "execution_count": null,
   "id": "85bfeb4e",
   "metadata": {},
   "outputs": [],
   "source": []
  }
 ],
 "metadata": {
  "kernelspec": {
   "display_name": "Python 3 (ipykernel)",
   "language": "python",
   "name": "python3"
  },
  "language_info": {
   "codemirror_mode": {
    "name": "ipython",
    "version": 3
   },
   "file_extension": ".py",
   "mimetype": "text/x-python",
   "name": "python",
   "nbconvert_exporter": "python",
   "pygments_lexer": "ipython3",
   "version": "3.10.7"
  }
 },
 "nbformat": 4,
 "nbformat_minor": 5
}
