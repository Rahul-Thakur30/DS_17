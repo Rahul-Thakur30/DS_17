{
 "cells": [
  {
   "cell_type": "code",
   "execution_count": 1,
   "id": "a6ef32aa",
   "metadata": {},
   "outputs": [],
   "source": [
    "given_str = \"Hi I am a student of edyoda\""
   ]
  },
  {
   "cell_type": "code",
   "execution_count": 8,
   "id": "698493d6",
   "metadata": {},
   "outputs": [
    {
     "name": "stdout",
     "output_type": "stream",
     "text": [
      "Help on method_descriptor:\n",
      "\n",
      "format(...)\n",
      "    S.format(*args, **kwargs) -> str\n",
      "    \n",
      "    Return a formatted version of S, using substitutions from args and kwargs.\n",
      "    The substitutions are identified by braces ('{' and '}').\n",
      "\n"
     ]
    }
   ],
   "source": [
    "help(str.format)"
   ]
  },
  {
   "cell_type": "code",
   "execution_count": 11,
   "id": "963c1609",
   "metadata": {},
   "outputs": [
    {
     "data": {
      "text/plain": [
       "5"
      ]
     },
     "execution_count": 11,
     "metadata": {},
     "output_type": "execute_result"
    }
   ],
   "source": [
    "given_str.find(\"am\",0,16)"
   ]
  },
  {
   "cell_type": "code",
   "execution_count": 14,
   "id": "6eb658fd",
   "metadata": {},
   "outputs": [],
   "source": [
    "modified_str = given_str.replace(\"edyoda\",\"Edyoda\")"
   ]
  },
  {
   "cell_type": "code",
   "execution_count": 16,
   "id": "ed85f15e",
   "metadata": {},
   "outputs": [
    {
     "data": {
      "text/plain": [
       "'Hi I am a student of Edyoda'"
      ]
     },
     "execution_count": 16,
     "metadata": {},
     "output_type": "execute_result"
    }
   ],
   "source": [
    "modified_str"
   ]
  },
  {
   "cell_type": "code",
   "execution_count": 17,
   "id": "1ec9bb7e",
   "metadata": {},
   "outputs": [],
   "source": [
    "another_str = given_str.replace(\"I\",\"Prithvi\")"
   ]
  },
  {
   "cell_type": "code",
   "execution_count": 18,
   "id": "65b7f4db",
   "metadata": {},
   "outputs": [
    {
     "data": {
      "text/plain": [
       "'Hi Prithvi am a student of edyoda'"
      ]
     },
     "execution_count": 18,
     "metadata": {},
     "output_type": "execute_result"
    }
   ],
   "source": [
    "another_str"
   ]
  },
  {
   "cell_type": "code",
   "execution_count": 19,
   "id": "c340fe33",
   "metadata": {},
   "outputs": [
    {
     "name": "stdout",
     "output_type": "stream",
     "text": [
      "Help on method_descriptor:\n",
      "\n",
      "replace(self, old, new, count=-1, /)\n",
      "    Return a copy with all occurrences of substring old replaced by new.\n",
      "    \n",
      "      count\n",
      "        Maximum number of occurrences to replace.\n",
      "        -1 (the default value) means replace all occurrences.\n",
      "    \n",
      "    If the optional argument count is given, only the first count occurrences are\n",
      "    replaced.\n",
      "\n"
     ]
    }
   ],
   "source": [
    "help(str.replace)"
   ]
  },
  {
   "cell_type": "code",
   "execution_count": 28,
   "id": "29df6d8b",
   "metadata": {},
   "outputs": [
    {
     "data": {
      "text/plain": [
       "'Hi I am a student of edyoda'"
      ]
     },
     "execution_count": 28,
     "metadata": {},
     "output_type": "execute_result"
    }
   ],
   "source": [
    "given_str"
   ]
  },
  {
   "cell_type": "code",
   "execution_count": 31,
   "id": "1c18e77c",
   "metadata": {},
   "outputs": [],
   "source": [
    "new_str = given_str.replace(\"student\",\"Priyanka\")"
   ]
  },
  {
   "cell_type": "code",
   "execution_count": 26,
   "id": "1b53d3ac",
   "metadata": {},
   "outputs": [
    {
     "data": {
      "text/plain": [
       "'Hi I @m @ student of edyod@'"
      ]
     },
     "execution_count": 26,
     "metadata": {},
     "output_type": "execute_result"
    }
   ],
   "source": [
    "given_str.replace('a',\"@\",1)"
   ]
  },
  {
   "cell_type": "code",
   "execution_count": 30,
   "id": "909582e5",
   "metadata": {},
   "outputs": [
    {
     "data": {
      "text/plain": [
       "'Hi I am a student of edyoda'"
      ]
     },
     "execution_count": 30,
     "metadata": {},
     "output_type": "execute_result"
    }
   ],
   "source": [
    "given_str"
   ]
  },
  {
   "cell_type": "code",
   "execution_count": 34,
   "id": "556d1cdb",
   "metadata": {},
   "outputs": [],
   "source": [
    "new_str = \"Edyoda is teaching Python.Python is a programming language. Edyoda takes data science classes\""
   ]
  },
  {
   "cell_type": "code",
   "execution_count": 38,
   "id": "eebd5281",
   "metadata": {},
   "outputs": [
    {
     "data": {
      "text/plain": [
       "0"
      ]
     },
     "execution_count": 38,
     "metadata": {},
     "output_type": "execute_result"
    }
   ],
   "source": [
    "new_str.count(\"Data science\")"
   ]
  },
  {
   "cell_type": "code",
   "execution_count": 39,
   "id": "3e905dd3",
   "metadata": {},
   "outputs": [
    {
     "data": {
      "text/plain": [
       "0"
      ]
     },
     "execution_count": 39,
     "metadata": {},
     "output_type": "execute_result"
    }
   ],
   "source": [
    "new_str.find(\"Edyoda\")"
   ]
  },
  {
   "cell_type": "code",
   "execution_count": 40,
   "id": "ddd19c24",
   "metadata": {},
   "outputs": [],
   "source": [
    "## Reverse words in a given string\n"
   ]
  },
  {
   "cell_type": "code",
   "execution_count": 41,
   "id": "fa99a8b5",
   "metadata": {},
   "outputs": [],
   "source": [
    "given_str = \"Priyanka studies at Edyoda\""
   ]
  },
  {
   "cell_type": "code",
   "execution_count": 42,
   "id": "ee791c2b",
   "metadata": {},
   "outputs": [],
   "source": [
    "reverse_words = \"Edyoda at studies Priyanka\""
   ]
  },
  {
   "cell_type": "code",
   "execution_count": 43,
   "id": "0d859578",
   "metadata": {},
   "outputs": [],
   "source": [
    "given_list = given_str.split()"
   ]
  },
  {
   "cell_type": "code",
   "execution_count": 44,
   "id": "fdba8fc6",
   "metadata": {},
   "outputs": [
    {
     "data": {
      "text/plain": [
       "['Priyanka', 'studies', 'at', 'Edyoda']"
      ]
     },
     "execution_count": 44,
     "metadata": {},
     "output_type": "execute_result"
    }
   ],
   "source": [
    "given_list"
   ]
  },
  {
   "cell_type": "code",
   "execution_count": 60,
   "id": "4b5e1284",
   "metadata": {},
   "outputs": [],
   "source": [
    "new_list = []\n",
    "for i in range(len(given_list)-1,-1,-1):\n",
    "    new_list.append(given_list[i])\n",
    "reverse_str = \" \".join(new_list)"
   ]
  },
  {
   "cell_type": "code",
   "execution_count": 61,
   "id": "e72ccc52",
   "metadata": {},
   "outputs": [
    {
     "data": {
      "text/plain": [
       "'Edyoda at studies Priyanka'"
      ]
     },
     "execution_count": 61,
     "metadata": {},
     "output_type": "execute_result"
    }
   ],
   "source": [
    "reverse_str"
   ]
  },
  {
   "cell_type": "code",
   "execution_count": 57,
   "id": "c653c75a",
   "metadata": {},
   "outputs": [
    {
     "data": {
      "text/plain": [
       "['Edyoda', 'at', 'studies', 'Priyanka']"
      ]
     },
     "execution_count": 57,
     "metadata": {},
     "output_type": "execute_result"
    }
   ],
   "source": [
    "new_list"
   ]
  },
  {
   "cell_type": "code",
   "execution_count": 58,
   "id": "54b5b09f",
   "metadata": {},
   "outputs": [
    {
     "data": {
      "text/plain": [
       "'Edyoda at studies Priyanka'"
      ]
     },
     "execution_count": 58,
     "metadata": {},
     "output_type": "execute_result"
    }
   ],
   "source": []
  },
  {
   "cell_type": "code",
   "execution_count": null,
   "id": "b2008185",
   "metadata": {},
   "outputs": [],
   "source": []
  },
  {
   "cell_type": "code",
   "execution_count": 46,
   "id": "5d0189b3",
   "metadata": {},
   "outputs": [
    {
     "name": "stdout",
     "output_type": "stream",
     "text": [
      "5\n",
      "4\n",
      "3\n",
      "2\n",
      "1\n",
      "0\n"
     ]
    }
   ],
   "source": [
    "for i in range(5,-1,-1):\n",
    "    print(i)"
   ]
  },
  {
   "cell_type": "code",
   "execution_count": 50,
   "id": "8722d620",
   "metadata": {},
   "outputs": [],
   "source": [
    "new_list.append(\"Hi\")"
   ]
  },
  {
   "cell_type": "code",
   "execution_count": 51,
   "id": "af8d5e69",
   "metadata": {},
   "outputs": [
    {
     "data": {
      "text/plain": [
       "['Hi']"
      ]
     },
     "execution_count": 51,
     "metadata": {},
     "output_type": "execute_result"
    }
   ],
   "source": [
    "new_list"
   ]
  },
  {
   "cell_type": "code",
   "execution_count": 52,
   "id": "096f6790",
   "metadata": {},
   "outputs": [],
   "source": [
    "new_list.append(\"my\")"
   ]
  },
  {
   "cell_type": "code",
   "execution_count": 53,
   "id": "39933813",
   "metadata": {},
   "outputs": [
    {
     "data": {
      "text/plain": [
       "['Hi', 'my']"
      ]
     },
     "execution_count": 53,
     "metadata": {},
     "output_type": "execute_result"
    }
   ],
   "source": [
    "new_list"
   ]
  },
  {
   "cell_type": "code",
   "execution_count": 54,
   "id": "e30aed61",
   "metadata": {},
   "outputs": [],
   "source": [
    "new_list.append(\"Priyanka\")"
   ]
  },
  {
   "cell_type": "code",
   "execution_count": 55,
   "id": "06694454",
   "metadata": {},
   "outputs": [
    {
     "data": {
      "text/plain": [
       "['Hi', 'my', 'Priyanka']"
      ]
     },
     "execution_count": 55,
     "metadata": {},
     "output_type": "execute_result"
    }
   ],
   "source": [
    "new_list"
   ]
  },
  {
   "cell_type": "code",
   "execution_count": null,
   "id": "94bd6967",
   "metadata": {},
   "outputs": [],
   "source": [
    "## Python program to print even length words in a string\n",
    "given_str = 'Edyoda at studies Priyanka'\n",
    "\n",
    "Output:\n",
    "Edyoda\n",
    "at\n",
    "Priyanka"
   ]
  },
  {
   "cell_type": "code",
   "execution_count": 62,
   "id": "a0475b05",
   "metadata": {},
   "outputs": [],
   "source": [
    "given_str = 'Edyoda at studies Priyanka'\n"
   ]
  },
  {
   "cell_type": "code",
   "execution_count": 64,
   "id": "1768486c",
   "metadata": {},
   "outputs": [],
   "source": [
    "given_lst = given_str.split()"
   ]
  },
  {
   "cell_type": "code",
   "execution_count": 66,
   "id": "c50922a1",
   "metadata": {},
   "outputs": [
    {
     "name": "stdout",
     "output_type": "stream",
     "text": [
      "Edyoda\n",
      "at\n",
      "Priyanka\n"
     ]
    }
   ],
   "source": [
    "for word in given_lst:\n",
    "    if len(word)%2==0:\n",
    "        print(word)"
   ]
  },
  {
   "cell_type": "code",
   "execution_count": 82,
   "id": "b88abbe2",
   "metadata": {},
   "outputs": [],
   "source": [
    "# Swap commas with dots in a String\n",
    "given_str = \"Priyanka,Prithvi,Dhanush,Rahul.Raj.Lalit\""
   ]
  },
  {
   "cell_type": "code",
   "execution_count": 73,
   "id": "a5a360e7",
   "metadata": {},
   "outputs": [],
   "source": [
    "words = given_str.split(\",\")"
   ]
  },
  {
   "cell_type": "code",
   "execution_count": 74,
   "id": "c775ee0a",
   "metadata": {},
   "outputs": [
    {
     "data": {
      "text/plain": [
       "['Priyanka', 'Prithvi', 'Dhanush', 'Rahul.Raj.Lalit']"
      ]
     },
     "execution_count": 74,
     "metadata": {},
     "output_type": "execute_result"
    }
   ],
   "source": [
    "words"
   ]
  },
  {
   "cell_type": "code",
   "execution_count": 77,
   "id": "52e27d02",
   "metadata": {},
   "outputs": [],
   "source": [
    "words[len(words)-1] = words[len(words)-1].replace(\".\",\",\")"
   ]
  },
  {
   "cell_type": "code",
   "execution_count": 78,
   "id": "06bb2c05",
   "metadata": {},
   "outputs": [
    {
     "data": {
      "text/plain": [
       "['Priyanka', 'Prithvi', 'Dhanush', 'Rahul,Raj,Lalit']"
      ]
     },
     "execution_count": 78,
     "metadata": {},
     "output_type": "execute_result"
    }
   ],
   "source": [
    "words"
   ]
  },
  {
   "cell_type": "code",
   "execution_count": 80,
   "id": "93b85aba",
   "metadata": {},
   "outputs": [
    {
     "data": {
      "text/plain": [
       "'Priyanka.Prithvi.Dhanush.Rahul,Raj,Lalit'"
      ]
     },
     "execution_count": 80,
     "metadata": {},
     "output_type": "execute_result"
    }
   ],
   "source": [
    "\".\".join(words)"
   ]
  },
  {
   "cell_type": "code",
   "execution_count": 87,
   "id": "095857ad",
   "metadata": {},
   "outputs": [],
   "source": [
    "new_str = \"\"\n",
    "for character in given_str:\n",
    "    if character==\".\":\n",
    "        new_str = new_str+\",\"\n",
    "    elif character==\",\":\n",
    "        new_str = new_str+\".\"\n",
    "    else:\n",
    "        new_str = new_str+character\n",
    "#     print(character,end=\" \")"
   ]
  },
  {
   "cell_type": "code",
   "execution_count": 88,
   "id": "7b019e28",
   "metadata": {},
   "outputs": [
    {
     "data": {
      "text/plain": [
       "'Priyanka.Prithvi.Dhanush.Rahul,Raj,Lalit'"
      ]
     },
     "execution_count": 88,
     "metadata": {},
     "output_type": "execute_result"
    }
   ],
   "source": [
    "new_str"
   ]
  },
  {
   "cell_type": "code",
   "execution_count": null,
   "id": "7a114cd9",
   "metadata": {},
   "outputs": [],
   "source": []
  }
 ],
 "metadata": {
  "kernelspec": {
   "display_name": "Python 3 (ipykernel)",
   "language": "python",
   "name": "python3"
  },
  "language_info": {
   "codemirror_mode": {
    "name": "ipython",
    "version": 3
   },
   "file_extension": ".py",
   "mimetype": "text/x-python",
   "name": "python",
   "nbconvert_exporter": "python",
   "pygments_lexer": "ipython3",
   "version": "3.10.7"
  }
 },
 "nbformat": 4,
 "nbformat_minor": 5
}
