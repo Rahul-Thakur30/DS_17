{
 "cells": [
  {
   "cell_type": "code",
   "execution_count": 1,
   "id": "7a6f9f1a",
   "metadata": {},
   "outputs": [],
   "source": [
    "edyoda_dict = {\n",
    " \"DS_17\":{\n",
    "     \"Python\":{\n",
    "         \"Aarushi\":[98,78,65,86,45],\n",
    "         \"Raj\":[76,23,64,74,75],\n",
    "         \"Satwik\":[98,34,64,78,43],\n",
    "         \"Danushri\":[98,23,64,24,75]\n",
    "     },\n",
    "    \"ML\":{\n",
    "         \"Aarushi\":[18,28,75,36,85],\n",
    "         \"Raj\":[34,73,44,64,35],\n",
    "         \"Satwik\":[18,94,14,38,33],\n",
    "         \"Danushri\":[88,33,54,64,65]\n",
    "     }\n",
    " },\n",
    "    \"DS_18\":{\n",
    "     \"Python\":{\n",
    "         \"Sachin\":[58,38,85,36,45],\n",
    "         \"Saurav\":[56,26,66,34,75],\n",
    "         \"Rahul\":[68,24,24,28,33],\n",
    "         \"Dhoni\":[38,53,64,24,25]\n",
    "     },\n",
    "    \"ML\":{\n",
    "         \"Sachin\":[18,28,75,36,25],\n",
    "         \"Saurav\":[34,33,64,34,35],\n",
    "         \"Rahul\":[88,94,14,38,33],\n",
    "         \"Dhoni\":[8,23,54,14,25]\n",
    "     }\n",
    " }\n",
    "    \n",
    "    \n",
    "}"
   ]
  },
  {
   "cell_type": "code",
   "execution_count": 14,
   "id": "cb16338d",
   "metadata": {},
   "outputs": [
    {
     "data": {
      "text/plain": [
       "{'DS_17': {'Python': {'Aarushi': [98, 78, 65, 86, 45],\n",
       "   'Raj': [76, 23, 64, 74, 75],\n",
       "   'Satwik': [98, 34, 64, 78, 43],\n",
       "   'Danushri': [98, 23, 64, 24, 75]},\n",
       "  'ML': {'Aarushi': [18, 28, 75, 36, 85],\n",
       "   'Raj': [34, 73, 44, 64, 35],\n",
       "   'Satwik': [18, 94, 14, 38, 33],\n",
       "   'Danushri': [88, 33, 54, 64, 65]}},\n",
       " 'DS_18': {'Python': {'Sachin': [58, 38, 85, 36, 45],\n",
       "   'Saurav': [56, 26, 66, 34, 75],\n",
       "   'Rahul': [68, 24, 24, 28, 33],\n",
       "   'Dhoni': [38, 53, 64, 24, 25]},\n",
       "  'ML': {'Sachin': [18, 28, 75, 36, 25],\n",
       "   'Saurav': [34, 33, 64, 34, 35],\n",
       "   'Rahul': [88, 94, 14, 38, 33],\n",
       "   'Dhoni': [8, 23, 54, 14, 25]}}}"
      ]
     },
     "execution_count": 14,
     "metadata": {},
     "output_type": "execute_result"
    }
   ],
   "source": [
    "edyoda_dict"
   ]
  },
  {
   "cell_type": "markdown",
   "id": "2428abf4",
   "metadata": {},
   "source": [
    "#### Find out average marks for each student in each batch for every subject and create a dictionary\n",
    "#### Find out which batch has a better average in subject Python,ML and print that batch\n"
   ]
  },
  {
   "cell_type": "code",
   "execution_count": null,
   "id": "20f6c355",
   "metadata": {},
   "outputs": [],
   "source": []
  },
  {
   "cell_type": "code",
   "execution_count": 29,
   "id": "f1a61457",
   "metadata": {},
   "outputs": [],
   "source": [
    "average_dict = {}\n",
    "for key,value in edyoda_dict.items():\n",
    "    outer_dict = {}\n",
    "    for inner_key,inner_val in value.items():\n",
    "        average_dict_inner = {}\n",
    "        for student_name,marks_list in inner_val.items():\n",
    "            average_dict_inner[student_name] = sum(marks_list)/len(marks_list)\n",
    "        outer_dict[inner_key] = average_dict_inner\n",
    "    average_dict[key] = outer_dict"
   ]
  },
  {
   "cell_type": "code",
   "execution_count": 30,
   "id": "4c3c3d96",
   "metadata": {},
   "outputs": [
    {
     "data": {
      "text/plain": [
       "{'DS_17': {'Python': {'Aarushi': 74.4,\n",
       "   'Raj': 62.4,\n",
       "   'Satwik': 63.4,\n",
       "   'Danushri': 56.8},\n",
       "  'ML': {'Aarushi': 48.4, 'Raj': 50.0, 'Satwik': 39.4, 'Danushri': 60.8}},\n",
       " 'DS_18': {'Python': {'Sachin': 52.4,\n",
       "   'Saurav': 51.4,\n",
       "   'Rahul': 35.4,\n",
       "   'Dhoni': 40.8},\n",
       "  'ML': {'Sachin': 36.4, 'Saurav': 40.0, 'Rahul': 53.4, 'Dhoni': 24.8}}}"
      ]
     },
     "execution_count": 30,
     "metadata": {},
     "output_type": "execute_result"
    }
   ],
   "source": [
    "average_dict"
   ]
  },
  {
   "cell_type": "code",
   "execution_count": 34,
   "id": "e35a1b2d",
   "metadata": {},
   "outputs": [],
   "source": [
    "average_dict[\"DS_17\"][\"Python\"][\"Aarushi\"] = 90"
   ]
  },
  {
   "cell_type": "code",
   "execution_count": 35,
   "id": "ce7f76fe",
   "metadata": {},
   "outputs": [
    {
     "data": {
      "text/plain": [
       "{'DS_17': {'Python': {'Aarushi': 90,\n",
       "   'Raj': 62.4,\n",
       "   'Satwik': 63.4,\n",
       "   'Danushri': 56.8},\n",
       "  'ML': {'Aarushi': 48.4, 'Raj': 50.0, 'Satwik': 39.4, 'Danushri': 60.8}},\n",
       " 'DS_18': {'Python': {'Sachin': 52.4,\n",
       "   'Saurav': 51.4,\n",
       "   'Rahul': 35.4,\n",
       "   'Dhoni': 40.8},\n",
       "  'ML': {'Sachin': 36.4, 'Saurav': 40.0, 'Rahul': 53.4, 'Dhoni': 24.8}}}"
      ]
     },
     "execution_count": 35,
     "metadata": {},
     "output_type": "execute_result"
    }
   ],
   "source": [
    "average_dict"
   ]
  },
  {
   "cell_type": "code",
   "execution_count": 36,
   "id": "772c9fb9",
   "metadata": {},
   "outputs": [
    {
     "data": {
      "text/plain": [
       "{'DS_17': {'Python': {'Aarushi': 74.4,\n",
       "   'Raj': 62.4,\n",
       "   'Satwik': 63.4,\n",
       "   'Danushri': 56.8},\n",
       "  'ML': {'Aarushi': 48.4, 'Raj': 50.0, 'Satwik': 39.4, 'Danushri': 60.8}},\n",
       " 'DS_18': {'Python': {'Sachin': 52.4,\n",
       "   'Saurav': 51.4,\n",
       "   'Rahul': 35.4,\n",
       "   'Dhoni': 40.8},\n",
       "  'ML': {'Sachin': 36.4, 'Saurav': 40.0, 'Rahul': 53.4, 'Dhoni': 24.8}}}"
      ]
     },
     "execution_count": 36,
     "metadata": {},
     "output_type": "execute_result"
    }
   ],
   "source": [
    "result={}\n",
    "for key1,val1 in edyoda_dict.items():\n",
    "    result[key1]={}\n",
    "    for key2,val2 in val1.items():\n",
    "        result[key1][key2]={}\n",
    "        for key3,val3 in val2.items():\n",
    "            result[key1][key2][key3]=sum(val3)/len(val3)\n",
    "            \n",
    "result  "
   ]
  },
  {
   "cell_type": "code",
   "execution_count": 39,
   "id": "1b5e4f1a",
   "metadata": {},
   "outputs": [],
   "source": [
    "cricket = {\"Rajat\",\"Satwik\",\"Prithvi\",\"Gaurav\",\"Gaurav\"}"
   ]
  },
  {
   "cell_type": "code",
   "execution_count": 40,
   "id": "30f6d607",
   "metadata": {},
   "outputs": [
    {
     "data": {
      "text/plain": [
       "{'Gaurav', 'Prithvi', 'Rajat', 'Satwik'}"
      ]
     },
     "execution_count": 40,
     "metadata": {},
     "output_type": "execute_result"
    }
   ],
   "source": [
    "cricket"
   ]
  },
  {
   "cell_type": "code",
   "execution_count": 38,
   "id": "8afe6f2b",
   "metadata": {},
   "outputs": [],
   "source": [
    "football = {\"Rajat\",\"Kaushik\",\"Satwik\",\"Rakesh\"}"
   ]
  },
  {
   "cell_type": "code",
   "execution_count": 42,
   "id": "fb4ae5db",
   "metadata": {},
   "outputs": [],
   "source": [
    "## find students who played both cricket and football"
   ]
  },
  {
   "cell_type": "code",
   "execution_count": 43,
   "id": "c6c71df0",
   "metadata": {},
   "outputs": [
    {
     "data": {
      "text/plain": [
       "{'Rajat', 'Satwik'}"
      ]
     },
     "execution_count": 43,
     "metadata": {},
     "output_type": "execute_result"
    }
   ],
   "source": [
    "cricket.intersection(football)"
   ]
  },
  {
   "cell_type": "code",
   "execution_count": 44,
   "id": "eb245714",
   "metadata": {},
   "outputs": [
    {
     "data": {
      "text/plain": [
       "{'Gaurav', 'Prithvi'}"
      ]
     },
     "execution_count": 44,
     "metadata": {},
     "output_type": "execute_result"
    }
   ],
   "source": [
    "cricket-football"
   ]
  },
  {
   "cell_type": "code",
   "execution_count": 45,
   "id": "76ca6e08",
   "metadata": {},
   "outputs": [
    {
     "data": {
      "text/plain": [
       "{'Kaushik', 'Rakesh'}"
      ]
     },
     "execution_count": 45,
     "metadata": {},
     "output_type": "execute_result"
    }
   ],
   "source": [
    "football-cricket"
   ]
  },
  {
   "cell_type": "code",
   "execution_count": 46,
   "id": "ba79ac00",
   "metadata": {},
   "outputs": [
    {
     "data": {
      "text/plain": [
       "4"
      ]
     },
     "execution_count": 46,
     "metadata": {},
     "output_type": "execute_result"
    }
   ],
   "source": [
    "len(football)"
   ]
  },
  {
   "cell_type": "code",
   "execution_count": 48,
   "id": "c8a3d6ec",
   "metadata": {},
   "outputs": [
    {
     "name": "stdout",
     "output_type": "stream",
     "text": [
      "Rakesh\n",
      "Satwik\n",
      "Rajat\n",
      "Kaushik\n"
     ]
    }
   ],
   "source": [
    "for player in football:\n",
    "    print(player)"
   ]
  },
  {
   "cell_type": "code",
   "execution_count": 49,
   "id": "01db3133",
   "metadata": {},
   "outputs": [],
   "source": [
    "a_list = [1,2,3,5,6,1,3,5,62,4,6,7]\n"
   ]
  },
  {
   "cell_type": "code",
   "execution_count": 50,
   "id": "46e28ab5",
   "metadata": {},
   "outputs": [
    {
     "data": {
      "text/plain": [
       "{1, 2, 3, 4, 5, 6, 7, 62}"
      ]
     },
     "execution_count": 50,
     "metadata": {},
     "output_type": "execute_result"
    }
   ],
   "source": [
    "set(a_list)"
   ]
  },
  {
   "cell_type": "code",
   "execution_count": 51,
   "id": "10c4371f",
   "metadata": {},
   "outputs": [
    {
     "name": "stdout",
     "output_type": "stream",
     "text": [
      "Help on class set in module builtins:\n",
      "\n",
      "class set(object)\n",
      " |  set() -> new empty set object\n",
      " |  set(iterable) -> new set object\n",
      " |  \n",
      " |  Build an unordered collection of unique elements.\n",
      " |  \n",
      " |  Methods defined here:\n",
      " |  \n",
      " |  __and__(self, value, /)\n",
      " |      Return self&value.\n",
      " |  \n",
      " |  __contains__(...)\n",
      " |      x.__contains__(y) <==> y in x.\n",
      " |  \n",
      " |  __eq__(self, value, /)\n",
      " |      Return self==value.\n",
      " |  \n",
      " |  __ge__(self, value, /)\n",
      " |      Return self>=value.\n",
      " |  \n",
      " |  __getattribute__(self, name, /)\n",
      " |      Return getattr(self, name).\n",
      " |  \n",
      " |  __gt__(self, value, /)\n",
      " |      Return self>value.\n",
      " |  \n",
      " |  __iand__(self, value, /)\n",
      " |      Return self&=value.\n",
      " |  \n",
      " |  __init__(self, /, *args, **kwargs)\n",
      " |      Initialize self.  See help(type(self)) for accurate signature.\n",
      " |  \n",
      " |  __ior__(self, value, /)\n",
      " |      Return self|=value.\n",
      " |  \n",
      " |  __isub__(self, value, /)\n",
      " |      Return self-=value.\n",
      " |  \n",
      " |  __iter__(self, /)\n",
      " |      Implement iter(self).\n",
      " |  \n",
      " |  __ixor__(self, value, /)\n",
      " |      Return self^=value.\n",
      " |  \n",
      " |  __le__(self, value, /)\n",
      " |      Return self<=value.\n",
      " |  \n",
      " |  __len__(self, /)\n",
      " |      Return len(self).\n",
      " |  \n",
      " |  __lt__(self, value, /)\n",
      " |      Return self<value.\n",
      " |  \n",
      " |  __ne__(self, value, /)\n",
      " |      Return self!=value.\n",
      " |  \n",
      " |  __or__(self, value, /)\n",
      " |      Return self|value.\n",
      " |  \n",
      " |  __rand__(self, value, /)\n",
      " |      Return value&self.\n",
      " |  \n",
      " |  __reduce__(...)\n",
      " |      Return state information for pickling.\n",
      " |  \n",
      " |  __repr__(self, /)\n",
      " |      Return repr(self).\n",
      " |  \n",
      " |  __ror__(self, value, /)\n",
      " |      Return value|self.\n",
      " |  \n",
      " |  __rsub__(self, value, /)\n",
      " |      Return value-self.\n",
      " |  \n",
      " |  __rxor__(self, value, /)\n",
      " |      Return value^self.\n",
      " |  \n",
      " |  __sizeof__(...)\n",
      " |      S.__sizeof__() -> size of S in memory, in bytes\n",
      " |  \n",
      " |  __sub__(self, value, /)\n",
      " |      Return self-value.\n",
      " |  \n",
      " |  __xor__(self, value, /)\n",
      " |      Return self^value.\n",
      " |  \n",
      " |  add(...)\n",
      " |      Add an element to a set.\n",
      " |      \n",
      " |      This has no effect if the element is already present.\n",
      " |  \n",
      " |  clear(...)\n",
      " |      Remove all elements from this set.\n",
      " |  \n",
      " |  copy(...)\n",
      " |      Return a shallow copy of a set.\n",
      " |  \n",
      " |  difference(...)\n",
      " |      Return the difference of two or more sets as a new set.\n",
      " |      \n",
      " |      (i.e. all elements that are in this set but not the others.)\n",
      " |  \n",
      " |  difference_update(...)\n",
      " |      Remove all elements of another set from this set.\n",
      " |  \n",
      " |  discard(...)\n",
      " |      Remove an element from a set if it is a member.\n",
      " |      \n",
      " |      If the element is not a member, do nothing.\n",
      " |  \n",
      " |  intersection(...)\n",
      " |      Return the intersection of two sets as a new set.\n",
      " |      \n",
      " |      (i.e. all elements that are in both sets.)\n",
      " |  \n",
      " |  intersection_update(...)\n",
      " |      Update a set with the intersection of itself and another.\n",
      " |  \n",
      " |  isdisjoint(...)\n",
      " |      Return True if two sets have a null intersection.\n",
      " |  \n",
      " |  issubset(...)\n",
      " |      Report whether another set contains this set.\n",
      " |  \n",
      " |  issuperset(...)\n",
      " |      Report whether this set contains another set.\n",
      " |  \n",
      " |  pop(...)\n",
      " |      Remove and return an arbitrary set element.\n",
      " |      Raises KeyError if the set is empty.\n",
      " |  \n",
      " |  remove(...)\n",
      " |      Remove an element from a set; it must be a member.\n",
      " |      \n",
      " |      If the element is not a member, raise a KeyError.\n",
      " |  \n",
      " |  symmetric_difference(...)\n",
      " |      Return the symmetric difference of two sets as a new set.\n",
      " |      \n",
      " |      (i.e. all elements that are in exactly one of the sets.)\n",
      " |  \n",
      " |  symmetric_difference_update(...)\n",
      " |      Update a set with the symmetric difference of itself and another.\n",
      " |  \n",
      " |  union(...)\n",
      " |      Return the union of sets as a new set.\n",
      " |      \n",
      " |      (i.e. all elements that are in either set.)\n",
      " |  \n",
      " |  update(...)\n",
      " |      Update a set with the union of itself and others.\n",
      " |  \n",
      " |  ----------------------------------------------------------------------\n",
      " |  Class methods defined here:\n",
      " |  \n",
      " |  __class_getitem__(...) from builtins.type\n",
      " |      See PEP 585\n",
      " |  \n",
      " |  ----------------------------------------------------------------------\n",
      " |  Static methods defined here:\n",
      " |  \n",
      " |  __new__(*args, **kwargs) from builtins.type\n",
      " |      Create and return a new object.  See help(type) for accurate signature.\n",
      " |  \n",
      " |  ----------------------------------------------------------------------\n",
      " |  Data and other attributes defined here:\n",
      " |  \n",
      " |  __hash__ = None\n",
      "\n"
     ]
    }
   ],
   "source": [
    "help(set)"
   ]
  },
  {
   "cell_type": "code",
   "execution_count": 53,
   "id": "fa7d748b",
   "metadata": {},
   "outputs": [],
   "source": [
    "all_sports = cricket.union(football)"
   ]
  },
  {
   "cell_type": "code",
   "execution_count": 54,
   "id": "d5ba1091",
   "metadata": {},
   "outputs": [
    {
     "data": {
      "text/plain": [
       "{'Gaurav', 'Kaushik', 'Prithvi', 'Rajat', 'Rakesh', 'Satwik'}"
      ]
     },
     "execution_count": 54,
     "metadata": {},
     "output_type": "execute_result"
    }
   ],
   "source": [
    "all_sports"
   ]
  },
  {
   "cell_type": "code",
   "execution_count": 55,
   "id": "bf52164c",
   "metadata": {},
   "outputs": [
    {
     "data": {
      "text/plain": [
       "{'Gaurav', 'Prithvi', 'Rajat', 'Satwik'}"
      ]
     },
     "execution_count": 55,
     "metadata": {},
     "output_type": "execute_result"
    }
   ],
   "source": [
    "cricket"
   ]
  },
  {
   "cell_type": "code",
   "execution_count": 56,
   "id": "741ccc97",
   "metadata": {},
   "outputs": [
    {
     "data": {
      "text/plain": [
       "{'Kaushik', 'Rajat', 'Rakesh', 'Satwik'}"
      ]
     },
     "execution_count": 56,
     "metadata": {},
     "output_type": "execute_result"
    }
   ],
   "source": [
    "football"
   ]
  },
  {
   "cell_type": "code",
   "execution_count": 57,
   "id": "3fb61300",
   "metadata": {},
   "outputs": [
    {
     "data": {
      "text/plain": [
       "True"
      ]
     },
     "execution_count": 57,
     "metadata": {},
     "output_type": "execute_result"
    }
   ],
   "source": [
    "all_sports.issuperset(cricket)"
   ]
  },
  {
   "cell_type": "code",
   "execution_count": 58,
   "id": "8843d4e3",
   "metadata": {},
   "outputs": [
    {
     "data": {
      "text/plain": [
       "True"
      ]
     },
     "execution_count": 58,
     "metadata": {},
     "output_type": "execute_result"
    }
   ],
   "source": [
    "cricket.issubset(all_sports)"
   ]
  },
  {
   "cell_type": "code",
   "execution_count": 59,
   "id": "ec104b83",
   "metadata": {},
   "outputs": [
    {
     "data": {
      "text/plain": [
       "False"
      ]
     },
     "execution_count": 59,
     "metadata": {},
     "output_type": "execute_result"
    }
   ],
   "source": [
    "all_sports.issubset(football)"
   ]
  },
  {
   "cell_type": "code",
   "execution_count": 60,
   "id": "b1a5e703",
   "metadata": {},
   "outputs": [
    {
     "data": {
      "text/plain": [
       "True"
      ]
     },
     "execution_count": 60,
     "metadata": {},
     "output_type": "execute_result"
    }
   ],
   "source": [
    "football.issubset(all_sports)"
   ]
  },
  {
   "cell_type": "code",
   "execution_count": 61,
   "id": "55eb056e",
   "metadata": {},
   "outputs": [
    {
     "data": {
      "text/plain": [
       "False"
      ]
     },
     "execution_count": 61,
     "metadata": {},
     "output_type": "execute_result"
    }
   ],
   "source": [
    "football.isdisjoint(cricket)"
   ]
  },
  {
   "cell_type": "code",
   "execution_count": 62,
   "id": "5bf8177a",
   "metadata": {},
   "outputs": [],
   "source": [
    "politician = {\"Rahul\",\"Raj\"}"
   ]
  },
  {
   "cell_type": "code",
   "execution_count": 63,
   "id": "182b72eb",
   "metadata": {},
   "outputs": [
    {
     "data": {
      "text/plain": [
       "set()"
      ]
     },
     "execution_count": 63,
     "metadata": {},
     "output_type": "execute_result"
    }
   ],
   "source": [
    "football.intersection(politician)"
   ]
  },
  {
   "cell_type": "code",
   "execution_count": 64,
   "id": "55535575",
   "metadata": {},
   "outputs": [
    {
     "data": {
      "text/plain": [
       "True"
      ]
     },
     "execution_count": 64,
     "metadata": {},
     "output_type": "execute_result"
    }
   ],
   "source": [
    "football.isdisjoint(politician)"
   ]
  },
  {
   "cell_type": "code",
   "execution_count": 65,
   "id": "3a7a52b5",
   "metadata": {},
   "outputs": [
    {
     "name": "stdout",
     "output_type": "stream",
     "text": [
      "Help on built-in function pop:\n",
      "\n",
      "pop(...) method of builtins.dict instance\n",
      "    D.pop(k[,d]) -> v, remove specified key and return the corresponding value.\n",
      "    \n",
      "    If the key is not found, return the default if given; otherwise,\n",
      "    raise a KeyError.\n",
      "\n"
     ]
    }
   ],
   "source": [
    "help(edyoda_dict.pop)"
   ]
  },
  {
   "cell_type": "code",
   "execution_count": 67,
   "id": "e71bac01",
   "metadata": {},
   "outputs": [
    {
     "data": {
      "text/plain": [
       "{'Python': {'Aarushi': [98, 78, 65, 86, 45],\n",
       "  'Raj': [76, 23, 64, 74, 75],\n",
       "  'Satwik': [98, 34, 64, 78, 43],\n",
       "  'Danushri': [98, 23, 64, 24, 75]},\n",
       " 'ML': {'Aarushi': [18, 28, 75, 36, 85],\n",
       "  'Raj': [34, 73, 44, 64, 35],\n",
       "  'Satwik': [18, 94, 14, 38, 33],\n",
       "  'Danushri': [88, 33, 54, 64, 65]}}"
      ]
     },
     "execution_count": 67,
     "metadata": {},
     "output_type": "execute_result"
    }
   ],
   "source": [
    "edyoda_dict.pop(\"DS_17\")"
   ]
  },
  {
   "cell_type": "code",
   "execution_count": 68,
   "id": "5a37b5c5",
   "metadata": {},
   "outputs": [
    {
     "data": {
      "text/plain": [
       "{'DS_18': {'Python': {'Sachin': [58, 38, 85, 36, 45],\n",
       "   'Saurav': [56, 26, 66, 34, 75],\n",
       "   'Rahul': [68, 24, 24, 28, 33],\n",
       "   'Dhoni': [38, 53, 64, 24, 25]},\n",
       "  'ML': {'Sachin': [18, 28, 75, 36, 25],\n",
       "   'Saurav': [34, 33, 64, 34, 35],\n",
       "   'Rahul': [88, 94, 14, 38, 33],\n",
       "   'Dhoni': [8, 23, 54, 14, 25]}}}"
      ]
     },
     "execution_count": 68,
     "metadata": {},
     "output_type": "execute_result"
    }
   ],
   "source": [
    "edyoda_dict"
   ]
  },
  {
   "cell_type": "code",
   "execution_count": 69,
   "id": "c93a41fb",
   "metadata": {},
   "outputs": [
    {
     "name": "stdout",
     "output_type": "stream",
     "text": [
      "Help on built-in function update:\n",
      "\n",
      "update(...) method of builtins.dict instance\n",
      "    D.update([E, ]**F) -> None.  Update D from dict/iterable E and F.\n",
      "    If E is present and has a .keys() method, then does:  for k in E: D[k] = E[k]\n",
      "    If E is present and lacks a .keys() method, then does:  for k, v in E: D[k] = v\n",
      "    In either case, this is followed by: for k in F:  D[k] = F[k]\n",
      "\n"
     ]
    }
   ],
   "source": [
    "help(edyoda_dict.update)"
   ]
  },
  {
   "cell_type": "code",
   "execution_count": 71,
   "id": "b9f6bab4",
   "metadata": {},
   "outputs": [],
   "source": [
    "edyoda_dict.update({\"DS_17\":{'Python': {'Aarushi': [98, 78, 65, 86, 45],\n",
    "  'Raj': [76, 23, 64, 74, 75],\n",
    "  'Satwik': [98, 34, 64, 78, 43],\n",
    "  'Danushri': [98, 23, 64, 24, 75]},\n",
    " 'ML': {'Aarushi': [18, 28, 75, 36, 85],\n",
    "  'Raj': [34, 73, 44, 64, 35],\n",
    "  'Satwik': [18, 94, 14, 38, 33],\n",
    "  'Danushri': [88, 33, 54, 64, 65]}}})"
   ]
  },
  {
   "cell_type": "code",
   "execution_count": 72,
   "id": "5c74f983",
   "metadata": {},
   "outputs": [
    {
     "data": {
      "text/plain": [
       "{'DS_18': {'Python': {'Sachin': [58, 38, 85, 36, 45],\n",
       "   'Saurav': [56, 26, 66, 34, 75],\n",
       "   'Rahul': [68, 24, 24, 28, 33],\n",
       "   'Dhoni': [38, 53, 64, 24, 25]},\n",
       "  'ML': {'Sachin': [18, 28, 75, 36, 25],\n",
       "   'Saurav': [34, 33, 64, 34, 35],\n",
       "   'Rahul': [88, 94, 14, 38, 33],\n",
       "   'Dhoni': [8, 23, 54, 14, 25]}},\n",
       " 'DS_17': {'Python': {'Aarushi': [98, 78, 65, 86, 45],\n",
       "   'Raj': [76, 23, 64, 74, 75],\n",
       "   'Satwik': [98, 34, 64, 78, 43],\n",
       "   'Danushri': [98, 23, 64, 24, 75]},\n",
       "  'ML': {'Aarushi': [18, 28, 75, 36, 85],\n",
       "   'Raj': [34, 73, 44, 64, 35],\n",
       "   'Satwik': [18, 94, 14, 38, 33],\n",
       "   'Danushri': [88, 33, 54, 64, 65]}}}"
      ]
     },
     "execution_count": 72,
     "metadata": {},
     "output_type": "execute_result"
    }
   ],
   "source": [
    "edyoda_dict"
   ]
  },
  {
   "cell_type": "code",
   "execution_count": 73,
   "id": "76d11406",
   "metadata": {},
   "outputs": [],
   "source": [
    "edyoda_dict.update({\"DS_19\":None})"
   ]
  },
  {
   "cell_type": "code",
   "execution_count": 74,
   "id": "931c0581",
   "metadata": {},
   "outputs": [
    {
     "data": {
      "text/plain": [
       "{'DS_18': {'Python': {'Sachin': [58, 38, 85, 36, 45],\n",
       "   'Saurav': [56, 26, 66, 34, 75],\n",
       "   'Rahul': [68, 24, 24, 28, 33],\n",
       "   'Dhoni': [38, 53, 64, 24, 25]},\n",
       "  'ML': {'Sachin': [18, 28, 75, 36, 25],\n",
       "   'Saurav': [34, 33, 64, 34, 35],\n",
       "   'Rahul': [88, 94, 14, 38, 33],\n",
       "   'Dhoni': [8, 23, 54, 14, 25]}},\n",
       " 'DS_17': {'Python': {'Aarushi': [98, 78, 65, 86, 45],\n",
       "   'Raj': [76, 23, 64, 74, 75],\n",
       "   'Satwik': [98, 34, 64, 78, 43],\n",
       "   'Danushri': [98, 23, 64, 24, 75]},\n",
       "  'ML': {'Aarushi': [18, 28, 75, 36, 85],\n",
       "   'Raj': [34, 73, 44, 64, 35],\n",
       "   'Satwik': [18, 94, 14, 38, 33],\n",
       "   'Danushri': [88, 33, 54, 64, 65]}},\n",
       " 'DS_19': None}"
      ]
     },
     "execution_count": 74,
     "metadata": {},
     "output_type": "execute_result"
    }
   ],
   "source": [
    "edyoda_dict"
   ]
  },
  {
   "cell_type": "code",
   "execution_count": 75,
   "id": "0bf645f8",
   "metadata": {},
   "outputs": [],
   "source": [
    "edyoda_dict[\"DS_20\"] = None"
   ]
  },
  {
   "cell_type": "code",
   "execution_count": 76,
   "id": "f203c35f",
   "metadata": {},
   "outputs": [
    {
     "data": {
      "text/plain": [
       "{'DS_18': {'Python': {'Sachin': [58, 38, 85, 36, 45],\n",
       "   'Saurav': [56, 26, 66, 34, 75],\n",
       "   'Rahul': [68, 24, 24, 28, 33],\n",
       "   'Dhoni': [38, 53, 64, 24, 25]},\n",
       "  'ML': {'Sachin': [18, 28, 75, 36, 25],\n",
       "   'Saurav': [34, 33, 64, 34, 35],\n",
       "   'Rahul': [88, 94, 14, 38, 33],\n",
       "   'Dhoni': [8, 23, 54, 14, 25]}},\n",
       " 'DS_17': {'Python': {'Aarushi': [98, 78, 65, 86, 45],\n",
       "   'Raj': [76, 23, 64, 74, 75],\n",
       "   'Satwik': [98, 34, 64, 78, 43],\n",
       "   'Danushri': [98, 23, 64, 24, 75]},\n",
       "  'ML': {'Aarushi': [18, 28, 75, 36, 85],\n",
       "   'Raj': [34, 73, 44, 64, 35],\n",
       "   'Satwik': [18, 94, 14, 38, 33],\n",
       "   'Danushri': [88, 33, 54, 64, 65]}},\n",
       " 'DS_19': None,\n",
       " 'DS_20': None}"
      ]
     },
     "execution_count": 76,
     "metadata": {},
     "output_type": "execute_result"
    }
   ],
   "source": [
    "edyoda_dict"
   ]
  },
  {
   "cell_type": "code",
   "execution_count": 79,
   "id": "84202f37",
   "metadata": {},
   "outputs": [],
   "source": [
    "sample_1 = {\"Raj\":90,\"Raman\":90,(\"Raj\",\"Chauhan\"):97}\n"
   ]
  },
  {
   "cell_type": "code",
   "execution_count": 80,
   "id": "39d01fe5",
   "metadata": {},
   "outputs": [
    {
     "ename": "TypeError",
     "evalue": "unhashable type: 'list'",
     "output_type": "error",
     "traceback": [
      "\u001b[1;31m---------------------------------------------------------------------------\u001b[0m",
      "\u001b[1;31mTypeError\u001b[0m                                 Traceback (most recent call last)",
      "Input \u001b[1;32mIn [80]\u001b[0m, in \u001b[0;36m<cell line: 1>\u001b[1;34m()\u001b[0m\n\u001b[1;32m----> 1\u001b[0m sample_2 \u001b[38;5;241m=\u001b[39m {\u001b[38;5;124m\"\u001b[39m\u001b[38;5;124mRajat\u001b[39m\u001b[38;5;124m\"\u001b[39m:\u001b[38;5;241m68\u001b[39m,\u001b[38;5;124m\"\u001b[39m\u001b[38;5;124mRicha\u001b[39m\u001b[38;5;124m\"\u001b[39m:\u001b[38;5;241m56\u001b[39m,[\u001b[38;5;124m\"\u001b[39m\u001b[38;5;124mRam\u001b[39m\u001b[38;5;124m\"\u001b[39m,\u001b[38;5;124m\"\u001b[39m\u001b[38;5;124mSingh\u001b[39m\u001b[38;5;124m\"\u001b[39m]:\u001b[38;5;241m90\u001b[39m}\n",
      "\u001b[1;31mTypeError\u001b[0m: unhashable type: 'list'"
     ]
    }
   ],
   "source": [
    "sample_2 = {\"Rajat\":68,\"Richa\":56,[\"Ram\",\"Singh\"]:90}"
   ]
  },
  {
   "cell_type": "code",
   "execution_count": 81,
   "id": "75aae668",
   "metadata": {},
   "outputs": [
    {
     "ename": "TypeError",
     "evalue": "unhashable type: 'dict'",
     "output_type": "error",
     "traceback": [
      "\u001b[1;31m---------------------------------------------------------------------------\u001b[0m",
      "\u001b[1;31mTypeError\u001b[0m                                 Traceback (most recent call last)",
      "Input \u001b[1;32mIn [81]\u001b[0m, in \u001b[0;36m<cell line: 1>\u001b[1;34m()\u001b[0m\n\u001b[1;32m----> 1\u001b[0m sample_3 \u001b[38;5;241m=\u001b[39m {\u001b[38;5;124m\"\u001b[39m\u001b[38;5;124mRajat\u001b[39m\u001b[38;5;124m\"\u001b[39m:\u001b[38;5;241m68\u001b[39m,\u001b[38;5;124m\"\u001b[39m\u001b[38;5;124mRicha\u001b[39m\u001b[38;5;124m\"\u001b[39m:\u001b[38;5;241m56\u001b[39m,{\u001b[38;5;124m\"\u001b[39m\u001b[38;5;124mRam\u001b[39m\u001b[38;5;124m\"\u001b[39m:\u001b[38;5;124m\"\u001b[39m\u001b[38;5;124mSingh\u001b[39m\u001b[38;5;124m\"\u001b[39m}:\u001b[38;5;241m90\u001b[39m}\n",
      "\u001b[1;31mTypeError\u001b[0m: unhashable type: 'dict'"
     ]
    }
   ],
   "source": [
    "sample_3 = {\"Rajat\":68,\"Richa\":56,{\"Ram\":\"Singh\"}:90}"
   ]
  },
  {
   "cell_type": "code",
   "execution_count": 82,
   "id": "f65abd4f",
   "metadata": {},
   "outputs": [],
   "source": [
    "sample_4 = {\"Rajat\":68,\"Richa\":56,90:{\"Ram\":\"Singh\"}}"
   ]
  },
  {
   "cell_type": "code",
   "execution_count": null,
   "id": "6283ca83",
   "metadata": {},
   "outputs": [],
   "source": []
  }
 ],
 "metadata": {
  "kernelspec": {
   "display_name": "Python 3 (ipykernel)",
   "language": "python",
   "name": "python3"
  },
  "language_info": {
   "codemirror_mode": {
    "name": "ipython",
    "version": 3
   },
   "file_extension": ".py",
   "mimetype": "text/x-python",
   "name": "python",
   "nbconvert_exporter": "python",
   "pygments_lexer": "ipython3",
   "version": "3.10.7"
  }
 },
 "nbformat": 4,
 "nbformat_minor": 5
}
