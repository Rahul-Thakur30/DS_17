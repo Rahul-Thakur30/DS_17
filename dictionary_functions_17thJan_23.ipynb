{
 "cells": [
  {
   "cell_type": "code",
   "execution_count": 1,
   "id": "01fe43b2",
   "metadata": {},
   "outputs": [],
   "source": [
    "student = {1: {'name': 'Emma', 'age': '27', 'sex': 'Female'},\n",
    "           2: {'name': 'Mike', 'age': '22', 'sex': 'Male'}}\n",
    "\n",
    "# a. find age of student if the name of the student is Emma.\n",
    "# b. Emma passed the exam while Mike didn’t. write code to include that in the dictionary. (key can be “Passed” and the value can be True and False.)\n",
    "# c. a new student was enrolled into the class. their name is Aleena, aged 25 and is a female. they also passed the exam. add these details into the dictionary as well.\n",
    "# d. Write a code to output male to female sex ratio of the class."
   ]
  },
  {
   "cell_type": "code",
   "execution_count": 9,
   "id": "c0136d2c",
   "metadata": {},
   "outputs": [
    {
     "name": "stdout",
     "output_type": "stream",
     "text": [
      "Enter name of studentMike\n"
     ]
    }
   ],
   "source": [
    "user_input = input(\"Enter name of student\")"
   ]
  },
  {
   "cell_type": "code",
   "execution_count": 10,
   "id": "5f59be23",
   "metadata": {},
   "outputs": [
    {
     "name": "stdout",
     "output_type": "stream",
     "text": [
      "Mike age is 22\n"
     ]
    }
   ],
   "source": [
    "\n",
    "for key,inner_dict in student.items():\n",
    "#     print(key,\"-------->\",inner_dict)\n",
    "    if inner_dict['name']==user_input:\n",
    "        print(\"{} age is {}\".format(user_input,inner_dict['age']))"
   ]
  },
  {
   "cell_type": "code",
   "execution_count": 12,
   "id": "f93c1bec",
   "metadata": {},
   "outputs": [],
   "source": [
    "for key,inner_dict in student.items():\n",
    "    if inner_dict['name']=='Emma':\n",
    "        inner_dict['Passed']=True\n",
    "    elif inner_dict[\"name\"]==\"Mike\":\n",
    "        inner_dict[\"Passed\"]=False"
   ]
  },
  {
   "cell_type": "code",
   "execution_count": 13,
   "id": "9b887876",
   "metadata": {},
   "outputs": [
    {
     "data": {
      "text/plain": [
       "{1: {'name': 'Emma', 'age': '27', 'sex': 'Female', 'Passed': True},\n",
       " 2: {'name': 'Mike', 'age': '22', 'sex': 'Male', 'Passed': False}}"
      ]
     },
     "execution_count": 13,
     "metadata": {},
     "output_type": "execute_result"
    }
   ],
   "source": [
    "student"
   ]
  },
  {
   "cell_type": "code",
   "execution_count": 15,
   "id": "50c7df03",
   "metadata": {},
   "outputs": [],
   "source": [
    "student[3] ={'name': 'Aleena', 'age': '25', 'sex': 'Female', 'Passed': True}"
   ]
  },
  {
   "cell_type": "code",
   "execution_count": 16,
   "id": "58d8ac0d",
   "metadata": {},
   "outputs": [
    {
     "data": {
      "text/plain": [
       "{1: {'name': 'Emma', 'age': '27', 'sex': 'Female', 'Passed': True},\n",
       " 2: {'name': 'Mike', 'age': '22', 'sex': 'Male', 'Passed': False},\n",
       " 3: {'name': 'Aleena', 'age': '25', 'sex': 'Female', 'Passed': True}}"
      ]
     },
     "execution_count": 16,
     "metadata": {},
     "output_type": "execute_result"
    }
   ],
   "source": [
    "student"
   ]
  },
  {
   "cell_type": "code",
   "execution_count": 17,
   "id": "57b59ed6",
   "metadata": {},
   "outputs": [],
   "source": [
    "count_m = 0\n",
    "count_f = 0\n",
    "for key,inner_dict in student.items():\n",
    "    if inner_dict['sex']==\"Female\":\n",
    "        count_f+=1\n",
    "    else:\n",
    "        count_m+=1"
   ]
  },
  {
   "cell_type": "code",
   "execution_count": 18,
   "id": "6c080450",
   "metadata": {},
   "outputs": [],
   "source": [
    "## Q2\n",
    "sampleDict = { \n",
    "   \"class\":{ \n",
    "      \"student_1\":{ \n",
    "         \"name\":\"Mike\",\n",
    "         \"marks\":{ \n",
    "            \"physics\":70,\n",
    "            \"history\":80\n",
    "         }\n",
    "      },\n",
    "      \"student_2\":{ \n",
    "         \"name\":\"Bharat\",\n",
    "         \"marks\":{ \n",
    "            \"physics\":76,\n",
    "            \"history\":50,\n",
    "            \"chemistry\":98\n",
    "         }\n",
    "      }\n",
    "   }\n",
    "}"
   ]
  },
  {
   "cell_type": "code",
   "execution_count": 27,
   "id": "d32ca4c2",
   "metadata": {},
   "outputs": [
    {
     "name": "stdout",
     "output_type": "stream",
     "text": [
      "Mike 80\n",
      "Bharat 50\n"
     ]
    }
   ],
   "source": [
    "for key,value in sampleDict.items():\n",
    "    for inner_key,inner_value in value.items():\n",
    "        print(inner_value['name'],inner_value['marks']['history'])"
   ]
  },
  {
   "cell_type": "code",
   "execution_count": 45,
   "id": "d950b5cc",
   "metadata": {},
   "outputs": [
    {
     "name": "stdout",
     "output_type": "stream",
     "text": [
      "Mike -------> physics,history\n",
      "Bharat -------> physics,history,chemistry\n"
     ]
    }
   ],
   "source": [
    "for key,value in sampleDict.items():\n",
    "    for inner_key,inner_value in value.items():\n",
    "        print(inner_value['name'],\"------->\",\",\".join(inner_value['marks'].keys()))"
   ]
  },
  {
   "cell_type": "code",
   "execution_count": 29,
   "id": "6d1290fa",
   "metadata": {},
   "outputs": [],
   "source": [
    "temp_dict = {'physics': 70, 'history': 80}"
   ]
  },
  {
   "cell_type": "code",
   "execution_count": 33,
   "id": "11ddd945",
   "metadata": {},
   "outputs": [],
   "source": [
    "sample_sub_lst = list(temp_dict.keys())"
   ]
  },
  {
   "cell_type": "code",
   "execution_count": 34,
   "id": "89578b9a",
   "metadata": {},
   "outputs": [
    {
     "data": {
      "text/plain": [
       "['physics', 'history']"
      ]
     },
     "execution_count": 34,
     "metadata": {},
     "output_type": "execute_result"
    }
   ],
   "source": [
    "sample_sub_lst"
   ]
  },
  {
   "cell_type": "code",
   "execution_count": 44,
   "id": "a4668329",
   "metadata": {},
   "outputs": [
    {
     "data": {
      "text/plain": [
       "'physics,history'"
      ]
     },
     "execution_count": 44,
     "metadata": {},
     "output_type": "execute_result"
    }
   ],
   "source": [
    "\",\".join(temp_dict.keys())"
   ]
  },
  {
   "cell_type": "code",
   "execution_count": 43,
   "id": "bfaa88dc",
   "metadata": {},
   "outputs": [
    {
     "data": {
      "text/plain": [
       "dict_keys"
      ]
     },
     "execution_count": 43,
     "metadata": {},
     "output_type": "execute_result"
    }
   ],
   "source": [
    "temp_dict.keys()"
   ]
  },
  {
   "cell_type": "code",
   "execution_count": 51,
   "id": "84803b48",
   "metadata": {},
   "outputs": [
    {
     "name": "stdout",
     "output_type": "stream",
     "text": [
      "Mike ------------> dict_keys(['physics', 'history'])\n",
      "Bharat ------------> dict_keys(['physics', 'history', 'chemistry'])\n"
     ]
    }
   ],
   "source": [
    "for key,value in sampleDict.items():\n",
    "    for inner_key,inner_value in value.items():\n",
    "        print(inner_value['name'],\"------------>\",inner_value['marks'].keys())"
   ]
  },
  {
   "cell_type": "code",
   "execution_count": 52,
   "id": "46bdffc1",
   "metadata": {},
   "outputs": [],
   "source": [
    "import maths_operations"
   ]
  },
  {
   "cell_type": "code",
   "execution_count": 53,
   "id": "d2c63188",
   "metadata": {},
   "outputs": [
    {
     "data": {
      "text/plain": [
       "6"
      ]
     },
     "execution_count": 53,
     "metadata": {},
     "output_type": "execute_result"
    }
   ],
   "source": [
    "maths_operations.multiply(2,3)"
   ]
  },
  {
   "cell_type": "code",
   "execution_count": 55,
   "id": "419bd071",
   "metadata": {},
   "outputs": [
    {
     "data": {
      "text/plain": [
       "5"
      ]
     },
     "execution_count": 55,
     "metadata": {},
     "output_type": "execute_result"
    }
   ],
   "source": [
    "maths_operations.sum(2,3)"
   ]
  },
  {
   "cell_type": "code",
   "execution_count": 8,
   "id": "1c8a4a0c",
   "metadata": {},
   "outputs": [],
   "source": [
    "from maths_operations import subtract,multiply,divide,summation"
   ]
  },
  {
   "cell_type": "code",
   "execution_count": 5,
   "id": "831d1a12",
   "metadata": {},
   "outputs": [
    {
     "data": {
      "text/plain": [
       "5"
      ]
     },
     "execution_count": 5,
     "metadata": {},
     "output_type": "execute_result"
    }
   ],
   "source": [
    "summation(2,3)"
   ]
  },
  {
   "cell_type": "code",
   "execution_count": 6,
   "id": "6a310176",
   "metadata": {},
   "outputs": [
    {
     "data": {
      "text/plain": [
       "<function maths_operations.subtract(num1, num2)>"
      ]
     },
     "execution_count": 6,
     "metadata": {},
     "output_type": "execute_result"
    }
   ],
   "source": [
    "subtract"
   ]
  },
  {
   "cell_type": "code",
   "execution_count": 7,
   "id": "ec308f1c",
   "metadata": {},
   "outputs": [
    {
     "data": {
      "text/plain": [
       "<function maths_operations.multiply(num1, num2)>"
      ]
     },
     "execution_count": 7,
     "metadata": {},
     "output_type": "execute_result"
    }
   ],
   "source": [
    "multiply"
   ]
  },
  {
   "cell_type": "code",
   "execution_count": null,
   "id": "6e22528d",
   "metadata": {},
   "outputs": [],
   "source": []
  }
 ],
 "metadata": {
  "kernelspec": {
   "display_name": "Python 3 (ipykernel)",
   "language": "python",
   "name": "python3"
  },
  "language_info": {
   "codemirror_mode": {
    "name": "ipython",
    "version": 3
   },
   "file_extension": ".py",
   "mimetype": "text/x-python",
   "name": "python",
   "nbconvert_exporter": "python",
   "pygments_lexer": "ipython3",
   "version": "3.10.7"
  }
 },
 "nbformat": 4,
 "nbformat_minor": 5
}
