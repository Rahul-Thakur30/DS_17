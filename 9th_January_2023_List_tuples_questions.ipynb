{
 "cells": [
  {
   "cell_type": "markdown",
   "id": "80a48399",
   "metadata": {},
   "source": [
    "## Q1 Write a Python program to convert a tuple to a string\n"
   ]
  },
  {
   "cell_type": "code",
   "execution_count": 2,
   "id": "f6e8fd37",
   "metadata": {},
   "outputs": [],
   "source": [
    "sample_tuple = (\"Hi\",\"We\",\"Are\",\"Studying\",\"Python\")"
   ]
  },
  {
   "cell_type": "code",
   "execution_count": 3,
   "id": "ac7ea4fa",
   "metadata": {},
   "outputs": [
    {
     "data": {
      "text/plain": [
       "('Hi', 'We', 'Are', 'Studying', 'Python')"
      ]
     },
     "execution_count": 3,
     "metadata": {},
     "output_type": "execute_result"
    }
   ],
   "source": [
    "sample_tuple"
   ]
  },
  {
   "cell_type": "code",
   "execution_count": 6,
   "id": "0dc4f882",
   "metadata": {},
   "outputs": [],
   "source": [
    "## Method 1\n",
    "sample_str = \"\"\n",
    "for element in sample_tuple:\n",
    "    sample_str= sample_str+element+\" \""
   ]
  },
  {
   "cell_type": "code",
   "execution_count": 7,
   "id": "02863c86",
   "metadata": {},
   "outputs": [
    {
     "data": {
      "text/plain": [
       "'Hi We Are Studying Python '"
      ]
     },
     "execution_count": 7,
     "metadata": {},
     "output_type": "execute_result"
    }
   ],
   "source": [
    "sample_str"
   ]
  },
  {
   "cell_type": "code",
   "execution_count": 8,
   "id": "bfa40bfd",
   "metadata": {},
   "outputs": [
    {
     "data": {
      "text/plain": [
       "'Hi We Are Studying Python'"
      ]
     },
     "execution_count": 8,
     "metadata": {},
     "output_type": "execute_result"
    }
   ],
   "source": [
    "sample_str.strip()"
   ]
  },
  {
   "cell_type": "code",
   "execution_count": 9,
   "id": "14866992",
   "metadata": {},
   "outputs": [
    {
     "data": {
      "text/plain": [
       "'Hi We Are Studying Python'"
      ]
     },
     "execution_count": 9,
     "metadata": {},
     "output_type": "execute_result"
    }
   ],
   "source": [
    "### Method 2\n",
    "\" \".join(sample_tuple)"
   ]
  },
  {
   "cell_type": "code",
   "execution_count": 22,
   "id": "70cadd36",
   "metadata": {},
   "outputs": [],
   "source": [
    "## if we had data of various types\n",
    "sample_tuple = (\"Hi\",78,\"Are\",89.9,\"#\")"
   ]
  },
  {
   "cell_type": "code",
   "execution_count": 26,
   "id": "445c4a69",
   "metadata": {},
   "outputs": [],
   "source": [
    "sample_list_new = []\n",
    "for element in sample_tuple:\n",
    "#     print(element)\n",
    "    sample_list_new.append(str(element))"
   ]
  },
  {
   "cell_type": "code",
   "execution_count": 27,
   "id": "282351ef",
   "metadata": {},
   "outputs": [
    {
     "data": {
      "text/plain": [
       "['Hi', '78', 'Are', '89.9', '#']"
      ]
     },
     "execution_count": 27,
     "metadata": {},
     "output_type": "execute_result"
    }
   ],
   "source": [
    "sample_list_new"
   ]
  },
  {
   "cell_type": "code",
   "execution_count": 28,
   "id": "1c2433f3",
   "metadata": {},
   "outputs": [
    {
     "data": {
      "text/plain": [
       "'Hi 78 Are 89.9 #'"
      ]
     },
     "execution_count": 28,
     "metadata": {},
     "output_type": "execute_result"
    }
   ],
   "source": [
    "\" \".join(sample_list_new)"
   ]
  },
  {
   "cell_type": "code",
   "execution_count": 18,
   "id": "aebaaeb4",
   "metadata": {},
   "outputs": [
    {
     "data": {
      "text/plain": [
       "['Rahul', 'Prithvi', 'Priyanka']"
      ]
     },
     "execution_count": 18,
     "metadata": {},
     "output_type": "execute_result"
    }
   ],
   "source": [
    "[\"Rahul\",\"Prithvi\",\"Priyanka\"]"
   ]
  },
  {
   "cell_type": "code",
   "execution_count": 21,
   "id": "f73aaa07",
   "metadata": {},
   "outputs": [
    {
     "data": {
      "text/plain": [
       "'Rahul Prithvi 89'"
      ]
     },
     "execution_count": 21,
     "metadata": {},
     "output_type": "execute_result"
    }
   ],
   "source": [
    "\" \".join([\"Rahul\",\"Prithvi\",str(89)])"
   ]
  },
  {
   "cell_type": "markdown",
   "id": "e80d3e76",
   "metadata": {},
   "source": [
    "### Q2 Write a Python program to count the occurrence of specific object in list\n"
   ]
  },
  {
   "cell_type": "code",
   "execution_count": 32,
   "id": "de1638b3",
   "metadata": {},
   "outputs": [],
   "source": [
    "my_list = [1,2,3,5,6,3,5,7,1,1,2,57,1,13]"
   ]
  },
  {
   "cell_type": "code",
   "execution_count": 36,
   "id": "269df8d2",
   "metadata": {},
   "outputs": [],
   "source": [
    "specific_element = 3"
   ]
  },
  {
   "cell_type": "code",
   "execution_count": 37,
   "id": "687defc9",
   "metadata": {},
   "outputs": [],
   "source": [
    "counter = 0\n",
    "for num in my_list:\n",
    "    if num==specific_element:\n",
    "        counter+=1\n",
    "#         counter = counter+1\n",
    "    "
   ]
  },
  {
   "cell_type": "code",
   "execution_count": 38,
   "id": "67e6e746",
   "metadata": {},
   "outputs": [
    {
     "data": {
      "text/plain": [
       "2"
      ]
     },
     "execution_count": 38,
     "metadata": {},
     "output_type": "execute_result"
    }
   ],
   "source": [
    "counter"
   ]
  },
  {
   "cell_type": "code",
   "execution_count": 39,
   "id": "2a48ad7e",
   "metadata": {},
   "outputs": [
    {
     "data": {
      "text/plain": [
       "4"
      ]
     },
     "execution_count": 39,
     "metadata": {},
     "output_type": "execute_result"
    }
   ],
   "source": [
    "my_list.count(1)"
   ]
  },
  {
   "cell_type": "markdown",
   "id": "a8dcb224",
   "metadata": {},
   "source": [
    "### Create a new list with each element multiplied by two from the list [1,2,3,4,5,6]\n",
    "example output : [2,4,6,8,10,12]"
   ]
  },
  {
   "cell_type": "code",
   "execution_count": 41,
   "id": "d455bab2",
   "metadata": {},
   "outputs": [],
   "source": [
    "original_list = [1,2,3,4,5,6]"
   ]
  },
  {
   "cell_type": "code",
   "execution_count": 42,
   "id": "9c7264fc",
   "metadata": {},
   "outputs": [],
   "source": [
    "new_list = []\n",
    "for num in original_list:\n",
    "    new_list.append(2*num)"
   ]
  },
  {
   "cell_type": "code",
   "execution_count": 43,
   "id": "75cc7914",
   "metadata": {},
   "outputs": [
    {
     "data": {
      "text/plain": [
       "[2, 4, 6, 8, 10, 12]"
      ]
     },
     "execution_count": 43,
     "metadata": {},
     "output_type": "execute_result"
    }
   ],
   "source": [
    "new_list"
   ]
  },
  {
   "cell_type": "code",
   "execution_count": 44,
   "id": "cd2b5a4b",
   "metadata": {},
   "outputs": [
    {
     "data": {
      "text/plain": [
       "[2, 4, 6, 8, 10, 12]"
      ]
     },
     "execution_count": 44,
     "metadata": {},
     "output_type": "execute_result"
    }
   ],
   "source": [
    "[2*num for num in original_list]"
   ]
  },
  {
   "cell_type": "code",
   "execution_count": null,
   "id": "51cf5ea0",
   "metadata": {},
   "outputs": [],
   "source": [
    "[output for loop condition]"
   ]
  },
  {
   "cell_type": "code",
   "execution_count": 45,
   "id": "f3dcf6bb",
   "metadata": {},
   "outputs": [],
   "source": [
    "even_list = []\n",
    "for num in original_list:\n",
    "    if num%2==0:\n",
    "        even_list.append(num)"
   ]
  },
  {
   "cell_type": "code",
   "execution_count": 46,
   "id": "e9da6874",
   "metadata": {},
   "outputs": [
    {
     "data": {
      "text/plain": [
       "[2, 4, 6]"
      ]
     },
     "execution_count": 46,
     "metadata": {},
     "output_type": "execute_result"
    }
   ],
   "source": [
    "even_list"
   ]
  },
  {
   "cell_type": "code",
   "execution_count": 47,
   "id": "3387a45e",
   "metadata": {},
   "outputs": [
    {
     "data": {
      "text/plain": [
       "[2, 4, 6]"
      ]
     },
     "execution_count": 47,
     "metadata": {},
     "output_type": "execute_result"
    }
   ],
   "source": [
    "[num for num in original_list if num%2==0]"
   ]
  },
  {
   "cell_type": "code",
   "execution_count": 48,
   "id": "8cba814d",
   "metadata": {},
   "outputs": [],
   "source": [
    "import time"
   ]
  },
  {
   "cell_type": "code",
   "execution_count": 49,
   "id": "cd5702b4",
   "metadata": {},
   "outputs": [
    {
     "data": {
      "text/plain": [
       "1673275512.7193284"
      ]
     },
     "execution_count": 49,
     "metadata": {},
     "output_type": "execute_result"
    }
   ],
   "source": [
    "time.time()"
   ]
  },
  {
   "cell_type": "code",
   "execution_count": 54,
   "id": "9168f08c",
   "metadata": {},
   "outputs": [
    {
     "name": "stdout",
     "output_type": "stream",
     "text": [
      "Time taken for for loop: 1.1550405025482178\n"
     ]
    }
   ],
   "source": [
    "start_time = time.time()\n",
    "new_list = []\n",
    "for num in range(0,10000000):\n",
    "    new_list.append(num)\n",
    "end_time = time.time()\n",
    "print(\"Time taken for for loop:\",end_time-start_time)"
   ]
  },
  {
   "cell_type": "code",
   "execution_count": 55,
   "id": "bd5187a4",
   "metadata": {},
   "outputs": [
    {
     "name": "stdout",
     "output_type": "stream",
     "text": [
      "Time taken for list comprehension: 0.6500551700592041\n"
     ]
    }
   ],
   "source": [
    "start_time = time.time()\n",
    "[num for num in range(0,10000000)]\n",
    "end_time = time.time()\n",
    "print(\"Time taken for list comprehension:\",end_time-start_time)"
   ]
  },
  {
   "cell_type": "code",
   "execution_count": 56,
   "id": "966367ff",
   "metadata": {},
   "outputs": [
    {
     "data": {
      "text/plain": [
       "1.776834576122242"
      ]
     },
     "execution_count": 56,
     "metadata": {},
     "output_type": "execute_result"
    }
   ],
   "source": [
    "1.1550405025482178/0.6500551700592041\n"
   ]
  },
  {
   "cell_type": "code",
   "execution_count": 57,
   "id": "6191ba0c",
   "metadata": {},
   "outputs": [],
   "source": [
    "sample_string = \"Hi I am a student of Edyoda\"\n"
   ]
  },
  {
   "cell_type": "code",
   "execution_count": 58,
   "id": "350d8a5a",
   "metadata": {},
   "outputs": [],
   "source": [
    "even_word_list = []\n",
    "for word in sample_string.split():\n",
    "    if len(word)%2==0:\n",
    "        even_word_list.append(word)"
   ]
  },
  {
   "cell_type": "code",
   "execution_count": 59,
   "id": "62e89329",
   "metadata": {},
   "outputs": [
    {
     "data": {
      "text/plain": [
       "['Hi', 'am', 'of', 'Edyoda']"
      ]
     },
     "execution_count": 59,
     "metadata": {},
     "output_type": "execute_result"
    }
   ],
   "source": [
    "even_word_list"
   ]
  },
  {
   "cell_type": "code",
   "execution_count": 61,
   "id": "dc04409b",
   "metadata": {},
   "outputs": [],
   "source": [
    "even_word_list_comprehension = [word for word in sample_string.split()  if len(word)%2==0]"
   ]
  },
  {
   "cell_type": "code",
   "execution_count": 62,
   "id": "053c665c",
   "metadata": {},
   "outputs": [
    {
     "data": {
      "text/plain": [
       "['Hi', 'am', 'of', 'Edyoda']"
      ]
     },
     "execution_count": 62,
     "metadata": {},
     "output_type": "execute_result"
    }
   ],
   "source": [
    "even_word_list_comprehension"
   ]
  },
  {
   "cell_type": "code",
   "execution_count": 63,
   "id": "fc655863",
   "metadata": {},
   "outputs": [
    {
     "name": "stdout",
     "output_type": "stream",
     "text": [
      "[21, 42, 63, 84]\n"
     ]
    },
    {
     "data": {
      "text/plain": [
       "[21, 42, 63, 84]"
      ]
     },
     "execution_count": 63,
     "metadata": {},
     "output_type": "execute_result"
    }
   ],
   "source": [
    "##Maulik\n",
    "l1=[]\n",
    "for i in range(1,101):\n",
    "    if i%3==0 and i%7==0:\n",
    "        l1.append(i)\n",
    "print(l1)\n",
    "  \n",
    "[i for i in range(1,101) if i%3==0 and i%7==0]"
   ]
  },
  {
   "cell_type": "code",
   "execution_count": 64,
   "id": "3b4422b5",
   "metadata": {},
   "outputs": [],
   "source": [
    "## Soumya\n",
    "list_1=[]\n",
    "for i in range(1,101):\n",
    "    if i%3==0 and i%7==0:\n",
    "        list_1.append(i)"
   ]
  },
  {
   "cell_type": "code",
   "execution_count": 65,
   "id": "98b00498",
   "metadata": {},
   "outputs": [
    {
     "data": {
      "text/plain": [
       "[21, 42, 63, 84]"
      ]
     },
     "execution_count": 65,
     "metadata": {},
     "output_type": "execute_result"
    }
   ],
   "source": [
    "list_1"
   ]
  },
  {
   "cell_type": "code",
   "execution_count": 66,
   "id": "169d4bd8",
   "metadata": {},
   "outputs": [
    {
     "data": {
      "text/plain": [
       "[21, 42, 63, 84]"
      ]
     },
     "execution_count": 66,
     "metadata": {},
     "output_type": "execute_result"
    }
   ],
   "source": [
    "[i for i in range(1,101) if i%3==0 and i%7==0]"
   ]
  },
  {
   "cell_type": "code",
   "execution_count": 69,
   "id": "4a280089",
   "metadata": {},
   "outputs": [
    {
     "name": "stdout",
     "output_type": "stream",
     "text": [
      "[21, 42, 63, 84]\n"
     ]
    }
   ],
   "source": [
    "list1=[]\n",
    "for num in range(1,101):\n",
    "    if num%3==0 and num%7==0:\n",
    "        list1.append(num)\n",
    "print(list1)"
   ]
  },
  {
   "cell_type": "code",
   "execution_count": 70,
   "id": "ef60e257",
   "metadata": {},
   "outputs": [
    {
     "data": {
      "text/plain": [
       "[21, 42, 63, 84]"
      ]
     },
     "execution_count": 70,
     "metadata": {},
     "output_type": "execute_result"
    }
   ],
   "source": [
    "[num for num in range(1,101) if num%3==0 and num%7==0]"
   ]
  },
  {
   "cell_type": "code",
   "execution_count": 72,
   "id": "0b628555",
   "metadata": {},
   "outputs": [
    {
     "name": "stdout",
     "output_type": "stream",
     "text": [
      "[21, 42, 63, 84]\n"
     ]
    }
   ],
   "source": [
    "##Gaurav\n",
    "list_1 = []\n",
    "for i in range (1,101):\n",
    "    if i%3==0 and i%7==0:\n",
    "        list_1.append(i)\n",
    "print(list_1)"
   ]
  },
  {
   "cell_type": "code",
   "execution_count": 73,
   "id": "e2183a50",
   "metadata": {},
   "outputs": [
    {
     "data": {
      "text/plain": [
       "[21, 42, 63, 84]"
      ]
     },
     "execution_count": 73,
     "metadata": {},
     "output_type": "execute_result"
    }
   ],
   "source": [
    "list_1"
   ]
  },
  {
   "cell_type": "code",
   "execution_count": 74,
   "id": "633e8235",
   "metadata": {},
   "outputs": [],
   "source": [
    "list_1.remove(84)"
   ]
  },
  {
   "cell_type": "code",
   "execution_count": 75,
   "id": "b89d912e",
   "metadata": {},
   "outputs": [
    {
     "data": {
      "text/plain": [
       "[21, 42, 63]"
      ]
     },
     "execution_count": 75,
     "metadata": {},
     "output_type": "execute_result"
    }
   ],
   "source": [
    "list_1"
   ]
  },
  {
   "cell_type": "code",
   "execution_count": 76,
   "id": "fafbde48",
   "metadata": {},
   "outputs": [
    {
     "data": {
      "text/plain": [
       "63"
      ]
     },
     "execution_count": 76,
     "metadata": {},
     "output_type": "execute_result"
    }
   ],
   "source": [
    "list_1.pop()"
   ]
  },
  {
   "cell_type": "code",
   "execution_count": 77,
   "id": "709ab3c0",
   "metadata": {},
   "outputs": [
    {
     "data": {
      "text/plain": [
       "[21, 42]"
      ]
     },
     "execution_count": 77,
     "metadata": {},
     "output_type": "execute_result"
    }
   ],
   "source": [
    "list_1"
   ]
  },
  {
   "cell_type": "code",
   "execution_count": 79,
   "id": "8ec12686",
   "metadata": {},
   "outputs": [
    {
     "data": {
      "text/plain": [
       "21"
      ]
     },
     "execution_count": 79,
     "metadata": {},
     "output_type": "execute_result"
    }
   ],
   "source": [
    "list_1.pop(0)"
   ]
  },
  {
   "cell_type": "code",
   "execution_count": 80,
   "id": "9a905300",
   "metadata": {},
   "outputs": [
    {
     "data": {
      "text/plain": [
       "[42]"
      ]
     },
     "execution_count": 80,
     "metadata": {},
     "output_type": "execute_result"
    }
   ],
   "source": [
    "list_1"
   ]
  },
  {
   "cell_type": "code",
   "execution_count": 81,
   "id": "bd975fdf",
   "metadata": {},
   "outputs": [],
   "source": [
    "list1 = [\"Darshan\",\"Raman\",\"Prithvi\",\"Jafar\"]"
   ]
  },
  {
   "cell_type": "code",
   "execution_count": 82,
   "id": "3475e6bc",
   "metadata": {},
   "outputs": [
    {
     "data": {
      "text/plain": [
       "'Jafar'"
      ]
     },
     "execution_count": 82,
     "metadata": {},
     "output_type": "execute_result"
    }
   ],
   "source": [
    "list1.pop()"
   ]
  },
  {
   "cell_type": "code",
   "execution_count": 83,
   "id": "3e07498d",
   "metadata": {},
   "outputs": [
    {
     "data": {
      "text/plain": [
       "['Darshan', 'Raman', 'Prithvi']"
      ]
     },
     "execution_count": 83,
     "metadata": {},
     "output_type": "execute_result"
    }
   ],
   "source": [
    "list1"
   ]
  },
  {
   "cell_type": "code",
   "execution_count": 84,
   "id": "da8d011b",
   "metadata": {},
   "outputs": [
    {
     "data": {
      "text/plain": [
       "'Raman'"
      ]
     },
     "execution_count": 84,
     "metadata": {},
     "output_type": "execute_result"
    }
   ],
   "source": [
    "list1.pop(1)"
   ]
  },
  {
   "cell_type": "code",
   "execution_count": 85,
   "id": "b0a1fbcb",
   "metadata": {},
   "outputs": [
    {
     "data": {
      "text/plain": [
       "['Darshan', 'Prithvi']"
      ]
     },
     "execution_count": 85,
     "metadata": {},
     "output_type": "execute_result"
    }
   ],
   "source": [
    "list1"
   ]
  },
  {
   "cell_type": "code",
   "execution_count": 86,
   "id": "d8f37570",
   "metadata": {},
   "outputs": [],
   "source": [
    "list1 = [\"Darshan\",\"Raman\",\"Prithvi\",\"Jafar\"]"
   ]
  },
  {
   "cell_type": "code",
   "execution_count": 87,
   "id": "b0aff5e7",
   "metadata": {},
   "outputs": [],
   "source": [
    "list1.remove(\"Darshan\")"
   ]
  },
  {
   "cell_type": "code",
   "execution_count": 88,
   "id": "a5d01a15",
   "metadata": {},
   "outputs": [
    {
     "data": {
      "text/plain": [
       "['Raman', 'Prithvi', 'Jafar']"
      ]
     },
     "execution_count": 88,
     "metadata": {},
     "output_type": "execute_result"
    }
   ],
   "source": [
    "list1"
   ]
  },
  {
   "cell_type": "code",
   "execution_count": 90,
   "id": "7556a160",
   "metadata": {},
   "outputs": [],
   "source": [
    "list1 = [\"Darshan\",\"Raman\",\"Prithvi\",\"Jafar\",\"Prithvi\"]"
   ]
  },
  {
   "cell_type": "code",
   "execution_count": 91,
   "id": "33234838",
   "metadata": {},
   "outputs": [],
   "source": [
    "list1.remove(\"Prithvi\")"
   ]
  },
  {
   "cell_type": "code",
   "execution_count": 92,
   "id": "6d6afec8",
   "metadata": {},
   "outputs": [
    {
     "data": {
      "text/plain": [
       "['Darshan', 'Raman', 'Jafar', 'Prithvi']"
      ]
     },
     "execution_count": 92,
     "metadata": {},
     "output_type": "execute_result"
    }
   ],
   "source": [
    "list1"
   ]
  },
  {
   "cell_type": "code",
   "execution_count": 95,
   "id": "f4712077",
   "metadata": {},
   "outputs": [],
   "source": [
    "list1 = [\"Darshan\",\"Raman\",\"Prithvi\",\"Jafar\",\"Prithvi\"]"
   ]
  },
  {
   "cell_type": "code",
   "execution_count": 94,
   "id": "3abeb3d5",
   "metadata": {},
   "outputs": [
    {
     "data": {
      "text/plain": [
       "2"
      ]
     },
     "execution_count": 94,
     "metadata": {},
     "output_type": "execute_result"
    }
   ],
   "source": [
    "list1.index(\"Prithvi\")"
   ]
  },
  {
   "cell_type": "code",
   "execution_count": 98,
   "id": "361719f0",
   "metadata": {},
   "outputs": [],
   "source": [
    "list1.sort()"
   ]
  },
  {
   "cell_type": "code",
   "execution_count": 99,
   "id": "79b477bc",
   "metadata": {},
   "outputs": [
    {
     "data": {
      "text/plain": [
       "['Darshan', 'Jafar', 'Prithvi', 'Prithvi', 'Raman']"
      ]
     },
     "execution_count": 99,
     "metadata": {},
     "output_type": "execute_result"
    }
   ],
   "source": [
    "list1"
   ]
  },
  {
   "cell_type": "code",
   "execution_count": 96,
   "id": "357d54e9",
   "metadata": {},
   "outputs": [
    {
     "data": {
      "text/plain": [
       "['Darshan', 'Jafar', 'Prithvi', 'Prithvi', 'Raman']"
      ]
     },
     "execution_count": 96,
     "metadata": {},
     "output_type": "execute_result"
    }
   ],
   "source": [
    "sorted(list1)"
   ]
  },
  {
   "cell_type": "code",
   "execution_count": 97,
   "id": "9de7caaa",
   "metadata": {},
   "outputs": [
    {
     "data": {
      "text/plain": [
       "['Darshan', 'Raman', 'Prithvi', 'Jafar', 'Prithvi']"
      ]
     },
     "execution_count": 97,
     "metadata": {},
     "output_type": "execute_result"
    }
   ],
   "source": [
    "list1"
   ]
  },
  {
   "cell_type": "code",
   "execution_count": 103,
   "id": "b54556f6",
   "metadata": {},
   "outputs": [],
   "source": [
    "sample_str = \"  Hi my name is Prithvi\""
   ]
  },
  {
   "cell_type": "code",
   "execution_count": 104,
   "id": "f77a5eb1",
   "metadata": {},
   "outputs": [
    {
     "name": "stdout",
     "output_type": "stream",
     "text": [
      "  Hi my name is Prithvi\n"
     ]
    }
   ],
   "source": [
    "print(sample_str)"
   ]
  },
  {
   "cell_type": "code",
   "execution_count": 105,
   "id": "eaab3e2e",
   "metadata": {},
   "outputs": [
    {
     "name": "stdout",
     "output_type": "stream",
     "text": [
      "Hi my name is Prithvi\n"
     ]
    }
   ],
   "source": [
    "print(sample_str.lstrip())"
   ]
  },
  {
   "cell_type": "code",
   "execution_count": 108,
   "id": "1f34548b",
   "metadata": {},
   "outputs": [],
   "source": [
    "sample_str = \"Hi my name is Prithvi      \""
   ]
  },
  {
   "cell_type": "code",
   "execution_count": 109,
   "id": "252910bb",
   "metadata": {},
   "outputs": [
    {
     "name": "stdout",
     "output_type": "stream",
     "text": [
      "Hi my name is Prithvi      \n"
     ]
    }
   ],
   "source": [
    "print(sample_str)"
   ]
  },
  {
   "cell_type": "code",
   "execution_count": 110,
   "id": "42175e90",
   "metadata": {},
   "outputs": [
    {
     "name": "stdout",
     "output_type": "stream",
     "text": [
      "Hi my name is Prithvi\n"
     ]
    }
   ],
   "source": [
    "print(sample_str.rstrip())"
   ]
  },
  {
   "cell_type": "code",
   "execution_count": 111,
   "id": "3d6ea275",
   "metadata": {},
   "outputs": [],
   "source": [
    "sample_str = \"         Hi my name is Prithvi      \""
   ]
  },
  {
   "cell_type": "code",
   "execution_count": 112,
   "id": "3129cbd6",
   "metadata": {},
   "outputs": [
    {
     "name": "stdout",
     "output_type": "stream",
     "text": [
      "Hi my name is Prithvi\n"
     ]
    }
   ],
   "source": [
    "print(sample_str.strip())"
   ]
  },
  {
   "cell_type": "code",
   "execution_count": 113,
   "id": "5525af15",
   "metadata": {},
   "outputs": [
    {
     "name": "stdout",
     "output_type": "stream",
     "text": [
      "Help on method_descriptor:\n",
      "\n",
      "strip(self, chars=None, /)\n",
      "    Return a copy of the string with leading and trailing whitespace removed.\n",
      "    \n",
      "    If chars is given and not None, remove characters in chars instead.\n",
      "\n"
     ]
    }
   ],
   "source": [
    "help(str.strip)"
   ]
  },
  {
   "cell_type": "code",
   "execution_count": null,
   "id": "fe2922ba",
   "metadata": {},
   "outputs": [],
   "source": [
    "[(2, 5), (1, 2), (4, 4), (2, 3), (2, 1)]"
   ]
  },
  {
   "cell_type": "code",
   "execution_count": 114,
   "id": "b0871651",
   "metadata": {},
   "outputs": [
    {
     "name": "stdout",
     "output_type": "stream",
     "text": [
      "enter no tuple you want to enter and pls give space b/w two element and press enter  : 3\n",
      "2 5\n",
      "1 2\n",
      "4 4\n",
      "[(2, 5), (1, 2), (4, 4)]\n",
      "[(1, 2), (4, 4), (2, 5)]\n"
     ]
    }
   ],
   "source": [
    "t = list(tuple(map(int,input().split())) for r in range(int(input('enter no tuple you want to enter and pls give space b/w two element and press enter  : '))))  \n",
    "print(t) \n",
    "new_tuple= sorted(t,key=lambda x:x[1])\n",
    "print(new_tuple)"
   ]
  },
  {
   "cell_type": "code",
   "execution_count": 130,
   "id": "d0295e9e",
   "metadata": {},
   "outputs": [
    {
     "name": "stdout",
     "output_type": "stream",
     "text": [
      "no tuple you want to enter3\n",
      "Please enter 3 tuples\n",
      "2 5\n",
      "1 2\n",
      "4 4\n"
     ]
    }
   ],
   "source": [
    "num_of_tuple = int(input(\"no tuple you want to enter\"))\n",
    "list_of_tuples = []\n",
    "print(\"Please enter {} tuples\".format(num_of_tuple))\n",
    "for i in range(num_of_tuple):\n",
    "    tuple_tmp = tuple(map(int,input().split()))\n",
    "\n",
    "    list_of_tuples.append(tuple_tmp)"
   ]
  },
  {
   "cell_type": "code",
   "execution_count": 131,
   "id": "0daeabf2",
   "metadata": {},
   "outputs": [
    {
     "data": {
      "text/plain": [
       "[(2, 5), (1, 2), (4, 4)]"
      ]
     },
     "execution_count": 131,
     "metadata": {},
     "output_type": "execute_result"
    }
   ],
   "source": [
    "list_of_tuples"
   ]
  },
  {
   "cell_type": "code",
   "execution_count": 123,
   "id": "fa21d00a",
   "metadata": {},
   "outputs": [],
   "source": [
    "input_value = \"2 5\""
   ]
  },
  {
   "cell_type": "code",
   "execution_count": 124,
   "id": "c36ab57c",
   "metadata": {},
   "outputs": [
    {
     "data": {
      "text/plain": [
       "['2', '5']"
      ]
     },
     "execution_count": 124,
     "metadata": {},
     "output_type": "execute_result"
    }
   ],
   "source": [
    "input_value.split()"
   ]
  },
  {
   "cell_type": "code",
   "execution_count": 125,
   "id": "28ab4da9",
   "metadata": {},
   "outputs": [
    {
     "data": {
      "text/plain": [
       "(2, 5)"
      ]
     },
     "execution_count": 125,
     "metadata": {},
     "output_type": "execute_result"
    }
   ],
   "source": [
    "tuple(map(int,input_value.split()))"
   ]
  },
  {
   "cell_type": "code",
   "execution_count": null,
   "id": "7cc06a12",
   "metadata": {},
   "outputs": [],
   "source": []
  },
  {
   "cell_type": "code",
   "execution_count": 126,
   "id": "a56e82b2",
   "metadata": {},
   "outputs": [],
   "source": [
    "sample = [1,2,3,4,5,6]"
   ]
  },
  {
   "cell_type": "code",
   "execution_count": 127,
   "id": "17bc26bb",
   "metadata": {},
   "outputs": [],
   "source": [
    "def square(num):\n",
    "    return num*num"
   ]
  },
  {
   "cell_type": "code",
   "execution_count": 129,
   "id": "fe1b6ab8",
   "metadata": {},
   "outputs": [
    {
     "data": {
      "text/plain": [
       "[1, 4, 9, 16, 25, 36]"
      ]
     },
     "execution_count": 129,
     "metadata": {},
     "output_type": "execute_result"
    }
   ],
   "source": [
    "list(map(square,sample))"
   ]
  },
  {
   "cell_type": "code",
   "execution_count": null,
   "id": "69ef085c",
   "metadata": {},
   "outputs": [],
   "source": [
    "sample_list=[]\n",
    "while True:\n",
    "    tupple=input('Enter two numbers in the form of a,b:')\n",
    "    if tupple=='quit()':\n",
    "        break\n",
    "    a,b=tupple.split(',')\n",
    "    t=(int(a),int(b))\n",
    "    sample_list.append(t)\n",
    "print(sample_list)\n",
    "sample_list.sort(key=lambda x:x[1])\n",
    "print(sample_list)\n"
   ]
  }
 ],
 "metadata": {
  "kernelspec": {
   "display_name": "Python 3 (ipykernel)",
   "language": "python",
   "name": "python3"
  },
  "language_info": {
   "codemirror_mode": {
    "name": "ipython",
    "version": 3
   },
   "file_extension": ".py",
   "mimetype": "text/x-python",
   "name": "python",
   "nbconvert_exporter": "python",
   "pygments_lexer": "ipython3",
   "version": "3.10.7"
  }
 },
 "nbformat": 4,
 "nbformat_minor": 5
}
