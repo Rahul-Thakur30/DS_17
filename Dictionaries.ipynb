{
 "cells": [
  {
   "cell_type": "code",
   "execution_count": 1,
   "id": "5097a200",
   "metadata": {},
   "outputs": [],
   "source": [
    "## I want to store marks of students in Python Quiz with their name"
   ]
  },
  {
   "cell_type": "code",
   "execution_count": null,
   "id": "ac7c6f73",
   "metadata": {},
   "outputs": [],
   "source": [
    "## Prithvi,90\n",
    "   Priyanka,91\n",
    "    "
   ]
  },
  {
   "cell_type": "code",
   "execution_count": 7,
   "id": "4774584e",
   "metadata": {},
   "outputs": [],
   "source": [
    "## Approach 1\n",
    "student_marks_list = [(\"Prithvi\",90),(\"Priyanka\",91),(\"Jafar\",86),(\"Rahul\",54)]"
   ]
  },
  {
   "cell_type": "code",
   "execution_count": 11,
   "id": "7ce19ddb",
   "metadata": {},
   "outputs": [
    {
     "name": "stdout",
     "output_type": "stream",
     "text": [
      "Please Enter Name Jafar\n"
     ]
    }
   ],
   "source": [
    "## If I want to get marks of Jafar \n",
    "name = input(\"Please Enter Name \")\n"
   ]
  },
  {
   "cell_type": "code",
   "execution_count": 13,
   "id": "1744a10d",
   "metadata": {},
   "outputs": [
    {
     "name": "stdout",
     "output_type": "stream",
     "text": [
      "86\n"
     ]
    }
   ],
   "source": [
    "for i in range(0,len(student_marks_list)):\n",
    "    if student_marks_list[i][0]==name:\n",
    "        print(student_marks_list[i][1])\n",
    "        break\n",
    "    "
   ]
  },
  {
   "cell_type": "code",
   "execution_count": 15,
   "id": "cd8ea44a",
   "metadata": {},
   "outputs": [
    {
     "name": "stdout",
     "output_type": "stream",
     "text": [
      "86\n"
     ]
    }
   ],
   "source": [
    "for i in student_marks_list:\n",
    "    if i[0]==name:\n",
    "        print(i[1])"
   ]
  },
  {
   "cell_type": "code",
   "execution_count": 24,
   "id": "a8ff4646",
   "metadata": {},
   "outputs": [],
   "source": [
    "for student_name,student_marks in student_marks_list:\n",
    "    print(student_name,student_marks)\n",
    "    if student_name==name:\n",
    "        print(student_marks)\n",
    "        break"
   ]
  },
  {
   "cell_type": "code",
   "execution_count": 17,
   "id": "14cbb13f",
   "metadata": {},
   "outputs": [],
   "source": [
    "sample_tuple = (\"Raj\",\"raman\")"
   ]
  },
  {
   "cell_type": "code",
   "execution_count": 20,
   "id": "5c4b9be9",
   "metadata": {},
   "outputs": [],
   "source": [
    "first_name,last_name = (\"Raj\",\"raman\")"
   ]
  },
  {
   "cell_type": "code",
   "execution_count": 21,
   "id": "0c13f4d5",
   "metadata": {},
   "outputs": [
    {
     "data": {
      "text/plain": [
       "'Raj'"
      ]
     },
     "execution_count": 21,
     "metadata": {},
     "output_type": "execute_result"
    }
   ],
   "source": [
    "first_name"
   ]
  },
  {
   "cell_type": "code",
   "execution_count": 3,
   "id": "bb369b1b",
   "metadata": {},
   "outputs": [],
   "source": [
    "## Approach 2\n",
    "student_list = [\"Prithvi\",\"Priyanka\",\"Jafar\",\"Rahul\"]\n",
    "marks_list = [90,91,86,54]"
   ]
  },
  {
   "cell_type": "code",
   "execution_count": null,
   "id": "90935e19",
   "metadata": {},
   "outputs": [],
   "source": []
  },
  {
   "cell_type": "code",
   "execution_count": 4,
   "id": "d57cfeb6",
   "metadata": {},
   "outputs": [],
   "source": [
    "## Approach 3\n",
    "student_marks_tuple = ((\"Prithvi\",90),(\"Priyanka\",91),(\"Jafar\",86),(\"Rahul\",54))"
   ]
  },
  {
   "cell_type": "code",
   "execution_count": null,
   "id": "2cd477fc",
   "metadata": {},
   "outputs": [],
   "source": []
  },
  {
   "cell_type": "code",
   "execution_count": 5,
   "id": "64fbf911",
   "metadata": {},
   "outputs": [],
   "source": [
    "## Approach 4\n",
    "student_tuple = (\"Prithvi\",\"Priyanka\",\"Jafar\",\"Rahul\")\n",
    "marks_tuple = (90,91,86,54)"
   ]
  },
  {
   "cell_type": "code",
   "execution_count": null,
   "id": "9428466d",
   "metadata": {},
   "outputs": [],
   "source": []
  },
  {
   "cell_type": "code",
   "execution_count": 6,
   "id": "1e14721b",
   "metadata": {},
   "outputs": [],
   "source": [
    "## Approach 5\n",
    "prithivi = \"Prithvi\",90\n",
    "priyanka = \"Priyanka\",91"
   ]
  },
  {
   "cell_type": "code",
   "execution_count": null,
   "id": "b6fa22ab",
   "metadata": {},
   "outputs": [],
   "source": []
  },
  {
   "cell_type": "code",
   "execution_count": 48,
   "id": "b9e2bd35",
   "metadata": {},
   "outputs": [],
   "source": [
    "student_list = [\"Prithvi\",\"Priyanka\",\"Jafar\",\"Rahul\"]\n",
    "marks_list = [90,91,86,54]"
   ]
  },
  {
   "cell_type": "code",
   "execution_count": 25,
   "id": "769fef8c",
   "metadata": {},
   "outputs": [],
   "source": [
    "student_marks = {\"Prithvi\":90,\"Priyanka\":91,\"Jafar\":86,\"Rahul\":54}"
   ]
  },
  {
   "cell_type": "code",
   "execution_count": 26,
   "id": "e7414c41",
   "metadata": {},
   "outputs": [
    {
     "data": {
      "text/plain": [
       "86"
      ]
     },
     "execution_count": 26,
     "metadata": {},
     "output_type": "execute_result"
    }
   ],
   "source": [
    "student_marks[\"Jafar\"]"
   ]
  },
  {
   "cell_type": "code",
   "execution_count": 30,
   "id": "a79a8874",
   "metadata": {},
   "outputs": [],
   "source": [
    "student_marks = dict(zip(student_list,marks_list))"
   ]
  },
  {
   "cell_type": "code",
   "execution_count": 40,
   "id": "de35f573",
   "metadata": {},
   "outputs": [
    {
     "data": {
      "text/plain": [
       "{'Prithvi': 90, 'Priyanka': 91, 'Jafar': 86, 'Rahul': 54}"
      ]
     },
     "execution_count": 40,
     "metadata": {},
     "output_type": "execute_result"
    }
   ],
   "source": [
    "dict(zip(student_list,marks_list))"
   ]
  },
  {
   "cell_type": "code",
   "execution_count": 49,
   "id": "2a1b7e53",
   "metadata": {},
   "outputs": [
    {
     "data": {
      "text/plain": [
       "['Prithvi', 'Priyanka', 'Jafar', 'Rahul']"
      ]
     },
     "execution_count": 49,
     "metadata": {},
     "output_type": "execute_result"
    }
   ],
   "source": [
    "student_list"
   ]
  },
  {
   "cell_type": "code",
   "execution_count": 50,
   "id": "aa28280e",
   "metadata": {},
   "outputs": [
    {
     "data": {
      "text/plain": [
       "[90, 91, 86, 54]"
      ]
     },
     "execution_count": 50,
     "metadata": {},
     "output_type": "execute_result"
    }
   ],
   "source": [
    "marks_list"
   ]
  },
  {
   "cell_type": "code",
   "execution_count": 51,
   "id": "6c09494e",
   "metadata": {},
   "outputs": [
    {
     "name": "stdout",
     "output_type": "stream",
     "text": [
      "Prithvi -----> 90\n",
      "Priyanka -----> 91\n",
      "Jafar -----> 86\n",
      "Rahul -----> 54\n"
     ]
    }
   ],
   "source": [
    "student_marks = {}\n",
    "for i in range(0,len(student_list)):\n",
    "    student_name = student_list[i]\n",
    "    student_marks_val = marks_list[i]\n",
    "    print(student_name,\"----->\",student_marks_val)\n",
    "    student_marks[student_name]=student_marks_val"
   ]
  },
  {
   "cell_type": "code",
   "execution_count": 52,
   "id": "903fd772",
   "metadata": {},
   "outputs": [
    {
     "data": {
      "text/plain": [
       "{'Prithvi': 90, 'Priyanka': 91, 'Jafar': 86, 'Rahul': 54}"
      ]
     },
     "execution_count": 52,
     "metadata": {},
     "output_type": "execute_result"
    }
   ],
   "source": [
    "student_marks"
   ]
  },
  {
   "cell_type": "code",
   "execution_count": 53,
   "id": "7dd90925",
   "metadata": {},
   "outputs": [
    {
     "name": "stdout",
     "output_type": "stream",
     "text": [
      "Help on built-in function ord in module builtins:\n",
      "\n",
      "ord(c, /)\n",
      "    Return the Unicode code point for a one-character string.\n",
      "\n"
     ]
    }
   ],
   "source": [
    "help(ord)"
   ]
  },
  {
   "cell_type": "code",
   "execution_count": 57,
   "id": "3217dc7e",
   "metadata": {},
   "outputs": [
    {
     "data": {
      "text/plain": [
       "'a'"
      ]
     },
     "execution_count": 57,
     "metadata": {},
     "output_type": "execute_result"
    }
   ],
   "source": [
    "chr(ord(\"A\")+32)"
   ]
  },
  {
   "cell_type": "code",
   "execution_count": 59,
   "id": "c4f0d4e3",
   "metadata": {},
   "outputs": [
    {
     "data": {
      "text/plain": [
       "'B'"
      ]
     },
     "execution_count": 59,
     "metadata": {},
     "output_type": "execute_result"
    }
   ],
   "source": [
    "chr(ord('b')-32)"
   ]
  },
  {
   "cell_type": "code",
   "execution_count": null,
   "id": "7bf990ef",
   "metadata": {},
   "outputs": [],
   "source": []
  },
  {
   "cell_type": "code",
   "execution_count": 55,
   "id": "7655ef4a",
   "metadata": {},
   "outputs": [
    {
     "data": {
      "text/plain": [
       "'A'"
      ]
     },
     "execution_count": 55,
     "metadata": {},
     "output_type": "execute_result"
    }
   ],
   "source": [
    "chr(65)"
   ]
  },
  {
   "cell_type": "code",
   "execution_count": 60,
   "id": "874d3e58",
   "metadata": {},
   "outputs": [],
   "source": [
    "## dictionaries keys() and values()"
   ]
  },
  {
   "cell_type": "code",
   "execution_count": 61,
   "id": "e54b7f4a",
   "metadata": {},
   "outputs": [
    {
     "data": {
      "text/plain": [
       "{'Prithvi': 90, 'Priyanka': 91, 'Jafar': 86, 'Rahul': 54}"
      ]
     },
     "execution_count": 61,
     "metadata": {},
     "output_type": "execute_result"
    }
   ],
   "source": [
    "student_marks"
   ]
  },
  {
   "cell_type": "code",
   "execution_count": 62,
   "id": "e918c6ab",
   "metadata": {},
   "outputs": [
    {
     "data": {
      "text/plain": [
       "dict_keys(['Prithvi', 'Priyanka', 'Jafar', 'Rahul'])"
      ]
     },
     "execution_count": 62,
     "metadata": {},
     "output_type": "execute_result"
    }
   ],
   "source": [
    "student_marks.keys()"
   ]
  },
  {
   "cell_type": "code",
   "execution_count": 63,
   "id": "e7bf74f3",
   "metadata": {},
   "outputs": [
    {
     "data": {
      "text/plain": [
       "dict_values([90, 91, 86, 54])"
      ]
     },
     "execution_count": 63,
     "metadata": {},
     "output_type": "execute_result"
    }
   ],
   "source": [
    "student_marks.values()"
   ]
  },
  {
   "cell_type": "code",
   "execution_count": 64,
   "id": "58545944",
   "metadata": {},
   "outputs": [
    {
     "data": {
      "text/plain": [
       "dict_items([('Prithvi', 90), ('Priyanka', 91), ('Jafar', 86), ('Rahul', 54)])"
      ]
     },
     "execution_count": 64,
     "metadata": {},
     "output_type": "execute_result"
    }
   ],
   "source": [
    "student_marks.items()"
   ]
  },
  {
   "cell_type": "code",
   "execution_count": 65,
   "id": "06ce4a61",
   "metadata": {},
   "outputs": [
    {
     "data": {
      "text/plain": [
       "86"
      ]
     },
     "execution_count": 65,
     "metadata": {},
     "output_type": "execute_result"
    }
   ],
   "source": [
    "student_marks[\"Jafar\"]"
   ]
  },
  {
   "cell_type": "code",
   "execution_count": 66,
   "id": "b1c9c4dc",
   "metadata": {},
   "outputs": [
    {
     "ename": "KeyError",
     "evalue": "'Shekhar'",
     "output_type": "error",
     "traceback": [
      "\u001b[1;31m---------------------------------------------------------------------------\u001b[0m",
      "\u001b[1;31mKeyError\u001b[0m                                  Traceback (most recent call last)",
      "Input \u001b[1;32mIn [66]\u001b[0m, in \u001b[0;36m<cell line: 1>\u001b[1;34m()\u001b[0m\n\u001b[1;32m----> 1\u001b[0m \u001b[43mstudent_marks\u001b[49m\u001b[43m[\u001b[49m\u001b[38;5;124;43m\"\u001b[39;49m\u001b[38;5;124;43mShekhar\u001b[39;49m\u001b[38;5;124;43m\"\u001b[39;49m\u001b[43m]\u001b[49m\n",
      "\u001b[1;31mKeyError\u001b[0m: 'Shekhar'"
     ]
    }
   ],
   "source": [
    "student_marks[\"Shekhar\"]"
   ]
  },
  {
   "cell_type": "code",
   "execution_count": 73,
   "id": "76aafd59",
   "metadata": {},
   "outputs": [
    {
     "data": {
      "text/plain": [
       "86"
      ]
     },
     "execution_count": 73,
     "metadata": {},
     "output_type": "execute_result"
    }
   ],
   "source": [
    "student_marks.get(\"Jafar\",90)"
   ]
  },
  {
   "cell_type": "code",
   "execution_count": 72,
   "id": "cb20fbaa",
   "metadata": {},
   "outputs": [
    {
     "data": {
      "text/plain": [
       "90"
      ]
     },
     "execution_count": 72,
     "metadata": {},
     "output_type": "execute_result"
    }
   ],
   "source": [
    "student_marks.get(\"Shekhar\",90)"
   ]
  },
  {
   "cell_type": "code",
   "execution_count": 71,
   "id": "0e8bb6fe",
   "metadata": {},
   "outputs": [
    {
     "data": {
      "text/plain": [
       "{'Prithvi': 90, 'Priyanka': 91, 'Jafar': 86, 'Rahul': 54}"
      ]
     },
     "execution_count": 71,
     "metadata": {},
     "output_type": "execute_result"
    }
   ],
   "source": [
    "student_marks"
   ]
  },
  {
   "cell_type": "code",
   "execution_count": 74,
   "id": "f7ed1f30",
   "metadata": {},
   "outputs": [],
   "source": [
    "## Count occurences of all elements of a list\n",
    "sample_list = [1,2,3,4,51,2,3,4,5,1,23,90,23,6,7]"
   ]
  },
  {
   "cell_type": "code",
   "execution_count": 76,
   "id": "e3ea49ec",
   "metadata": {},
   "outputs": [],
   "source": [
    "count_dict= {}\n",
    "for num in sample_list:\n",
    "    if num in count_dict.keys():\n",
    "        count_dict[num]+=1\n",
    "    else:\n",
    "        count_dict[num]=1"
   ]
  },
  {
   "cell_type": "code",
   "execution_count": 77,
   "id": "fea39706",
   "metadata": {},
   "outputs": [
    {
     "data": {
      "text/plain": [
       "{1: 2, 2: 2, 3: 2, 4: 2, 51: 1, 5: 1, 23: 2, 90: 1, 6: 1, 7: 1}"
      ]
     },
     "execution_count": 77,
     "metadata": {},
     "output_type": "execute_result"
    }
   ],
   "source": [
    "count_dict"
   ]
  },
  {
   "cell_type": "code",
   "execution_count": 78,
   "id": "de2129a6",
   "metadata": {},
   "outputs": [
    {
     "data": {
      "text/plain": [
       "{'Prithvi': [34, 56, 78, 98, 67], 'Rahul': [12, 23, 34, 45, 65]}"
      ]
     },
     "execution_count": 78,
     "metadata": {},
     "output_type": "execute_result"
    }
   ],
   "source": [
    "{\"Prithvi\":[34,56,78,98,67],\"Rahul\":[12,23,34,45,65]}"
   ]
  },
  {
   "cell_type": "code",
   "execution_count": 79,
   "id": "fd1f8a79",
   "metadata": {},
   "outputs": [
    {
     "ename": "TypeError",
     "evalue": "unhashable type: 'list'",
     "output_type": "error",
     "traceback": [
      "\u001b[1;31m---------------------------------------------------------------------------\u001b[0m",
      "\u001b[1;31mTypeError\u001b[0m                                 Traceback (most recent call last)",
      "Input \u001b[1;32mIn [79]\u001b[0m, in \u001b[0;36m<cell line: 1>\u001b[1;34m()\u001b[0m\n\u001b[1;32m----> 1\u001b[0m {[\u001b[38;5;241m34\u001b[39m,\u001b[38;5;241m56\u001b[39m,\u001b[38;5;241m78\u001b[39m,\u001b[38;5;241m98\u001b[39m,\u001b[38;5;241m67\u001b[39m]:\u001b[38;5;124m\"\u001b[39m\u001b[38;5;124mPrithvi\u001b[39m\u001b[38;5;124m\"\u001b[39m,[\u001b[38;5;241m12\u001b[39m,\u001b[38;5;241m23\u001b[39m,\u001b[38;5;241m34\u001b[39m,\u001b[38;5;241m45\u001b[39m,\u001b[38;5;241m65\u001b[39m]:\u001b[38;5;124m\"\u001b[39m\u001b[38;5;124mRahul\u001b[39m\u001b[38;5;124m\"\u001b[39m}\n",
      "\u001b[1;31mTypeError\u001b[0m: unhashable type: 'list'"
     ]
    }
   ],
   "source": [
    "{[34,56,78,98,67]:\"Prithvi\",[12,23,34,45,65]:\"Rahul\"}"
   ]
  },
  {
   "cell_type": "markdown",
   "id": "d94e4542",
   "metadata": {},
   "source": [
    "## Important points about dictionaries\n",
    "\n",
    "- In dictionaries keys should be of immutable data types \n",
    "- Ordering does not matter in dictionaries\n",
    "- In dictionaries duplicate keys are not possible"
   ]
  },
  {
   "cell_type": "code",
   "execution_count": 87,
   "id": "5b3b7dbc",
   "metadata": {},
   "outputs": [],
   "source": [
    "sample = {\"Prithvi\":90,\"Prithvi\":91}"
   ]
  },
  {
   "cell_type": "code",
   "execution_count": 89,
   "id": "67b07bc5",
   "metadata": {},
   "outputs": [],
   "source": [
    "sample[\"Rahul\"] = 90"
   ]
  },
  {
   "cell_type": "code",
   "execution_count": 90,
   "id": "6e1cbb93",
   "metadata": {},
   "outputs": [
    {
     "data": {
      "text/plain": [
       "{'Prithvi': 91, 'Rahul': 90}"
      ]
     },
     "execution_count": 90,
     "metadata": {},
     "output_type": "execute_result"
    }
   ],
   "source": [
    "sample"
   ]
  },
  {
   "cell_type": "code",
   "execution_count": 91,
   "id": "83edaf37",
   "metadata": {},
   "outputs": [],
   "source": [
    "dict_1 = {\"Prithvi\":90,\"Rahul\":98}\n",
    "dict_2 = {\"Rahul\":98,\"Prithvi\":90}"
   ]
  },
  {
   "cell_type": "code",
   "execution_count": 95,
   "id": "645123e4",
   "metadata": {},
   "outputs": [
    {
     "data": {
      "text/plain": [
       "True"
      ]
     },
     "execution_count": 95,
     "metadata": {},
     "output_type": "execute_result"
    }
   ],
   "source": [
    "dict_1 == dict_2"
   ]
  },
  {
   "cell_type": "code",
   "execution_count": null,
   "id": "81128308",
   "metadata": {},
   "outputs": [],
   "source": []
  },
  {
   "cell_type": "code",
   "execution_count": 96,
   "id": "76279246",
   "metadata": {},
   "outputs": [
    {
     "data": {
      "text/plain": [
       "False"
      ]
     },
     "execution_count": 96,
     "metadata": {},
     "output_type": "execute_result"
    }
   ],
   "source": [
    "[1,2,3] ==[2,1,3]"
   ]
  },
  {
   "cell_type": "code",
   "execution_count": null,
   "id": "3e750c46",
   "metadata": {},
   "outputs": [],
   "source": []
  }
 ],
 "metadata": {
  "kernelspec": {
   "display_name": "Python 3 (ipykernel)",
   "language": "python",
   "name": "python3"
  },
  "language_info": {
   "codemirror_mode": {
    "name": "ipython",
    "version": 3
   },
   "file_extension": ".py",
   "mimetype": "text/x-python",
   "name": "python",
   "nbconvert_exporter": "python",
   "pygments_lexer": "ipython3",
   "version": "3.10.7"
  }
 },
 "nbformat": 4,
 "nbformat_minor": 5
}
