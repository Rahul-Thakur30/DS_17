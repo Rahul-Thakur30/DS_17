{
 "cells": [
  {
   "cell_type": "code",
   "execution_count": null,
   "id": "53c3a99f",
   "metadata": {},
   "outputs": [],
   "source": []
  },
  {
   "cell_type": "code",
   "execution_count": 43,
   "id": "34034db6",
   "metadata": {},
   "outputs": [],
   "source": [
    "student_1 = \"Priyanka\"\n",
    "student_2 = \"Arun\""
   ]
  },
  {
   "cell_type": "code",
   "execution_count": 44,
   "id": "0325ec07",
   "metadata": {},
   "outputs": [
    {
     "name": "stdout",
     "output_type": "stream",
     "text": [
      "Priyanka\n"
     ]
    }
   ],
   "source": [
    "print(student_1)"
   ]
  },
  {
   "cell_type": "code",
   "execution_count": 4,
   "id": "e3898fcd",
   "metadata": {},
   "outputs": [],
   "source": [
    "_student = \"Priyanka\""
   ]
  },
  {
   "cell_type": "code",
   "execution_count": 5,
   "id": "bab17642",
   "metadata": {},
   "outputs": [
    {
     "data": {
      "text/plain": [
       "'Priyanka'"
      ]
     },
     "execution_count": 5,
     "metadata": {},
     "output_type": "execute_result"
    }
   ],
   "source": [
    "_student"
   ]
  },
  {
   "cell_type": "code",
   "execution_count": 7,
   "id": "8dea967a",
   "metadata": {},
   "outputs": [
    {
     "ename": "SyntaxError",
     "evalue": "invalid syntax (2864158196.py, line 1)",
     "output_type": "error",
     "traceback": [
      "\u001b[1;36m  Input \u001b[1;32mIn [7]\u001b[1;36m\u001b[0m\n\u001b[1;33m    st$udent = \"Priyanka\"\u001b[0m\n\u001b[1;37m      ^\u001b[0m\n\u001b[1;31mSyntaxError\u001b[0m\u001b[1;31m:\u001b[0m invalid syntax\n"
     ]
    }
   ],
   "source": [
    "student = \"Priyanka\""
   ]
  },
  {
   "cell_type": "code",
   "execution_count": 11,
   "id": "50ec64c3",
   "metadata": {},
   "outputs": [],
   "source": [
    "student = \"Priyanka\"\n",
    "Student = \"Priyanka\""
   ]
  },
  {
   "cell_type": "code",
   "execution_count": 12,
   "id": "6aae367c",
   "metadata": {},
   "outputs": [
    {
     "data": {
      "text/plain": [
       "str"
      ]
     },
     "execution_count": 12,
     "metadata": {},
     "output_type": "execute_result"
    }
   ],
   "source": [
    "type(student)"
   ]
  },
  {
   "cell_type": "code",
   "execution_count": 13,
   "id": "83602cf1",
   "metadata": {},
   "outputs": [
    {
     "data": {
      "text/plain": [
       "int"
      ]
     },
     "execution_count": 13,
     "metadata": {},
     "output_type": "execute_result"
    }
   ],
   "source": [
    "age = 25\n",
    "type(age)"
   ]
  },
  {
   "cell_type": "code",
   "execution_count": 14,
   "id": "ffe7d79e",
   "metadata": {},
   "outputs": [
    {
     "data": {
      "text/plain": [
       "str"
      ]
     },
     "execution_count": 14,
     "metadata": {},
     "output_type": "execute_result"
    }
   ],
   "source": [
    "type(\"Priyanka\")"
   ]
  },
  {
   "cell_type": "code",
   "execution_count": 15,
   "id": "d07be654",
   "metadata": {},
   "outputs": [
    {
     "data": {
      "text/plain": [
       "list"
      ]
     },
     "execution_count": 15,
     "metadata": {},
     "output_type": "execute_result"
    }
   ],
   "source": [
    "type([1,2,3,4,5])"
   ]
  },
  {
   "cell_type": "code",
   "execution_count": 16,
   "id": "848056a4",
   "metadata": {},
   "outputs": [
    {
     "data": {
      "text/plain": [
       "2286649739344"
      ]
     },
     "execution_count": 16,
     "metadata": {},
     "output_type": "execute_result"
    }
   ],
   "source": [
    "id(60)"
   ]
  },
  {
   "cell_type": "code",
   "execution_count": 17,
   "id": "b2534c5e",
   "metadata": {},
   "outputs": [
    {
     "data": {
      "text/plain": [
       "2286649739664"
      ]
     },
     "execution_count": 17,
     "metadata": {},
     "output_type": "execute_result"
    }
   ],
   "source": [
    "id(70)"
   ]
  },
  {
   "cell_type": "code",
   "execution_count": 30,
   "id": "6aa4a0ec",
   "metadata": {},
   "outputs": [],
   "source": [
    "priyanka_subjects = [\"python\",\"machine learning\"]"
   ]
  },
  {
   "cell_type": "code",
   "execution_count": 34,
   "id": "153215f0",
   "metadata": {},
   "outputs": [
    {
     "data": {
      "text/plain": [
       "2286736892800"
      ]
     },
     "execution_count": 34,
     "metadata": {},
     "output_type": "execute_result"
    }
   ],
   "source": [
    "id(priyanka_subjects)"
   ]
  },
  {
   "cell_type": "code",
   "execution_count": 35,
   "id": "8c36350d",
   "metadata": {},
   "outputs": [],
   "source": [
    "priyanka_subjects[0]=\"java\""
   ]
  },
  {
   "cell_type": "code",
   "execution_count": 36,
   "id": "dd078b64",
   "metadata": {},
   "outputs": [
    {
     "data": {
      "text/plain": [
       "['java', 'machine learning']"
      ]
     },
     "execution_count": 36,
     "metadata": {},
     "output_type": "execute_result"
    }
   ],
   "source": [
    "priyanka_subjects"
   ]
  },
  {
   "cell_type": "code",
   "execution_count": 33,
   "id": "be2cce43",
   "metadata": {},
   "outputs": [
    {
     "data": {
      "text/plain": [
       "'machine learning'"
      ]
     },
     "execution_count": 33,
     "metadata": {},
     "output_type": "execute_result"
    }
   ],
   "source": [
    "priyanka_subjects[1]"
   ]
  },
  {
   "cell_type": "code",
   "execution_count": 37,
   "id": "e92ff4a2",
   "metadata": {},
   "outputs": [
    {
     "data": {
      "text/plain": [
       "2286736892800"
      ]
     },
     "execution_count": 37,
     "metadata": {},
     "output_type": "execute_result"
    }
   ],
   "source": [
    "id(priyanka_subjects)"
   ]
  },
  {
   "cell_type": "code",
   "execution_count": 25,
   "id": "f38c3dd8",
   "metadata": {},
   "outputs": [],
   "source": [
    "priyanka_subjects = \"machine learning\""
   ]
  },
  {
   "cell_type": "code",
   "execution_count": 26,
   "id": "85a4ad44",
   "metadata": {},
   "outputs": [
    {
     "data": {
      "text/plain": [
       "2286747771056"
      ]
     },
     "execution_count": 26,
     "metadata": {},
     "output_type": "execute_result"
    }
   ],
   "source": [
    "id(priyanka_subject)"
   ]
  },
  {
   "cell_type": "code",
   "execution_count": 38,
   "id": "1493cfc4",
   "metadata": {},
   "outputs": [],
   "source": [
    "marks1 = 40\n",
    "marks2 = 30"
   ]
  },
  {
   "cell_type": "code",
   "execution_count": 39,
   "id": "1f2f7f8b",
   "metadata": {},
   "outputs": [
    {
     "name": "stdout",
     "output_type": "stream",
     "text": [
      "70\n"
     ]
    }
   ],
   "source": [
    "print(marks1+marks2)"
   ]
  },
  {
   "cell_type": "code",
   "execution_count": 40,
   "id": "f65d9d7a",
   "metadata": {},
   "outputs": [
    {
     "name": "stdout",
     "output_type": "stream",
     "text": [
      "10\n"
     ]
    }
   ],
   "source": [
    "print(marks1-marks2)"
   ]
  },
  {
   "cell_type": "code",
   "execution_count": 41,
   "id": "9c3e0d3b",
   "metadata": {},
   "outputs": [
    {
     "name": "stdout",
     "output_type": "stream",
     "text": [
      "1200\n"
     ]
    }
   ],
   "source": [
    "print(marks1*marks2)"
   ]
  },
  {
   "cell_type": "code",
   "execution_count": 42,
   "id": "473ad364",
   "metadata": {},
   "outputs": [
    {
     "name": "stdout",
     "output_type": "stream",
     "text": [
      "1.3333333333333333\n"
     ]
    }
   ],
   "source": [
    "print(marks1/marks2)"
   ]
  },
  {
   "cell_type": "code",
   "execution_count": 14,
   "id": "1de1d5ab",
   "metadata": {},
   "outputs": [],
   "source": [
    "age_1 = 27\n",
    "age_2 = 35.5\n",
    "age_total = age_1+age_2"
   ]
  },
  {
   "cell_type": "code",
   "execution_count": 15,
   "id": "672553ad",
   "metadata": {},
   "outputs": [
    {
     "name": "stdout",
     "output_type": "stream",
     "text": [
      "62.5 27 35.5\n"
     ]
    }
   ],
   "source": [
    "print(age_total,age_1,age_2)"
   ]
  },
  {
   "cell_type": "code",
   "execution_count": 16,
   "id": "e88d3948",
   "metadata": {},
   "outputs": [
    {
     "name": "stdout",
     "output_type": "stream",
     "text": [
      "<class 'float'> <class 'int'> <class 'float'>\n"
     ]
    }
   ],
   "source": [
    "print(type(age_total),type(age_1),type(age_2))"
   ]
  },
  {
   "cell_type": "code",
   "execution_count": 18,
   "id": "59ef122b",
   "metadata": {},
   "outputs": [],
   "source": [
    "age_1 = \"27\"\n",
    "age_2 = 35.5\n",
    "age_total = float(age_1) + age_2"
   ]
  },
  {
   "cell_type": "code",
   "execution_count": 12,
   "id": "af2bfc81",
   "metadata": {},
   "outputs": [
    {
     "name": "stdout",
     "output_type": "stream",
     "text": [
      "62.5 27 35.5\n"
     ]
    }
   ],
   "source": [
    "print(age_total,age_1,age_2)"
   ]
  },
  {
   "cell_type": "code",
   "execution_count": 13,
   "id": "2705e23d",
   "metadata": {},
   "outputs": [
    {
     "name": "stdout",
     "output_type": "stream",
     "text": [
      "<class 'float'> <class 'str'> <class 'float'>\n"
     ]
    }
   ],
   "source": [
    "print(type(age_total),type(age_1),type(age_2))"
   ]
  },
  {
   "cell_type": "code",
   "execution_count": 19,
   "id": "fdbb530f",
   "metadata": {},
   "outputs": [],
   "source": [
    "var1 = \"two\"\n",
    "var2 =3 "
   ]
  },
  {
   "cell_type": "code",
   "execution_count": 21,
   "id": "dcc1b958",
   "metadata": {},
   "outputs": [
    {
     "data": {
      "text/plain": [
       "'twotwotwo'"
      ]
     },
     "execution_count": 21,
     "metadata": {},
     "output_type": "execute_result"
    }
   ],
   "source": [
    "var1*var2"
   ]
  },
  {
   "cell_type": "code",
   "execution_count": 22,
   "id": "e157a954",
   "metadata": {},
   "outputs": [
    {
     "data": {
      "text/plain": [
       "'two3'"
      ]
     },
     "execution_count": 22,
     "metadata": {},
     "output_type": "execute_result"
    }
   ],
   "source": [
    "var1+str(var2)"
   ]
  },
  {
   "cell_type": "code",
   "execution_count": 1,
   "id": "08b33043",
   "metadata": {},
   "outputs": [
    {
     "data": {
      "text/plain": [
       "'Priyanka Das'"
      ]
     },
     "execution_count": 1,
     "metadata": {},
     "output_type": "execute_result"
    }
   ],
   "source": [
    "\"Priyanka\"+\" \"+\"Das\""
   ]
  },
  {
   "cell_type": "code",
   "execution_count": 4,
   "id": "6d1346ff",
   "metadata": {},
   "outputs": [],
   "source": [
    "str1 = \"Priyanka Das\""
   ]
  },
  {
   "cell_type": "code",
   "execution_count": 5,
   "id": "5845d6e3",
   "metadata": {},
   "outputs": [],
   "source": [
    "str2 = 'Priyanka Das'"
   ]
  },
  {
   "cell_type": "code",
   "execution_count": 6,
   "id": "be5499d8",
   "metadata": {},
   "outputs": [],
   "source": [
    "str3 = '''Priyanka Das'''"
   ]
  },
  {
   "cell_type": "code",
   "execution_count": 7,
   "id": "816643b3",
   "metadata": {},
   "outputs": [],
   "source": [
    "str4 = \"\"\"Priyanka Das\"\"\""
   ]
  },
  {
   "cell_type": "code",
   "execution_count": 8,
   "id": "f53ff7a1",
   "metadata": {},
   "outputs": [
    {
     "name": "stdout",
     "output_type": "stream",
     "text": [
      "<class 'str'> <class 'str'> <class 'str'> <class 'str'>\n"
     ]
    }
   ],
   "source": [
    "print(type(str1),type(str2),type(str3),type(str4))"
   ]
  },
  {
   "cell_type": "code",
   "execution_count": 10,
   "id": "51e8ffb2",
   "metadata": {},
   "outputs": [],
   "source": [
    "para = \"Hi, he's is a good programmer\""
   ]
  },
  {
   "cell_type": "code",
   "execution_count": 12,
   "id": "4110933b",
   "metadata": {},
   "outputs": [
    {
     "name": "stdout",
     "output_type": "stream",
     "text": [
      "Hi, he's is a good programmer\n"
     ]
    }
   ],
   "source": [
    "print(para)"
   ]
  },
  {
   "cell_type": "code",
   "execution_count": 14,
   "id": "6b5a3d30",
   "metadata": {},
   "outputs": [],
   "source": [
    "student_1 = \"Priyanka\"\n",
    "student_2 = \"Rohan\"\n",
    "student_3 = \"ANkita\"\n"
   ]
  },
  {
   "cell_type": "code",
   "execution_count": 19,
   "id": "d6f8dbf8",
   "metadata": {},
   "outputs": [],
   "source": [
    "students = [\"Priyanka\",\"Rohan\",\"Ankita\",45]"
   ]
  },
  {
   "cell_type": "code",
   "execution_count": 20,
   "id": "ea703798",
   "metadata": {},
   "outputs": [
    {
     "data": {
      "text/plain": [
       "'Priyanka'"
      ]
     },
     "execution_count": 20,
     "metadata": {},
     "output_type": "execute_result"
    }
   ],
   "source": [
    "students[0]"
   ]
  },
  {
   "cell_type": "code",
   "execution_count": 21,
   "id": "52fd9ed3",
   "metadata": {},
   "outputs": [
    {
     "data": {
      "text/plain": [
       "'Rohan'"
      ]
     },
     "execution_count": 21,
     "metadata": {},
     "output_type": "execute_result"
    }
   ],
   "source": [
    "students[1]"
   ]
  },
  {
   "cell_type": "code",
   "execution_count": 22,
   "id": "f750b157",
   "metadata": {},
   "outputs": [
    {
     "data": {
      "text/plain": [
       "'Ankita'"
      ]
     },
     "execution_count": 22,
     "metadata": {},
     "output_type": "execute_result"
    }
   ],
   "source": [
    "students[2]"
   ]
  },
  {
   "cell_type": "code",
   "execution_count": 25,
   "id": "63c874e5",
   "metadata": {},
   "outputs": [
    {
     "data": {
      "text/plain": [
       "45"
      ]
     },
     "execution_count": 25,
     "metadata": {},
     "output_type": "execute_result"
    }
   ],
   "source": [
    "students[3]"
   ]
  },
  {
   "cell_type": "code",
   "execution_count": 26,
   "id": "1d96d501",
   "metadata": {},
   "outputs": [
    {
     "data": {
      "text/plain": [
       "list"
      ]
     },
     "execution_count": 26,
     "metadata": {},
     "output_type": "execute_result"
    }
   ],
   "source": [
    "type(students)"
   ]
  },
  {
   "cell_type": "code",
   "execution_count": 27,
   "id": "0cff2ae3",
   "metadata": {},
   "outputs": [
    {
     "data": {
      "text/plain": [
       "int"
      ]
     },
     "execution_count": 27,
     "metadata": {},
     "output_type": "execute_result"
    }
   ],
   "source": [
    "type(students[3])"
   ]
  },
  {
   "cell_type": "code",
   "execution_count": 28,
   "id": "ef341e67",
   "metadata": {},
   "outputs": [],
   "source": [
    "## tuples\n"
   ]
  },
  {
   "cell_type": "code",
   "execution_count": 46,
   "id": "32c9a212",
   "metadata": {},
   "outputs": [],
   "source": [
    "sample_tuple = (\"Priyanka\",\"Ankita\",5,)"
   ]
  },
  {
   "cell_type": "code",
   "execution_count": 48,
   "id": "f5122a8b",
   "metadata": {},
   "outputs": [],
   "source": [
    "sample_list = [\"Priyanka\",\"Ankita\",[\"Rahul\",\"Rajat\"]]"
   ]
  },
  {
   "cell_type": "code",
   "execution_count": 40,
   "id": "2ad10be3",
   "metadata": {},
   "outputs": [],
   "source": [
    "sample_list[0]=\"Rohan\""
   ]
  },
  {
   "cell_type": "code",
   "execution_count": 41,
   "id": "9fc563a1",
   "metadata": {},
   "outputs": [
    {
     "data": {
      "text/plain": [
       "['Rohan', 'Ankita']"
      ]
     },
     "execution_count": 41,
     "metadata": {},
     "output_type": "execute_result"
    }
   ],
   "source": [
    "sample_list"
   ]
  },
  {
   "cell_type": "code",
   "execution_count": 45,
   "id": "3ff417d4",
   "metadata": {},
   "outputs": [
    {
     "ename": "TypeError",
     "evalue": "'tuple' object does not support item assignment",
     "output_type": "error",
     "traceback": [
      "\u001b[1;31m---------------------------------------------------------------------------\u001b[0m",
      "\u001b[1;31mTypeError\u001b[0m                                 Traceback (most recent call last)",
      "Input \u001b[1;32mIn [45]\u001b[0m, in \u001b[0;36m<cell line: 1>\u001b[1;34m()\u001b[0m\n\u001b[1;32m----> 1\u001b[0m \u001b[43msample_tuple\u001b[49m\u001b[43m[\u001b[49m\u001b[38;5;241;43m0\u001b[39;49m\u001b[43m]\u001b[49m\u001b[38;5;241m=\u001b[39m\u001b[38;5;124m\"\u001b[39m\u001b[38;5;124mRohan\u001b[39m\u001b[38;5;124m\"\u001b[39m\n",
      "\u001b[1;31mTypeError\u001b[0m: 'tuple' object does not support item assignment"
     ]
    }
   ],
   "source": [
    "sample_tuple[0]=\"Rohan\""
   ]
  },
  {
   "cell_type": "code",
   "execution_count": 49,
   "id": "e2d26781",
   "metadata": {},
   "outputs": [],
   "source": [
    "sample_tuple = (\"Priyanka\",\"Ankita\",5,[2,3])"
   ]
  },
  {
   "cell_type": "code",
   "execution_count": 50,
   "id": "812a1882",
   "metadata": {},
   "outputs": [
    {
     "data": {
      "text/plain": [
       "[2, 3]"
      ]
     },
     "execution_count": 50,
     "metadata": {},
     "output_type": "execute_result"
    }
   ],
   "source": [
    "sample_tuple[3]"
   ]
  },
  {
   "cell_type": "code",
   "execution_count": 51,
   "id": "e228dae2",
   "metadata": {},
   "outputs": [],
   "source": [
    "x =[2,3]"
   ]
  },
  {
   "cell_type": "code",
   "execution_count": 52,
   "id": "a0ef84b5",
   "metadata": {},
   "outputs": [
    {
     "data": {
      "text/plain": [
       "3"
      ]
     },
     "execution_count": 52,
     "metadata": {},
     "output_type": "execute_result"
    }
   ],
   "source": [
    "x[1]"
   ]
  },
  {
   "cell_type": "code",
   "execution_count": 53,
   "id": "8dfab472",
   "metadata": {},
   "outputs": [
    {
     "data": {
      "text/plain": [
       "3"
      ]
     },
     "execution_count": 53,
     "metadata": {},
     "output_type": "execute_result"
    }
   ],
   "source": [
    "sample_tuple[3][1]"
   ]
  },
  {
   "cell_type": "code",
   "execution_count": 55,
   "id": "68ddf114",
   "metadata": {},
   "outputs": [],
   "source": [
    "names = [\"Priyanka\",\"Ankita\"]\n",
    "marks = [80,76]"
   ]
  },
  {
   "cell_type": "code",
   "execution_count": 56,
   "id": "55de8242",
   "metadata": {},
   "outputs": [],
   "source": [
    "marks_dict = {\"Priyanka\":80,\"Ankita\":76}"
   ]
  },
  {
   "cell_type": "code",
   "execution_count": 61,
   "id": "8c6267de",
   "metadata": {},
   "outputs": [],
   "source": [
    "marks_dict = {\n",
    "    \n",
    "    \"Priyanka\":{\n",
    "        \"physics\":80,\n",
    "        \"chemistry\":90\n",
    "    },\n",
    "    \"ANkita\":{\n",
    "        \"physics\":80,\n",
    "        \"chemistry\":90\n",
    "    }\n",
    "    \n",
    "    \n",
    "    \n",
    "}"
   ]
  },
  {
   "cell_type": "code",
   "execution_count": 62,
   "id": "cfd47c67",
   "metadata": {},
   "outputs": [
    {
     "name": "stdout",
     "output_type": "stream",
     "text": [
      "{'Priyanka': {'physics': 80, 'chemistry': 90}, 'ANkita': {'physics': 80, 'chemistry': 90}}\n"
     ]
    }
   ],
   "source": [
    "print(marks_dict)"
   ]
  },
  {
   "cell_type": "code",
   "execution_count": 64,
   "id": "31d1a184",
   "metadata": {},
   "outputs": [
    {
     "data": {
      "text/plain": [
       "90"
      ]
     },
     "execution_count": 64,
     "metadata": {},
     "output_type": "execute_result"
    }
   ],
   "source": [
    "marks_dict['Priyanka']['chemistry']"
   ]
  },
  {
   "cell_type": "code",
   "execution_count": 66,
   "id": "ecfb5962",
   "metadata": {},
   "outputs": [
    {
     "data": {
      "text/plain": [
       "80"
      ]
     },
     "execution_count": 66,
     "metadata": {},
     "output_type": "execute_result"
    }
   ],
   "source": [
    "marks_dict[\"ANkita\"]['physics']"
   ]
  },
  {
   "cell_type": "code",
   "execution_count": null,
   "id": "53b96a4c",
   "metadata": {},
   "outputs": [],
   "source": []
  },
  {
   "cell_type": "code",
   "execution_count": 57,
   "id": "0b64af52",
   "metadata": {},
   "outputs": [
    {
     "data": {
      "text/plain": [
       "dict"
      ]
     },
     "execution_count": 57,
     "metadata": {},
     "output_type": "execute_result"
    }
   ],
   "source": [
    "type(marks_dict)"
   ]
  },
  {
   "cell_type": "code",
   "execution_count": 58,
   "id": "44c48491",
   "metadata": {},
   "outputs": [
    {
     "data": {
      "text/plain": [
       "76"
      ]
     },
     "execution_count": 58,
     "metadata": {},
     "output_type": "execute_result"
    }
   ],
   "source": [
    "marks_dict[\"Ankita\"]"
   ]
  },
  {
   "cell_type": "code",
   "execution_count": 60,
   "id": "97eae520",
   "metadata": {},
   "outputs": [
    {
     "ename": "KeyError",
     "evalue": "80",
     "output_type": "error",
     "traceback": [
      "\u001b[1;31m---------------------------------------------------------------------------\u001b[0m",
      "\u001b[1;31mKeyError\u001b[0m                                  Traceback (most recent call last)",
      "Input \u001b[1;32mIn [60]\u001b[0m, in \u001b[0;36m<cell line: 1>\u001b[1;34m()\u001b[0m\n\u001b[1;32m----> 1\u001b[0m \u001b[43mmarks_dict\u001b[49m\u001b[43m[\u001b[49m\u001b[38;5;241;43m80\u001b[39;49m\u001b[43m]\u001b[49m\n",
      "\u001b[1;31mKeyError\u001b[0m: 80"
     ]
    }
   ],
   "source": [
    "marks_dict[80]"
   ]
  },
  {
   "cell_type": "code",
   "execution_count": null,
   "id": "970be146",
   "metadata": {},
   "outputs": [],
   "source": []
  }
 ],
 "metadata": {
  "kernelspec": {
   "display_name": "Python 3 (ipykernel)",
   "language": "python",
   "name": "python3"
  },
  "language_info": {
   "codemirror_mode": {
    "name": "ipython",
    "version": 3
   },
   "file_extension": ".py",
   "mimetype": "text/x-python",
   "name": "python",
   "nbconvert_exporter": "python",
   "pygments_lexer": "ipython3",
   "version": "3.10.7"
  }
 },
 "nbformat": 4,
 "nbformat_minor": 5
}
