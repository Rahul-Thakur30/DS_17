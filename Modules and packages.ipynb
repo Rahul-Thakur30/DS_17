{
 "cells": [
  {
   "cell_type": "code",
   "execution_count": 1,
   "id": "6bf7622a",
   "metadata": {},
   "outputs": [],
   "source": [
    "from geometry import square,circle"
   ]
  },
  {
   "cell_type": "code",
   "execution_count": 3,
   "id": "47150084",
   "metadata": {},
   "outputs": [
    {
     "name": "stdout",
     "output_type": "stream",
     "text": [
      "Area of square: 64\n",
      "Perimeter of square: 32\n"
     ]
    }
   ],
   "source": [
    "side = 8\n",
    "print(\"Area of square:\",square.area_of_square(side))\n",
    "print(\"Perimeter of square:\",square.perimeter_of_square(side))\n"
   ]
  },
  {
   "cell_type": "code",
   "execution_count": 6,
   "id": "6933efd7",
   "metadata": {},
   "outputs": [
    {
     "name": "stdout",
     "output_type": "stream",
     "text": [
      "Area of circle: 28.274333882308138\n",
      "Perimeter of circle: 18.84955592153876\n"
     ]
    }
   ],
   "source": [
    "radius = 3\n",
    "print(\"Area of circle:\",circle.area_of_circle(radius))\n",
    "print(\"Perimeter of circle:\",circle.perimeter_of_circle(radius))\n"
   ]
  },
  {
   "cell_type": "code",
   "execution_count": 6,
   "id": "06816ce3",
   "metadata": {},
   "outputs": [],
   "source": [
    "import sys"
   ]
  },
  {
   "cell_type": "code",
   "execution_count": null,
   "id": "912d861f",
   "metadata": {},
   "outputs": [],
   "source": [
    "sys.path.append(r'C:\\Users\\rahul\\Desktop\\Edyoda_Python')"
   ]
  },
  {
   "cell_type": "code",
   "execution_count": 1,
   "id": "00473c5a",
   "metadata": {},
   "outputs": [],
   "source": [
    "from geometry.circle import circle_name"
   ]
  },
  {
   "cell_type": "code",
   "execution_count": 2,
   "id": "e3d80329",
   "metadata": {},
   "outputs": [
    {
     "data": {
      "text/plain": [
       "'It is a dummy variable'"
      ]
     },
     "execution_count": 2,
     "metadata": {},
     "output_type": "execute_result"
    }
   ],
   "source": [
    "circle_name"
   ]
  },
  {
   "cell_type": "code",
   "execution_count": 4,
   "id": "d3f60ab6",
   "metadata": {},
   "outputs": [],
   "source": [
    "import geometry.circle as gc"
   ]
  },
  {
   "cell_type": "code",
   "execution_count": 5,
   "id": "8c716cf5",
   "metadata": {},
   "outputs": [
    {
     "data": {
      "text/plain": [
       "<module 'geometry.circle' from 'C:\\\\Users\\\\rahul\\\\Desktop\\\\Edyoda_Python\\\\DS_17\\\\geometry\\\\circle.py'>"
      ]
     },
     "execution_count": 5,
     "metadata": {},
     "output_type": "execute_result"
    }
   ],
   "source": [
    "gc."
   ]
  },
  {
   "cell_type": "code",
   "execution_count": 8,
   "id": "aac12ad7",
   "metadata": {},
   "outputs": [],
   "source": [
    "import pandas as pd"
   ]
  },
  {
   "cell_type": "code",
   "execution_count": 9,
   "id": "1bb6fa7f",
   "metadata": {},
   "outputs": [
    {
     "data": {
      "text/html": [
       "<div>\n",
       "<style scoped>\n",
       "    .dataframe tbody tr th:only-of-type {\n",
       "        vertical-align: middle;\n",
       "    }\n",
       "\n",
       "    .dataframe tbody tr th {\n",
       "        vertical-align: top;\n",
       "    }\n",
       "\n",
       "    .dataframe thead th {\n",
       "        text-align: right;\n",
       "    }\n",
       "</style>\n",
       "<table border=\"1\" class=\"dataframe\">\n",
       "  <thead>\n",
       "    <tr style=\"text-align: right;\">\n",
       "      <th></th>\n",
       "    </tr>\n",
       "  </thead>\n",
       "  <tbody>\n",
       "  </tbody>\n",
       "</table>\n",
       "</div>"
      ],
      "text/plain": [
       "Empty DataFrame\n",
       "Columns: []\n",
       "Index: []"
      ]
     },
     "execution_count": 9,
     "metadata": {},
     "output_type": "execute_result"
    }
   ],
   "source": [
    "pd.DataFrame()"
   ]
  },
  {
   "cell_type": "code",
   "execution_count": null,
   "id": "579dd506",
   "metadata": {},
   "outputs": [],
   "source": []
  }
 ],
 "metadata": {
  "kernelspec": {
   "display_name": "Python 3 (ipykernel)",
   "language": "python",
   "name": "python3"
  },
  "language_info": {
   "codemirror_mode": {
    "name": "ipython",
    "version": 3
   },
   "file_extension": ".py",
   "mimetype": "text/x-python",
   "name": "python",
   "nbconvert_exporter": "python",
   "pygments_lexer": "ipython3",
   "version": "3.10.7"
  }
 },
 "nbformat": 4,
 "nbformat_minor": 5
}
