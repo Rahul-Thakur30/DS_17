{
 "cells": [
  {
   "cell_type": "code",
   "execution_count": 2,
   "id": "eb5b84d5",
   "metadata": {},
   "outputs": [],
   "source": [
    "## iteration or looping over dictionaries"
   ]
  },
  {
   "cell_type": "code",
   "execution_count": 3,
   "id": "3320cac9",
   "metadata": {},
   "outputs": [
    {
     "name": "stdout",
     "output_type": "stream",
     "text": [
      "Prithvi\n",
      "Royal\n",
      "Raj\n"
     ]
    }
   ],
   "source": [
    "for student in student_marks:\n",
    "    print(student)"
   ]
  },
  {
   "cell_type": "code",
   "execution_count": 5,
   "id": "1295fa97",
   "metadata": {},
   "outputs": [
    {
     "data": {
      "text/plain": [
       "dict_items([('Prithvi', 90), ('Royal', 78), ('Raj', 99)])"
      ]
     },
     "execution_count": 5,
     "metadata": {},
     "output_type": "execute_result"
    }
   ],
   "source": [
    "student_marks.items()"
   ]
  },
  {
   "cell_type": "code",
   "execution_count": null,
   "id": "2df9b3e7",
   "metadata": {},
   "outputs": [],
   "source": []
  },
  {
   "cell_type": "code",
   "execution_count": 1,
   "id": "609542e3",
   "metadata": {},
   "outputs": [],
   "source": [
    "student_marks = {\"Prithvi\":90,\"Royal\":78,\"Raj\":99}"
   ]
  },
  {
   "cell_type": "code",
   "execution_count": 4,
   "id": "ec8ae4ad",
   "metadata": {},
   "outputs": [
    {
     "name": "stdout",
     "output_type": "stream",
     "text": [
      "Prithvi ------> 90\n",
      "Royal ------> 78\n",
      "Raj ------> 99\n"
     ]
    }
   ],
   "source": [
    "for student in student_marks:\n",
    "    print(student,\"------>\",student_marks[student])"
   ]
  },
  {
   "cell_type": "code",
   "execution_count": 6,
   "id": "e09d4f59",
   "metadata": {},
   "outputs": [
    {
     "name": "stdout",
     "output_type": "stream",
     "text": [
      "Prithvi ---------> 90\n",
      "Royal ---------> 78\n",
      "Raj ---------> 99\n"
     ]
    }
   ],
   "source": [
    "for student,marks in student_marks.items():\n",
    "    print(student,\"--------->\",marks)"
   ]
  },
  {
   "cell_type": "code",
   "execution_count": 9,
   "id": "eda56f7d",
   "metadata": {},
   "outputs": [
    {
     "name": "stdout",
     "output_type": "stream",
     "text": [
      "Prithvi ------> 90\n",
      "Royal ------> 78\n",
      "Raj ------> 99\n"
     ]
    }
   ],
   "source": [
    "for student in student_marks.keys():\n",
    "    print(student,\"------>\",student_marks[student])"
   ]
  },
  {
   "cell_type": "code",
   "execution_count": 8,
   "id": "d94001ae",
   "metadata": {},
   "outputs": [
    {
     "data": {
      "text/plain": [
       "dict_keys(['Prithvi', 'Royal', 'Raj'])"
      ]
     },
     "execution_count": 8,
     "metadata": {},
     "output_type": "execute_result"
    }
   ],
   "source": [
    "student_marks.keys()"
   ]
  },
  {
   "cell_type": "code",
   "execution_count": null,
   "id": "3692387b",
   "metadata": {},
   "outputs": [],
   "source": []
  },
  {
   "cell_type": "code",
   "execution_count": null,
   "id": "78d37a70",
   "metadata": {},
   "outputs": [],
   "source": []
  },
  {
   "cell_type": "code",
   "execution_count": null,
   "id": "184ad5ec",
   "metadata": {},
   "outputs": [],
   "source": [
    "student attempting multiple quizzes, I want to store the data\n",
    "student_name:quiz_name:marks"
   ]
  },
  {
   "cell_type": "code",
   "execution_count": 10,
   "id": "c3086cdc",
   "metadata": {},
   "outputs": [],
   "source": [
    "marks_dict = {\"Prithvi\":{\"quiz_1\":90,\"quiz_2\":97,\"quiz_3\":54,\"quiz_4\":34},\"Dhanushri\":{\"quiz_1\":90,\"quiz_2\":98,\"quiz_3\":87,\"quiz_4\":65}}"
   ]
  },
  {
   "cell_type": "code",
   "execution_count": 11,
   "id": "70168c71",
   "metadata": {},
   "outputs": [
    {
     "name": "stdout",
     "output_type": "stream",
     "text": [
      "{'Prithvi': {'quiz_1': 90, 'quiz_2': 97, 'quiz_3': 54, 'quiz_4': 34}, 'Dhanushri': {'quiz_1': 90, 'quiz_2': 98, 'quiz_3': 87, 'quiz_4': 65}}\n"
     ]
    }
   ],
   "source": [
    "print(marks_dict)"
   ]
  },
  {
   "cell_type": "code",
   "execution_count": 12,
   "id": "23660f93",
   "metadata": {},
   "outputs": [],
   "source": [
    "from pprint import pprint"
   ]
  },
  {
   "cell_type": "code",
   "execution_count": 15,
   "id": "b7188f39",
   "metadata": {},
   "outputs": [
    {
     "name": "stdout",
     "output_type": "stream",
     "text": [
      "{   'Dhanushri': {'quiz_1': 90, 'quiz_2': 98, 'quiz_3': 87, 'quiz_4': 65},\n",
      "    'Prithvi': {'quiz_1': 90, 'quiz_2': 97, 'quiz_3': 54, 'quiz_4': 34}}\n"
     ]
    }
   ],
   "source": [
    "pprint(marks_dict,indent=4)"
   ]
  },
  {
   "cell_type": "code",
   "execution_count": 16,
   "id": "fe0b4e89",
   "metadata": {},
   "outputs": [
    {
     "data": {
      "text/plain": [
       "{'quiz_1': 90, 'quiz_2': 98, 'quiz_3': 87, 'quiz_4': 65}"
      ]
     },
     "execution_count": 16,
     "metadata": {},
     "output_type": "execute_result"
    }
   ],
   "source": [
    "marks_dict['Dhanushri']"
   ]
  },
  {
   "cell_type": "code",
   "execution_count": 17,
   "id": "6c75e6a3",
   "metadata": {},
   "outputs": [
    {
     "data": {
      "text/plain": [
       "65"
      ]
     },
     "execution_count": 17,
     "metadata": {},
     "output_type": "execute_result"
    }
   ],
   "source": [
    "marks_dict['Dhanushri'][\"quiz_4\"]"
   ]
  },
  {
   "cell_type": "code",
   "execution_count": 18,
   "id": "4e6a90a9",
   "metadata": {},
   "outputs": [
    {
     "data": {
      "text/plain": [
       "54"
      ]
     },
     "execution_count": 18,
     "metadata": {},
     "output_type": "execute_result"
    }
   ],
   "source": [
    "marks_dict[\"Prithvi\"][\"quiz_3\"]"
   ]
  },
  {
   "cell_type": "code",
   "execution_count": 26,
   "id": "06fb662e",
   "metadata": {},
   "outputs": [],
   "source": [
    "marks_dict[\"Darshan\"] = {'quiz_1': 76, 'quiz_2': 54, 'quiz_3': 28, 'quiz_4': 98,\"quiz_5\":98}"
   ]
  },
  {
   "cell_type": "code",
   "execution_count": 56,
   "id": "f0110ddb",
   "metadata": {},
   "outputs": [
    {
     "data": {
      "text/plain": [
       "{'Prithvi': {'quiz_1': 90, 'quiz_2': 97, 'quiz_3': 54, 'quiz_4': 34},\n",
       " 'Dhanushri': {'quiz_1': 90, 'quiz_2': 98, 'quiz_3': 87, 'quiz_4': 65},\n",
       " 'Darshan': {'quiz_1': 76,\n",
       "  'quiz_2': 54,\n",
       "  'quiz_3': 28,\n",
       "  'quiz_4': 98,\n",
       "  'quiz_5': 98},\n",
       " 'Rahul': {'quiz_1': 16,\n",
       "  'quiz_2': 44,\n",
       "  'quiz_3': 38,\n",
       "  'quiz_4': 48,\n",
       "  'quiz_5': 91,\n",
       "  'quiz_6': 89}}"
      ]
     },
     "execution_count": 56,
     "metadata": {},
     "output_type": "execute_result"
    }
   ],
   "source": [
    "marks_dict"
   ]
  },
  {
   "cell_type": "code",
   "execution_count": 23,
   "id": "46c8236b",
   "metadata": {},
   "outputs": [],
   "source": [
    "marks_dict[\"Rahul\"] = {'quiz_1': 16, 'quiz_2': 44, 'quiz_3': 38, 'quiz_4': 48,'quiz_5':91,'quiz_6':89}"
   ]
  },
  {
   "cell_type": "code",
   "execution_count": 25,
   "id": "eb55e56b",
   "metadata": {},
   "outputs": [
    {
     "name": "stdout",
     "output_type": "stream",
     "text": [
      "{'Darshan': {'quiz_1': 76, 'quiz_2': 54, 'quiz_3': 28, 'quiz_4': 98},\n",
      " 'Dhanushri': {'quiz_1': 90, 'quiz_2': 98, 'quiz_3': 87, 'quiz_4': 65},\n",
      " 'Prithvi': {'quiz_1': 90, 'quiz_2': 97, 'quiz_3': 54, 'quiz_4': 34},\n",
      " 'Rahul': {'quiz_1': 16,\n",
      "           'quiz_2': 44,\n",
      "           'quiz_3': 38,\n",
      "           'quiz_4': 48,\n",
      "           'quiz_5': 91,\n",
      "           'quiz_6': 89}}\n"
     ]
    }
   ],
   "source": [
    "pprint(marks_dict)"
   ]
  },
  {
   "cell_type": "code",
   "execution_count": 28,
   "id": "21813369",
   "metadata": {},
   "outputs": [
    {
     "data": {
      "text/plain": [
       "4"
      ]
     },
     "execution_count": 28,
     "metadata": {},
     "output_type": "execute_result"
    }
   ],
   "source": [
    "len(marks_dict)"
   ]
  },
  {
   "cell_type": "code",
   "execution_count": 44,
   "id": "9c74cdad",
   "metadata": {},
   "outputs": [],
   "source": [
    "average_marks = {}\n",
    "for outerkey,outer_val in marks_dict.items():\n",
    "    marks_list = list(outer_val.values())\n",
    "    average_marks[outerkey]=sum(marks_list)/len(marks_list)\n"
   ]
  },
  {
   "cell_type": "code",
   "execution_count": 45,
   "id": "b03b0f0f",
   "metadata": {},
   "outputs": [
    {
     "data": {
      "text/plain": [
       "{'Prithvi': 68.75,\n",
       " 'Dhanushri': 85.0,\n",
       " 'Darshan': 70.8,\n",
       " 'Rahul': 54.333333333333336}"
      ]
     },
     "execution_count": 45,
     "metadata": {},
     "output_type": "execute_result"
    }
   ],
   "source": [
    "average_marks"
   ]
  },
  {
   "cell_type": "code",
   "execution_count": 33,
   "id": "65958b53",
   "metadata": {},
   "outputs": [],
   "source": [
    "outer_val = {'quiz_1': 90, 'quiz_2': 97, 'quiz_3': 54, 'quiz_4': 34}"
   ]
  },
  {
   "cell_type": "code",
   "execution_count": 37,
   "id": "caa18c0c",
   "metadata": {},
   "outputs": [],
   "source": [
    "Prithvi_marks = list(outer_val.values())"
   ]
  },
  {
   "cell_type": "code",
   "execution_count": 38,
   "id": "2b31e6d2",
   "metadata": {},
   "outputs": [
    {
     "data": {
      "text/plain": [
       "[90, 97, 54, 34]"
      ]
     },
     "execution_count": 38,
     "metadata": {},
     "output_type": "execute_result"
    }
   ],
   "source": [
    "Prithvi_marks"
   ]
  },
  {
   "cell_type": "code",
   "execution_count": 40,
   "id": "6233d73f",
   "metadata": {},
   "outputs": [
    {
     "data": {
      "text/plain": [
       "68.75"
      ]
     },
     "execution_count": 40,
     "metadata": {},
     "output_type": "execute_result"
    }
   ],
   "source": [
    "sum(Prithvi_marks)/len(Prithvi_marks)"
   ]
  },
  {
   "cell_type": "code",
   "execution_count": 52,
   "id": "2ef10dff",
   "metadata": {},
   "outputs": [
    {
     "name": "stdout",
     "output_type": "stream",
     "text": [
      "outer key : Prithvi : outer_val :{'quiz_1': 90, 'quiz_2': 97, 'quiz_3': 54, 'quiz_4': 34}\n",
      "outer key : Dhanushri : outer_val :{'quiz_1': 90, 'quiz_2': 98, 'quiz_3': 87, 'quiz_4': 65}\n",
      "outer key : Darshan : outer_val :{'quiz_1': 76, 'quiz_2': 54, 'quiz_3': 28, 'quiz_4': 98, 'quiz_5': 98}\n"
     ]
    }
   ],
   "source": [
    "student_list = []\n",
    "for outer_key,outer_val in marks_dict.items():\n",
    "    if len(outer_val)<6:\n",
    "        print(\"outer key : {0} : outer_val :{1}\".format(outer_key,outer_val))\n",
    "        student_list.append(outer_key)"
   ]
  },
  {
   "cell_type": "code",
   "execution_count": 54,
   "id": "e314ea4a",
   "metadata": {},
   "outputs": [],
   "source": [
    "student_list.sort()"
   ]
  },
  {
   "cell_type": "code",
   "execution_count": 55,
   "id": "8e31effe",
   "metadata": {},
   "outputs": [
    {
     "data": {
      "text/plain": [
       "['Darshan', 'Dhanushri', 'Prithvi']"
      ]
     },
     "execution_count": 55,
     "metadata": {},
     "output_type": "execute_result"
    }
   ],
   "source": [
    "student_list"
   ]
  },
  {
   "cell_type": "code",
   "execution_count": 57,
   "id": "e0d17fc2",
   "metadata": {},
   "outputs": [
    {
     "data": {
      "text/plain": [
       "{'Prithvi': {'quiz_1': 90, 'quiz_2': 97, 'quiz_3': 54, 'quiz_4': 34},\n",
       " 'Dhanushri': {'quiz_1': 90, 'quiz_2': 98, 'quiz_3': 87, 'quiz_4': 65},\n",
       " 'Darshan': {'quiz_1': 76,\n",
       "  'quiz_2': 54,\n",
       "  'quiz_3': 28,\n",
       "  'quiz_4': 98,\n",
       "  'quiz_5': 98},\n",
       " 'Rahul': {'quiz_1': 16,\n",
       "  'quiz_2': 44,\n",
       "  'quiz_3': 38,\n",
       "  'quiz_4': 48,\n",
       "  'quiz_5': 91,\n",
       "  'quiz_6': 89}}"
      ]
     },
     "execution_count": 57,
     "metadata": {},
     "output_type": "execute_result"
    }
   ],
   "source": [
    "marks_dict"
   ]
  },
  {
   "cell_type": "code",
   "execution_count": 61,
   "id": "b91279ec",
   "metadata": {},
   "outputs": [
    {
     "name": "stdout",
     "output_type": "stream",
     "text": [
      "Prithvi 34\n",
      "Dhanushri 65\n",
      "Darshan 98\n",
      "Rahul 48\n"
     ]
    }
   ],
   "source": [
    "for key,val in marks_dict.items():\n",
    "    print(key,val['quiz_4'])"
   ]
  },
  {
   "cell_type": "code",
   "execution_count": 62,
   "id": "9c8991c0",
   "metadata": {},
   "outputs": [],
   "source": [
    "val = {'quiz_1': 90, 'quiz_2': 97, 'quiz_3': 54, 'quiz_4': 34}"
   ]
  },
  {
   "cell_type": "code",
   "execution_count": 68,
   "id": "b914d877",
   "metadata": {},
   "outputs": [
    {
     "data": {
      "text/plain": [
       "68.75"
      ]
     },
     "execution_count": 68,
     "metadata": {},
     "output_type": "execute_result"
    }
   ],
   "source": [
    "sum(list(val.values()))/len(list(val.values()))"
   ]
  },
  {
   "cell_type": "code",
   "execution_count": null,
   "id": "2dc8fa2d",
   "metadata": {},
   "outputs": [],
   "source": []
  }
 ],
 "metadata": {
  "kernelspec": {
   "display_name": "Python 3 (ipykernel)",
   "language": "python",
   "name": "python3"
  },
  "language_info": {
   "codemirror_mode": {
    "name": "ipython",
    "version": 3
   },
   "file_extension": ".py",
   "mimetype": "text/x-python",
   "name": "python",
   "nbconvert_exporter": "python",
   "pygments_lexer": "ipython3",
   "version": "3.10.7"
  }
 },
 "nbformat": 4,
 "nbformat_minor": 5
}
